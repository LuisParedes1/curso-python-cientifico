{
 "cells": [
  {
   "cell_type": "markdown",
   "metadata": {},
   "source": [
    "# Introducción a Python para ciencias e ingenierías (clase 6)\n",
    "\n",
    "\n",
    "Ing. Martín Gaitán\n",
    "\n"
   ]
  },
  {
   "cell_type": "markdown",
   "metadata": {},
   "source": [
    "\n",
    "\n",
    "## Acelerando Python\n",
    "\n",
    "\n",
    "Algunas cosas que hay que saber:\n",
    "\n",
    "- Python es un lenguaje de programación estandarizado que tiene **múltiples implementaciones**\n",
    "- La implementación típica y oficial se llama estrictamente **CPython**, porque está programada en **C**\n",
    "- Existen **otras implementaciones** del estándar: IronPython (.Net), Jython (Java) y hasta una implementación en una versión reducida Python llama **PyPy** (que, de paso, es rapidísima)\n",
    "- Cada versión tiene sus propias ventajas, pero el hecho de que CPython sea C **permite extender con código muy eficiente hecho en C** (o C++)\n",
    "- Pero **programar** en lenguajes de bajo nivel como **C es un *perno* **. \n",
    "\n",
    "\n",
    "\n",
    "\n",
    "![](img/chart.png)\n",
    "\n",
    "## Repaso express de f2py\n",
    "\n",
    "\n",
    "Ya vimos la herramienta F2py que aprovecha que Fortran y CPython se basan en C, y analizando el código fortran genera el \"pegamento\" (cabecesas y código C) para comunicar Python con Fortran. El resultado es un módulo (una extensión) importable desde python, donde las subrutinas fortran se convierten en funciones Python. \n",
    "\n"
   ]
  },
  {
   "cell_type": "code",
   "execution_count": 15,
   "metadata": {},
   "outputs": [
    {
     "name": "stdout",
     "output_type": "stream",
     "text": [
      "Overwriting suma.f90\n"
     ]
    }
   ],
   "source": [
    "%%file suma.f90 \n",
    "\n",
    "subroutine suma2(n, v)\n",
    "    ! Compute the dot product between u and v (length n) and put the result in product\n",
    "     \n",
    "    integer, intent(in) :: n\n",
    "    integer, intent(out) :: v\n",
    "    v = n + 2\n",
    "    \n",
    "end subroutine"
   ]
  },
  {
   "cell_type": "code",
   "execution_count": 16,
   "metadata": {},
   "outputs": [
    {
     "name": "stdout",
     "output_type": "stream",
     "text": [
      "\u001b[39mrunning build\u001b[0m\n",
      "\u001b[39mrunning config_cc\u001b[0m\n",
      "\u001b[39munifing config_cc, config, build_clib, build_ext, build commands --compiler options\u001b[0m\n",
      "\u001b[39mrunning config_fc\u001b[0m\n",
      "\u001b[39munifing config_fc, config, build_clib, build_ext, build commands --fcompiler options\u001b[0m\n",
      "\u001b[39mrunning build_src\u001b[0m\n",
      "\u001b[39mbuild_src\u001b[0m\n",
      "\u001b[39mbuilding extension \"suma\" sources\u001b[0m\n",
      "\u001b[39mf2py options: []\u001b[0m\n",
      "\u001b[39mf2py:> /tmp/tmpq1jzn2hb/src.linux-x86_64-3.4/sumamodule.c\u001b[0m\n",
      "\u001b[39mcreating /tmp/tmpq1jzn2hb/src.linux-x86_64-3.4\u001b[0m\n",
      "Reading fortran codes...\n",
      "\tReading file 'suma.f90' (format:free)\n",
      "Post-processing...\n",
      "\tBlock: suma\n",
      "\t\t\tBlock: suma2\n",
      "Post-processing (stage 2)...\n",
      "Building modules...\n",
      "\tBuilding module \"suma\"...\n",
      "\t\tConstructing wrapper function \"suma2\"...\n",
      "\t\t  v = suma2(n)\n",
      "\tWrote C/API module \"suma\" to file \"/tmp/tmpq1jzn2hb/src.linux-x86_64-3.4/sumamodule.c\"\n",
      "\u001b[39m  adding '/tmp/tmpq1jzn2hb/src.linux-x86_64-3.4/fortranobject.c' to sources.\u001b[0m\n",
      "\u001b[39m  adding '/tmp/tmpq1jzn2hb/src.linux-x86_64-3.4' to include_dirs.\u001b[0m\n",
      "\u001b[39mcopying /home/tin/.virtualenvs/curso/lib/python3.4/site-packages/numpy/f2py/src/fortranobject.c -> /tmp/tmpq1jzn2hb/src.linux-x86_64-3.4\u001b[0m\n",
      "\u001b[39mcopying /home/tin/.virtualenvs/curso/lib/python3.4/site-packages/numpy/f2py/src/fortranobject.h -> /tmp/tmpq1jzn2hb/src.linux-x86_64-3.4\u001b[0m\n",
      "\u001b[39mbuild_src: building npy-pkg config files\u001b[0m\n",
      "\u001b[39mrunning build_ext\u001b[0m\n",
      "\u001b[39mcustomize UnixCCompiler\u001b[0m\n",
      "\u001b[39mcustomize UnixCCompiler using build_ext\u001b[0m\n",
      "\u001b[39mcustomize Gnu95FCompiler\u001b[0m\n",
      "\u001b[39mFound executable /usr/bin/gfortran\u001b[0m\n",
      "\u001b[39mcustomize Gnu95FCompiler\u001b[0m\n",
      "\u001b[39mcustomize Gnu95FCompiler using build_ext\u001b[0m\n",
      "\u001b[39mbuilding 'suma' extension\u001b[0m\n",
      "\u001b[39mcompiling C sources\u001b[0m\n",
      "\u001b[39mC compiler: x86_64-linux-gnu-gcc -pthread -DNDEBUG -g -fwrapv -O2 -Wall -Wstrict-prototypes -g -fstack-protector-strong -Wformat -Werror=format-security -D_FORTIFY_SOURCE=2 -fPIC\n",
      "\u001b[0m\n",
      "\u001b[39mcreating /tmp/tmpq1jzn2hb/tmp\u001b[0m\n",
      "\u001b[39mcreating /tmp/tmpq1jzn2hb/tmp/tmpq1jzn2hb\u001b[0m\n",
      "\u001b[39mcreating /tmp/tmpq1jzn2hb/tmp/tmpq1jzn2hb/src.linux-x86_64-3.4\u001b[0m\n",
      "\u001b[39mcompile options: '-I/tmp/tmpq1jzn2hb/src.linux-x86_64-3.4 -I/home/tin/.virtualenvs/curso/lib/python3.4/site-packages/numpy/core/include -I/usr/include/python3.4m -I/home/tin/.virtualenvs/curso/include/python3.4m -c'\u001b[0m\n",
      "\u001b[39mx86_64-linux-gnu-gcc: /tmp/tmpq1jzn2hb/src.linux-x86_64-3.4/fortranobject.c\u001b[0m\n",
      "In file included from /home/tin/.virtualenvs/curso/lib/python3.4/site-packages/numpy/core/include/numpy/ndarraytypes.h:1804:0,\n",
      "                 from /home/tin/.virtualenvs/curso/lib/python3.4/site-packages/numpy/core/include/numpy/ndarrayobject.h:17,\n",
      "                 from /home/tin/.virtualenvs/curso/lib/python3.4/site-packages/numpy/core/include/numpy/arrayobject.h:4,\n",
      "                 from /tmp/tmpq1jzn2hb/src.linux-x86_64-3.4/fortranobject.h:13,\n",
      "                 from /tmp/tmpq1jzn2hb/src.linux-x86_64-3.4/fortranobject.c:2:\n",
      "/home/tin/.virtualenvs/curso/lib/python3.4/site-packages/numpy/core/include/numpy/npy_1_7_deprecated_api.h:15:2: warning: #warning \"Using deprecated NumPy API, disable it by \" \"#defining NPY_NO_DEPRECATED_API NPY_1_7_API_VERSION\" [-Wcpp]\n",
      " #warning \"Using deprecated NumPy API, disable it by \" \\\n",
      "  ^\n",
      "\u001b[39mx86_64-linux-gnu-gcc: /tmp/tmpq1jzn2hb/src.linux-x86_64-3.4/sumamodule.c\u001b[0m\n",
      "In file included from /home/tin/.virtualenvs/curso/lib/python3.4/site-packages/numpy/core/include/numpy/ndarraytypes.h:1804:0,\n",
      "                 from /home/tin/.virtualenvs/curso/lib/python3.4/site-packages/numpy/core/include/numpy/ndarrayobject.h:17,\n",
      "                 from /home/tin/.virtualenvs/curso/lib/python3.4/site-packages/numpy/core/include/numpy/arrayobject.h:4,\n",
      "                 from /tmp/tmpq1jzn2hb/src.linux-x86_64-3.4/fortranobject.h:13,\n",
      "                 from /tmp/tmpq1jzn2hb/src.linux-x86_64-3.4/sumamodule.c:17:\n",
      "/home/tin/.virtualenvs/curso/lib/python3.4/site-packages/numpy/core/include/numpy/npy_1_7_deprecated_api.h:15:2: warning: #warning \"Using deprecated NumPy API, disable it by \" \"#defining NPY_NO_DEPRECATED_API NPY_1_7_API_VERSION\" [-Wcpp]\n",
      " #warning \"Using deprecated NumPy API, disable it by \" \\\n",
      "  ^\n",
      "\u001b[39mcompiling Fortran sources\u001b[0m\n",
      "\u001b[39mFortran f77 compiler: /usr/bin/gfortran -Wall -g -ffixed-form -fno-second-underscore -fPIC -O3 -funroll-loops\n",
      "Fortran f90 compiler: /usr/bin/gfortran -Wall -g -fno-second-underscore -fPIC -O3 -funroll-loops\n",
      "Fortran fix compiler: /usr/bin/gfortran -Wall -g -ffixed-form -fno-second-underscore -Wall -g -fno-second-underscore -fPIC -O3 -funroll-loops\u001b[0m\n",
      "\u001b[39mcompile options: '-I/tmp/tmpq1jzn2hb/src.linux-x86_64-3.4 -I/home/tin/.virtualenvs/curso/lib/python3.4/site-packages/numpy/core/include -I/usr/include/python3.4m -I/home/tin/.virtualenvs/curso/include/python3.4m -c'\u001b[0m\n",
      "\u001b[39mgfortran:f90: suma.f90\u001b[0m\n",
      "\u001b[39m/usr/bin/gfortran -Wall -g -Wall -g -shared /tmp/tmpq1jzn2hb/tmp/tmpq1jzn2hb/src.linux-x86_64-3.4/sumamodule.o /tmp/tmpq1jzn2hb/tmp/tmpq1jzn2hb/src.linux-x86_64-3.4/fortranobject.o /tmp/tmpq1jzn2hb/suma.o -lgfortran -o ./suma.cpython-34m.so\u001b[0m\n",
      "Removing build directory /tmp/tmpq1jzn2hb\n"
     ]
    }
   ],
   "source": [
    "# Si queres evitar el output podés guardar en una variable\n",
    "# _ = !f2py -m dot_product -c dot_product.f90   \n",
    "!/home/tin/.virtualenvs/curso/bin/f2py3.4 -m suma -c suma.f90 "
   ]
  },
  {
   "cell_type": "code",
   "execution_count": 20,
   "metadata": {},
   "outputs": [
    {
     "data": {
      "text/plain": [
       "12"
      ]
     },
     "execution_count": 20,
     "metadata": {},
     "output_type": "execute_result"
    }
   ],
   "source": [
    "import suma\n",
    "\n",
    "\n",
    "suma.suma2(10)"
   ]
  },
  {
   "cell_type": "code",
   "execution_count": 21,
   "metadata": {},
   "outputs": [
    {
     "name": "stdout",
     "output_type": "stream",
     "text": [
      "Installed fortranmagic.py. To use it, type:\n",
      "  %load_ext fortranmagic\n"
     ]
    }
   ],
   "source": [
    "%install_ext https://raw.githubusercontent.com/mgaitan/fortran_magic/b25685d10a2680e97e4804da260fc261d16f006c/fortranmagic.py"
   ]
  },
  {
   "cell_type": "code",
   "execution_count": 22,
   "metadata": {},
   "outputs": [
    {
     "name": "stdout",
     "output_type": "stream",
     "text": [
      "The fortranmagic extension is already loaded. To reload it, use:\n",
      "  %reload_ext fortranmagic\n"
     ]
    }
   ],
   "source": [
    "%load_ext fortranmagic"
   ]
  },
  {
   "cell_type": "code",
   "execution_count": 23,
   "metadata": {},
   "outputs": [
    {
     "name": "stdout",
     "output_type": "stream",
     "text": [
      "\tBuilding module \"_fortran_magic_498116afcbdbd56648d783b3503286f3\"...\n",
      "\t\tConstructing wrapper function \"f1\"...\n",
      "\t\t  z = f1(x,y)\n",
      "\tWrote C/API module \"_fortran_magic_498116afcbdbd56648d783b3503286f3\" to file \"/tmp/tmpjfxu2rlj/src.linux-x86_64-3.4/_fortran_magic_498116afcbdbd56648d783b3503286f3module.c\"\n"
     ]
    }
   ],
   "source": [
    "%%fortran\n",
    "\n",
    "subroutine f1(x, y, z)\n",
    "    real, intent(in) :: x,y\n",
    "    real, intent(out) :: z\n",
    "\n",
    "    z = sin(x+y)\n",
    "\n",
    "end subroutine f1"
   ]
  },
  {
   "cell_type": "code",
   "execution_count": 24,
   "metadata": {},
   "outputs": [
    {
     "data": {
      "text/plain": [
       "-0.279415488243103"
      ]
     },
     "execution_count": 24,
     "metadata": {},
     "output_type": "execute_result"
    }
   ],
   "source": [
    "f1(4, 2)"
   ]
  },
  {
   "cell_type": "markdown",
   "metadata": {},
   "source": [
    "## Cython\n",
    "\n",
    "Cython es conceptualmente similar: **es un lenguaje** (con su correspondiente compilador), que extiende la sintaxis de Python (python con sabor a C). El **compilador Cython produce código C estándar** listo para ser compilado y usado como una extensión.\n",
    "\n",
    "* código python válido es código cython válido\n",
    "* Se pueden **llamar funciones en C**, o funciones/métodos de C++, **directamente** desde el código en Cython.   \n",
    "* Es posible usar declarar tipos explícitamente (enteros, flotantes, o cualquier tipo de dato).\n",
    "\n",
    "### Instalación\n",
    "\n",
    "\n",
    "    conda install cython\n",
    "\n",
    "o \n",
    "\n",
    "    pip install cython\n",
    "\n",
    "\n",
    "### Hola mundo (versión larga)\n",
    "\n",
    "Por convención, los archivos Cython se guardan con extensión .pyx  (viene de Pyrex, que es el paquete precedente)\n"
   ]
  },
  {
   "cell_type": "code",
   "execution_count": 31,
   "metadata": {
    "scrolled": true
   },
   "outputs": [
    {
     "name": "stdout",
     "output_type": "stream",
     "text": [
      "Overwriting helloworld.pyx\n"
     ]
    }
   ],
   "source": [
    "%%file helloworld.pyx\n",
    "\n",
    "print('Hola Curso, soy Cython. #NiUnaMenos')"
   ]
  },
  {
   "cell_type": "code",
   "execution_count": null,
   "metadata": {
    "collapsed": true
   },
   "outputs": [],
   "source": []
  },
  {
   "cell_type": "markdown",
   "metadata": {},
   "source": [
    "Podemos compilar este código Cython para que genere el código C necesario para crear nuestra extensión Python"
   ]
  },
  {
   "cell_type": "code",
   "execution_count": 32,
   "metadata": {
    "collapsed": true,
    "scrolled": true
   },
   "outputs": [],
   "source": [
    "!cython -a helloworld.pyx"
   ]
  },
  {
   "cell_type": "code",
   "execution_count": 27,
   "metadata": {
    "scrolled": true
   },
   "outputs": [
    {
     "name": "stdout",
     "output_type": "stream",
     "text": [
      "/* Generated by Cython 0.22 */\r\n",
      "\r\n",
      "#define PY_SSIZE_T_CLEAN\r\n",
      "#ifndef CYTHON_USE_PYLONG_INTERNALS\r\n",
      "#ifdef PYLONG_BITS_IN_DIGIT\r\n",
      "#define CYTHON_USE_PYLONG_INTERNALS 0\r\n",
      "#else\r\n",
      "#include \"pyconfig.h\"\r\n",
      "#ifdef PYLONG_BITS_IN_DIGIT\r\n",
      "#define CYTHON_USE_PYLONG_INTERNALS 1\r\n",
      "#else\r\n",
      "#define CYTHON_USE_PYLONG_INTERNALS 0\r\n",
      "#endif\r\n",
      "#endif\r\n",
      "#endif\r\n",
      "#include \"Python.h\"\r\n",
      "#ifndef Py_PYTHON_H\r\n",
      "    #error Python headers needed to compile C extensions, please install development version of Python.\r\n",
      "#elif PY_VERSION_HEX < 0x02060000 || (0x03000000 <= PY_VERSION_HEX && PY_VERSION_HEX < 0x03020000)\r\n",
      "    #error Cython requires Python 2.6+ or Python 3.2+.\r\n",
      "#else\r\n",
      "#define CYTHON_ABI \"0_22\"\r\n",
      "#include <stddef.h>\r\n",
      "#ifndef offsetof\r\n",
      "#define offsetof(type, member) ( (size_t) & ((type*)0) -> member )\r\n",
      "#endif\r\n",
      "#if !defined(WIN32) && !defined(MS_WINDOWS)\r\n",
      "  #ifndef __stdcall\r\n",
      "    #define __stdcall\r\n",
      "  #endif\r\n",
      "  #ifndef __cdecl\r\n",
      "    #define __cdecl\r\n",
      "  #endif\r\n",
      "  #ifndef __fastcall\r\n",
      "    #define __fastcall\r\n",
      "  #endif\r\n",
      "#endif\r\n",
      "#ifndef DL_IMPORT\r\n",
      "  #define DL_IMPORT(t) t\r\n",
      "#endif\r\n",
      "#ifndef DL_EXPORT\r\n",
      "  #define DL_EXPORT(t) t\r\n",
      "#endif\r\n",
      "#ifndef PY_LONG_LONG\r\n",
      "  #define PY_LONG_LONG LONG_LONG\r\n",
      "#endif\r\n",
      "#ifndef Py_HUGE_VAL\r\n",
      "  #define Py_HUGE_VAL HUGE_VAL\r\n",
      "#endif\r\n",
      "#ifdef PYPY_VERSION\r\n",
      "#define CYTHON_COMPILING_IN_PYPY 1\r\n",
      "#define CYTHON_COMPILING_IN_CPYTHON 0\r\n",
      "#else\r\n",
      "#define CYTHON_COMPILING_IN_PYPY 0\r\n",
      "#define CYTHON_COMPILING_IN_CPYTHON 1\r\n",
      "#endif\r\n",
      "#if CYTHON_COMPILING_IN_PYPY && PY_VERSION_HEX < 0x02070600 && !defined(Py_OptimizeFlag)\r\n",
      "#define Py_OptimizeFlag 0\r\n",
      "#endif\r\n",
      "#define __PYX_BUILD_PY_SSIZE_T \"n\"\r\n",
      "#define CYTHON_FORMAT_SSIZE_T \"z\"\r\n",
      "#if PY_MAJOR_VERSION < 3\r\n",
      "  #define __Pyx_BUILTIN_MODULE_NAME \"__builtin__\"\r\n",
      "  #define __Pyx_PyCode_New(a, k, l, s, f, code, c, n, v, fv, cell, fn, name, fline, lnos) \\\r\n",
      "          PyCode_New(a+k, l, s, f, code, c, n, v, fv, cell, fn, name, fline, lnos)\r\n",
      "  #define __Pyx_DefaultClassType PyClass_Type\r\n",
      "#else\r\n",
      "  #define __Pyx_BUILTIN_MODULE_NAME \"builtins\"\r\n",
      "  #define __Pyx_PyCode_New(a, k, l, s, f, code, c, n, v, fv, cell, fn, name, fline, lnos) \\\r\n",
      "          PyCode_New(a, k, l, s, f, code, c, n, v, fv, cell, fn, name, fline, lnos)\r\n",
      "  #define __Pyx_DefaultClassType PyType_Type\r\n",
      "#endif\r\n",
      "#if PY_MAJOR_VERSION >= 3\r\n",
      "  #define Py_TPFLAGS_CHECKTYPES 0\r\n",
      "  #define Py_TPFLAGS_HAVE_INDEX 0\r\n",
      "  #define Py_TPFLAGS_HAVE_NEWBUFFER 0\r\n",
      "#endif\r\n",
      "#if PY_VERSION_HEX < 0x030400a1 && !defined(Py_TPFLAGS_HAVE_FINALIZE)\r\n",
      "  #define Py_TPFLAGS_HAVE_FINALIZE 0\r\n",
      "#endif\r\n",
      "#if PY_VERSION_HEX > 0x03030000 && defined(PyUnicode_KIND)\r\n",
      "  #define CYTHON_PEP393_ENABLED 1\r\n",
      "  #define __Pyx_PyUnicode_READY(op)       (likely(PyUnicode_IS_READY(op)) ? \\\r\n",
      "                                              0 : _PyUnicode_Ready((PyObject *)(op)))\r\n",
      "  #define __Pyx_PyUnicode_GET_LENGTH(u)   PyUnicode_GET_LENGTH(u)\r\n",
      "  #define __Pyx_PyUnicode_READ_CHAR(u, i) PyUnicode_READ_CHAR(u, i)\r\n",
      "  #define __Pyx_PyUnicode_KIND(u)         PyUnicode_KIND(u)\r\n",
      "  #define __Pyx_PyUnicode_DATA(u)         PyUnicode_DATA(u)\r\n",
      "  #define __Pyx_PyUnicode_READ(k, d, i)   PyUnicode_READ(k, d, i)\r\n",
      "#else\r\n",
      "  #define CYTHON_PEP393_ENABLED 0\r\n",
      "  #define __Pyx_PyUnicode_READY(op)       (0)\r\n",
      "  #define __Pyx_PyUnicode_GET_LENGTH(u)   PyUnicode_GET_SIZE(u)\r\n",
      "  #define __Pyx_PyUnicode_READ_CHAR(u, i) ((Py_UCS4)(PyUnicode_AS_UNICODE(u)[i]))\r\n",
      "  #define __Pyx_PyUnicode_KIND(u)         (sizeof(Py_UNICODE))\r\n",
      "  #define __Pyx_PyUnicode_DATA(u)         ((void*)PyUnicode_AS_UNICODE(u))\r\n",
      "  #define __Pyx_PyUnicode_READ(k, d, i)   ((void)(k), (Py_UCS4)(((Py_UNICODE*)d)[i]))\r\n",
      "#endif\r\n",
      "#if CYTHON_COMPILING_IN_PYPY\r\n",
      "  #define __Pyx_PyUnicode_Concat(a, b)      PyNumber_Add(a, b)\r\n",
      "  #define __Pyx_PyUnicode_ConcatSafe(a, b)  PyNumber_Add(a, b)\r\n",
      "  #define __Pyx_PyFrozenSet_Size(s)         PyObject_Size(s)\r\n",
      "#else\r\n",
      "  #define __Pyx_PyUnicode_Concat(a, b)      PyUnicode_Concat(a, b)\r\n",
      "  #define __Pyx_PyUnicode_ConcatSafe(a, b)  ((unlikely((a) == Py_None) || unlikely((b) == Py_None)) ? \\\r\n",
      "      PyNumber_Add(a, b) : __Pyx_PyUnicode_Concat(a, b))\r\n",
      "  #define __Pyx_PyFrozenSet_Size(s)         PySet_Size(s)\r\n",
      "#endif\r\n",
      "#define __Pyx_PyString_FormatSafe(a, b)   ((unlikely((a) == Py_None)) ? PyNumber_Remainder(a, b) : __Pyx_PyString_Format(a, b))\r\n",
      "#define __Pyx_PyUnicode_FormatSafe(a, b)  ((unlikely((a) == Py_None)) ? PyNumber_Remainder(a, b) : PyUnicode_Format(a, b))\r\n",
      "#if PY_MAJOR_VERSION >= 3\r\n",
      "  #define __Pyx_PyString_Format(a, b)  PyUnicode_Format(a, b)\r\n",
      "#else\r\n",
      "  #define __Pyx_PyString_Format(a, b)  PyString_Format(a, b)\r\n",
      "#endif\r\n",
      "#if PY_MAJOR_VERSION >= 3\r\n",
      "  #define PyBaseString_Type            PyUnicode_Type\r\n",
      "  #define PyStringObject               PyUnicodeObject\r\n",
      "  #define PyString_Type                PyUnicode_Type\r\n",
      "  #define PyString_Check               PyUnicode_Check\r\n",
      "  #define PyString_CheckExact          PyUnicode_CheckExact\r\n",
      "#endif\r\n",
      "#if PY_MAJOR_VERSION >= 3\r\n",
      "  #define __Pyx_PyBaseString_Check(obj) PyUnicode_Check(obj)\r\n",
      "  #define __Pyx_PyBaseString_CheckExact(obj) PyUnicode_CheckExact(obj)\r\n",
      "#else\r\n",
      "  #define __Pyx_PyBaseString_Check(obj) (PyString_Check(obj) || PyUnicode_Check(obj))\r\n",
      "  #define __Pyx_PyBaseString_CheckExact(obj) (PyString_CheckExact(obj) || PyUnicode_CheckExact(obj))\r\n",
      "#endif\r\n",
      "#ifndef PySet_CheckExact\r\n",
      "  #define PySet_CheckExact(obj)        (Py_TYPE(obj) == &PySet_Type)\r\n",
      "#endif\r\n",
      "#define __Pyx_TypeCheck(obj, type) PyObject_TypeCheck(obj, (PyTypeObject *)type)\r\n",
      "#if PY_MAJOR_VERSION >= 3\r\n",
      "  #define PyIntObject                  PyLongObject\r\n",
      "  #define PyInt_Type                   PyLong_Type\r\n",
      "  #define PyInt_Check(op)              PyLong_Check(op)\r\n",
      "  #define PyInt_CheckExact(op)         PyLong_CheckExact(op)\r\n",
      "  #define PyInt_FromString             PyLong_FromString\r\n",
      "  #define PyInt_FromUnicode            PyLong_FromUnicode\r\n",
      "  #define PyInt_FromLong               PyLong_FromLong\r\n",
      "  #define PyInt_FromSize_t             PyLong_FromSize_t\r\n",
      "  #define PyInt_FromSsize_t            PyLong_FromSsize_t\r\n",
      "  #define PyInt_AsLong                 PyLong_AsLong\r\n",
      "  #define PyInt_AS_LONG                PyLong_AS_LONG\r\n",
      "  #define PyInt_AsSsize_t              PyLong_AsSsize_t\r\n",
      "  #define PyInt_AsUnsignedLongMask     PyLong_AsUnsignedLongMask\r\n",
      "  #define PyInt_AsUnsignedLongLongMask PyLong_AsUnsignedLongLongMask\r\n",
      "  #define PyNumber_Int                 PyNumber_Long\r\n",
      "#endif\r\n",
      "#if PY_MAJOR_VERSION >= 3\r\n",
      "  #define PyBoolObject                 PyLongObject\r\n",
      "#endif\r\n",
      "#if PY_MAJOR_VERSION >= 3 && CYTHON_COMPILING_IN_PYPY\r\n",
      "  #ifndef PyUnicode_InternFromString\r\n",
      "    #define PyUnicode_InternFromString(s) PyUnicode_FromString(s)\r\n",
      "  #endif\r\n",
      "#endif\r\n",
      "#if PY_VERSION_HEX < 0x030200A4\r\n",
      "  typedef long Py_hash_t;\r\n",
      "  #define __Pyx_PyInt_FromHash_t PyInt_FromLong\r\n",
      "  #define __Pyx_PyInt_AsHash_t   PyInt_AsLong\r\n",
      "#else\r\n",
      "  #define __Pyx_PyInt_FromHash_t PyInt_FromSsize_t\r\n",
      "  #define __Pyx_PyInt_AsHash_t   PyInt_AsSsize_t\r\n",
      "#endif\r\n",
      "#if PY_MAJOR_VERSION >= 3\r\n",
      "  #define __Pyx_PyMethod_New(func, self, klass) ((self) ? PyMethod_New(func, self) : PyInstanceMethod_New(func))\r\n",
      "#else\r\n",
      "  #define __Pyx_PyMethod_New(func, self, klass) PyMethod_New(func, self, klass)\r\n",
      "#endif\r\n",
      "#ifndef CYTHON_INLINE\r\n",
      "  #if defined(__GNUC__)\r\n",
      "    #define CYTHON_INLINE __inline__\r\n",
      "  #elif defined(_MSC_VER)\r\n",
      "    #define CYTHON_INLINE __inline\r\n",
      "  #elif defined (__STDC_VERSION__) && __STDC_VERSION__ >= 199901L\r\n",
      "    #define CYTHON_INLINE inline\r\n",
      "  #else\r\n",
      "    #define CYTHON_INLINE\r\n",
      "  #endif\r\n",
      "#endif\r\n",
      "#ifndef CYTHON_RESTRICT\r\n",
      "  #if defined(__GNUC__)\r\n",
      "    #define CYTHON_RESTRICT __restrict__\r\n",
      "  #elif defined(_MSC_VER) && _MSC_VER >= 1400\r\n",
      "    #define CYTHON_RESTRICT __restrict\r\n",
      "  #elif defined (__STDC_VERSION__) && __STDC_VERSION__ >= 199901L\r\n",
      "    #define CYTHON_RESTRICT restrict\r\n",
      "  #else\r\n",
      "    #define CYTHON_RESTRICT\r\n",
      "  #endif\r\n",
      "#endif\r\n",
      "#ifdef NAN\r\n",
      "#define __PYX_NAN() ((float) NAN)\r\n",
      "#else\r\n",
      "static CYTHON_INLINE float __PYX_NAN() {\r\n",
      "  /* Initialize NaN. The sign is irrelevant, an exponent with all bits 1 and\r\n",
      "   a nonzero mantissa means NaN. If the first bit in the mantissa is 1, it is\r\n",
      "   a quiet NaN. */\r\n",
      "  float value;\r\n",
      "  memset(&value, 0xFF, sizeof(value));\r\n",
      "  return value;\r\n",
      "}\r\n",
      "#endif\r\n",
      "#define __Pyx_void_to_None(void_result) (void_result, Py_INCREF(Py_None), Py_None)\r\n",
      "#ifdef __cplusplus\r\n",
      "template<typename T>\r\n",
      "void __Pyx_call_destructor(T* x) {\r\n",
      "    x->~T();\r\n",
      "}\r\n",
      "template<typename T>\r\n",
      "class __Pyx_FakeReference {\r\n",
      "  public:\r\n",
      "    __Pyx_FakeReference() : ptr(NULL) { }\r\n",
      "    __Pyx_FakeReference(T& ref) : ptr(&ref) { }\r\n",
      "    T *operator->() { return ptr; }\r\n",
      "    operator T&() { return *ptr; }\r\n",
      "  private:\r\n",
      "    T *ptr;\r\n",
      "};\r\n",
      "#endif\r\n",
      "\r\n",
      "\r\n",
      "#if PY_MAJOR_VERSION >= 3\r\n",
      "  #define __Pyx_PyNumber_Divide(x,y)         PyNumber_TrueDivide(x,y)\r\n",
      "  #define __Pyx_PyNumber_InPlaceDivide(x,y)  PyNumber_InPlaceTrueDivide(x,y)\r\n",
      "#else\r\n",
      "  #define __Pyx_PyNumber_Divide(x,y)         PyNumber_Divide(x,y)\r\n",
      "  #define __Pyx_PyNumber_InPlaceDivide(x,y)  PyNumber_InPlaceDivide(x,y)\r\n",
      "#endif\r\n",
      "\r\n",
      "#ifndef __PYX_EXTERN_C\r\n",
      "  #ifdef __cplusplus\r\n",
      "    #define __PYX_EXTERN_C extern \"C\"\r\n",
      "  #else\r\n",
      "    #define __PYX_EXTERN_C extern\r\n",
      "  #endif\r\n",
      "#endif\r\n",
      "\r\n",
      "#if defined(WIN32) || defined(MS_WINDOWS)\r\n",
      "#define _USE_MATH_DEFINES\r\n",
      "#endif\r\n",
      "#include <math.h>\r\n",
      "#define __PYX_HAVE__helloworld\r\n",
      "#define __PYX_HAVE_API__helloworld\r\n",
      "#ifdef _OPENMP\r\n",
      "#include <omp.h>\r\n",
      "#endif /* _OPENMP */\r\n",
      "\r\n",
      "#ifdef PYREX_WITHOUT_ASSERTIONS\r\n",
      "#define CYTHON_WITHOUT_ASSERTIONS\r\n",
      "#endif\r\n",
      "\r\n",
      "#ifndef CYTHON_UNUSED\r\n",
      "# if defined(__GNUC__)\r\n",
      "#   if !(defined(__cplusplus)) || (__GNUC__ > 3 || (__GNUC__ == 3 && __GNUC_MINOR__ >= 4))\r\n",
      "#     define CYTHON_UNUSED __attribute__ ((__unused__))\r\n",
      "#   else\r\n",
      "#     define CYTHON_UNUSED\r\n",
      "#   endif\r\n",
      "# elif defined(__ICC) || (defined(__INTEL_COMPILER) && !defined(_MSC_VER))\r\n",
      "#   define CYTHON_UNUSED __attribute__ ((__unused__))\r\n",
      "# else\r\n",
      "#   define CYTHON_UNUSED\r\n",
      "# endif\r\n",
      "#endif\r\n",
      "typedef struct {PyObject **p; char *s; const Py_ssize_t n; const char* encoding;\r\n",
      "                const char is_unicode; const char is_str; const char intern; } __Pyx_StringTabEntry;\r\n",
      "\r\n",
      "#define __PYX_DEFAULT_STRING_ENCODING_IS_ASCII 0\r\n",
      "#define __PYX_DEFAULT_STRING_ENCODING_IS_DEFAULT 0\r\n",
      "#define __PYX_DEFAULT_STRING_ENCODING \"\"\r\n",
      "#define __Pyx_PyObject_FromString __Pyx_PyBytes_FromString\r\n",
      "#define __Pyx_PyObject_FromStringAndSize __Pyx_PyBytes_FromStringAndSize\r\n",
      "#define __Pyx_fits_Py_ssize_t(v, type, is_signed)  (    \\\r\n",
      "    (sizeof(type) < sizeof(Py_ssize_t))  ||             \\\r\n",
      "    (sizeof(type) > sizeof(Py_ssize_t) &&               \\\r\n",
      "          likely(v < (type)PY_SSIZE_T_MAX ||            \\\r\n",
      "                 v == (type)PY_SSIZE_T_MAX)  &&         \\\r\n",
      "          (!is_signed || likely(v > (type)PY_SSIZE_T_MIN ||       \\\r\n",
      "                                v == (type)PY_SSIZE_T_MIN)))  ||  \\\r\n",
      "    (sizeof(type) == sizeof(Py_ssize_t) &&              \\\r\n",
      "          (is_signed || likely(v < (type)PY_SSIZE_T_MAX ||        \\\r\n",
      "                               v == (type)PY_SSIZE_T_MAX)))  )\r\n",
      "static CYTHON_INLINE char* __Pyx_PyObject_AsString(PyObject*);\r\n",
      "static CYTHON_INLINE char* __Pyx_PyObject_AsStringAndSize(PyObject*, Py_ssize_t* length);\r\n",
      "#define __Pyx_PyByteArray_FromString(s) PyByteArray_FromStringAndSize((const char*)s, strlen((const char*)s))\r\n",
      "#define __Pyx_PyByteArray_FromStringAndSize(s, l) PyByteArray_FromStringAndSize((const char*)s, l)\r\n",
      "#define __Pyx_PyBytes_FromString        PyBytes_FromString\r\n",
      "#define __Pyx_PyBytes_FromStringAndSize PyBytes_FromStringAndSize\r\n",
      "static CYTHON_INLINE PyObject* __Pyx_PyUnicode_FromString(const char*);\r\n",
      "#if PY_MAJOR_VERSION < 3\r\n",
      "    #define __Pyx_PyStr_FromString        __Pyx_PyBytes_FromString\r\n",
      "    #define __Pyx_PyStr_FromStringAndSize __Pyx_PyBytes_FromStringAndSize\r\n",
      "#else\r\n",
      "    #define __Pyx_PyStr_FromString        __Pyx_PyUnicode_FromString\r\n",
      "    #define __Pyx_PyStr_FromStringAndSize __Pyx_PyUnicode_FromStringAndSize\r\n",
      "#endif\r\n",
      "#define __Pyx_PyObject_AsSString(s)    ((signed char*) __Pyx_PyObject_AsString(s))\r\n",
      "#define __Pyx_PyObject_AsUString(s)    ((unsigned char*) __Pyx_PyObject_AsString(s))\r\n",
      "#define __Pyx_PyObject_FromCString(s)  __Pyx_PyObject_FromString((const char*)s)\r\n",
      "#define __Pyx_PyBytes_FromCString(s)   __Pyx_PyBytes_FromString((const char*)s)\r\n",
      "#define __Pyx_PyByteArray_FromCString(s)   __Pyx_PyByteArray_FromString((const char*)s)\r\n",
      "#define __Pyx_PyStr_FromCString(s)     __Pyx_PyStr_FromString((const char*)s)\r\n",
      "#define __Pyx_PyUnicode_FromCString(s) __Pyx_PyUnicode_FromString((const char*)s)\r\n",
      "#if PY_MAJOR_VERSION < 3\r\n",
      "static CYTHON_INLINE size_t __Pyx_Py_UNICODE_strlen(const Py_UNICODE *u)\r\n",
      "{\r\n",
      "    const Py_UNICODE *u_end = u;\r\n",
      "    while (*u_end++) ;\r\n",
      "    return (size_t)(u_end - u - 1);\r\n",
      "}\r\n",
      "#else\r\n",
      "#define __Pyx_Py_UNICODE_strlen Py_UNICODE_strlen\r\n",
      "#endif\r\n",
      "#define __Pyx_PyUnicode_FromUnicode(u)       PyUnicode_FromUnicode(u, __Pyx_Py_UNICODE_strlen(u))\r\n",
      "#define __Pyx_PyUnicode_FromUnicodeAndLength PyUnicode_FromUnicode\r\n",
      "#define __Pyx_PyUnicode_AsUnicode            PyUnicode_AsUnicode\r\n",
      "#define __Pyx_Owned_Py_None(b) (Py_INCREF(Py_None), Py_None)\r\n",
      "#define __Pyx_PyBool_FromLong(b) ((b) ? (Py_INCREF(Py_True), Py_True) : (Py_INCREF(Py_False), Py_False))\r\n",
      "static CYTHON_INLINE int __Pyx_PyObject_IsTrue(PyObject*);\r\n",
      "static CYTHON_INLINE PyObject* __Pyx_PyNumber_Int(PyObject* x);\r\n",
      "static CYTHON_INLINE Py_ssize_t __Pyx_PyIndex_AsSsize_t(PyObject*);\r\n",
      "static CYTHON_INLINE PyObject * __Pyx_PyInt_FromSize_t(size_t);\r\n",
      "#if CYTHON_COMPILING_IN_CPYTHON\r\n",
      "#define __pyx_PyFloat_AsDouble(x) (PyFloat_CheckExact(x) ? PyFloat_AS_DOUBLE(x) : PyFloat_AsDouble(x))\r\n",
      "#else\r\n",
      "#define __pyx_PyFloat_AsDouble(x) PyFloat_AsDouble(x)\r\n",
      "#endif\r\n",
      "#define __pyx_PyFloat_AsFloat(x) ((float) __pyx_PyFloat_AsDouble(x))\r\n",
      "#if PY_MAJOR_VERSION < 3 && __PYX_DEFAULT_STRING_ENCODING_IS_ASCII\r\n",
      "static int __Pyx_sys_getdefaultencoding_not_ascii;\r\n",
      "static int __Pyx_init_sys_getdefaultencoding_params(void) {\r\n",
      "    PyObject* sys;\r\n",
      "    PyObject* default_encoding = NULL;\r\n",
      "    PyObject* ascii_chars_u = NULL;\r\n",
      "    PyObject* ascii_chars_b = NULL;\r\n",
      "    const char* default_encoding_c;\r\n",
      "    sys = PyImport_ImportModule(\"sys\");\r\n",
      "    if (!sys) goto bad;\r\n",
      "    default_encoding = PyObject_CallMethod(sys, (char*) \"getdefaultencoding\", NULL);\r\n",
      "    Py_DECREF(sys);\r\n",
      "    if (!default_encoding) goto bad;\r\n",
      "    default_encoding_c = PyBytes_AsString(default_encoding);\r\n",
      "    if (!default_encoding_c) goto bad;\r\n",
      "    if (strcmp(default_encoding_c, \"ascii\") == 0) {\r\n",
      "        __Pyx_sys_getdefaultencoding_not_ascii = 0;\r\n",
      "    } else {\r\n",
      "        char ascii_chars[128];\r\n",
      "        int c;\r\n",
      "        for (c = 0; c < 128; c++) {\r\n",
      "            ascii_chars[c] = c;\r\n",
      "        }\r\n",
      "        __Pyx_sys_getdefaultencoding_not_ascii = 1;\r\n",
      "        ascii_chars_u = PyUnicode_DecodeASCII(ascii_chars, 128, NULL);\r\n",
      "        if (!ascii_chars_u) goto bad;\r\n",
      "        ascii_chars_b = PyUnicode_AsEncodedString(ascii_chars_u, default_encoding_c, NULL);\r\n",
      "        if (!ascii_chars_b || !PyBytes_Check(ascii_chars_b) || memcmp(ascii_chars, PyBytes_AS_STRING(ascii_chars_b), 128) != 0) {\r\n",
      "            PyErr_Format(\r\n",
      "                PyExc_ValueError,\r\n",
      "                \"This module compiled with c_string_encoding=ascii, but default encoding '%.200s' is not a superset of ascii.\",\r\n",
      "                default_encoding_c);\r\n",
      "            goto bad;\r\n",
      "        }\r\n",
      "        Py_DECREF(ascii_chars_u);\r\n",
      "        Py_DECREF(ascii_chars_b);\r\n",
      "    }\r\n",
      "    Py_DECREF(default_encoding);\r\n",
      "    return 0;\r\n",
      "bad:\r\n",
      "    Py_XDECREF(default_encoding);\r\n",
      "    Py_XDECREF(ascii_chars_u);\r\n",
      "    Py_XDECREF(ascii_chars_b);\r\n",
      "    return -1;\r\n",
      "}\r\n",
      "#endif\r\n",
      "#if __PYX_DEFAULT_STRING_ENCODING_IS_DEFAULT && PY_MAJOR_VERSION >= 3\r\n",
      "#define __Pyx_PyUnicode_FromStringAndSize(c_str, size) PyUnicode_DecodeUTF8(c_str, size, NULL)\r\n",
      "#else\r\n",
      "#define __Pyx_PyUnicode_FromStringAndSize(c_str, size) PyUnicode_Decode(c_str, size, __PYX_DEFAULT_STRING_ENCODING, NULL)\r\n",
      "#if __PYX_DEFAULT_STRING_ENCODING_IS_DEFAULT\r\n",
      "static char* __PYX_DEFAULT_STRING_ENCODING;\r\n",
      "static int __Pyx_init_sys_getdefaultencoding_params(void) {\r\n",
      "    PyObject* sys;\r\n",
      "    PyObject* default_encoding = NULL;\r\n",
      "    char* default_encoding_c;\r\n",
      "    sys = PyImport_ImportModule(\"sys\");\r\n",
      "    if (!sys) goto bad;\r\n",
      "    default_encoding = PyObject_CallMethod(sys, (char*) (const char*) \"getdefaultencoding\", NULL);\r\n",
      "    Py_DECREF(sys);\r\n",
      "    if (!default_encoding) goto bad;\r\n",
      "    default_encoding_c = PyBytes_AsString(default_encoding);\r\n",
      "    if (!default_encoding_c) goto bad;\r\n",
      "    __PYX_DEFAULT_STRING_ENCODING = (char*) malloc(strlen(default_encoding_c));\r\n",
      "    if (!__PYX_DEFAULT_STRING_ENCODING) goto bad;\r\n",
      "    strcpy(__PYX_DEFAULT_STRING_ENCODING, default_encoding_c);\r\n",
      "    Py_DECREF(default_encoding);\r\n",
      "    return 0;\r\n",
      "bad:\r\n",
      "    Py_XDECREF(default_encoding);\r\n",
      "    return -1;\r\n",
      "}\r\n",
      "#endif\r\n",
      "#endif\r\n",
      "\r\n",
      "\r\n",
      "/* Test for GCC > 2.95 */\r\n",
      "#if defined(__GNUC__)     && (__GNUC__ > 2 || (__GNUC__ == 2 && (__GNUC_MINOR__ > 95)))\r\n",
      "  #define likely(x)   __builtin_expect(!!(x), 1)\r\n",
      "  #define unlikely(x) __builtin_expect(!!(x), 0)\r\n",
      "#else /* !__GNUC__ or GCC < 2.95 */\r\n",
      "  #define likely(x)   (x)\r\n",
      "  #define unlikely(x) (x)\r\n",
      "#endif /* __GNUC__ */\r\n",
      "\r\n",
      "static PyObject *__pyx_m;\r\n",
      "static PyObject *__pyx_d;\r\n",
      "static PyObject *__pyx_b;\r\n",
      "static PyObject *__pyx_empty_tuple;\r\n",
      "static PyObject *__pyx_empty_bytes;\r\n",
      "static int __pyx_lineno;\r\n",
      "static int __pyx_clineno = 0;\r\n",
      "static const char * __pyx_cfilenm= __FILE__;\r\n",
      "static const char *__pyx_filename;\r\n",
      "\r\n",
      "\r\n",
      "static const char *__pyx_f[] = {\r\n",
      "  \"helloworld.pyx\",\r\n",
      "};\r\n",
      "\r\n",
      "/*--- Type declarations ---*/\r\n",
      "\r\n",
      "/* --- Runtime support code (head) --- */\r\n",
      "#ifndef CYTHON_REFNANNY\r\n",
      "  #define CYTHON_REFNANNY 0\r\n",
      "#endif\r\n",
      "#if CYTHON_REFNANNY\r\n",
      "  typedef struct {\r\n",
      "    void (*INCREF)(void*, PyObject*, int);\r\n",
      "    void (*DECREF)(void*, PyObject*, int);\r\n",
      "    void (*GOTREF)(void*, PyObject*, int);\r\n",
      "    void (*GIVEREF)(void*, PyObject*, int);\r\n",
      "    void* (*SetupContext)(const char*, int, const char*);\r\n",
      "    void (*FinishContext)(void**);\r\n",
      "  } __Pyx_RefNannyAPIStruct;\r\n",
      "  static __Pyx_RefNannyAPIStruct *__Pyx_RefNanny = NULL;\r\n",
      "  static __Pyx_RefNannyAPIStruct *__Pyx_RefNannyImportAPI(const char *modname);\r\n",
      "  #define __Pyx_RefNannyDeclarations void *__pyx_refnanny = NULL;\r\n",
      "#ifdef WITH_THREAD\r\n",
      "  #define __Pyx_RefNannySetupContext(name, acquire_gil) \\\r\n",
      "          if (acquire_gil) { \\\r\n",
      "              PyGILState_STATE __pyx_gilstate_save = PyGILState_Ensure(); \\\r\n",
      "              __pyx_refnanny = __Pyx_RefNanny->SetupContext((name), __LINE__, __FILE__); \\\r\n",
      "              PyGILState_Release(__pyx_gilstate_save); \\\r\n",
      "          } else { \\\r\n",
      "              __pyx_refnanny = __Pyx_RefNanny->SetupContext((name), __LINE__, __FILE__); \\\r\n",
      "          }\r\n",
      "#else\r\n",
      "  #define __Pyx_RefNannySetupContext(name, acquire_gil) \\\r\n",
      "          __pyx_refnanny = __Pyx_RefNanny->SetupContext((name), __LINE__, __FILE__)\r\n",
      "#endif\r\n",
      "  #define __Pyx_RefNannyFinishContext() \\\r\n",
      "          __Pyx_RefNanny->FinishContext(&__pyx_refnanny)\r\n",
      "  #define __Pyx_INCREF(r)  __Pyx_RefNanny->INCREF(__pyx_refnanny, (PyObject *)(r), __LINE__)\r\n",
      "  #define __Pyx_DECREF(r)  __Pyx_RefNanny->DECREF(__pyx_refnanny, (PyObject *)(r), __LINE__)\r\n",
      "  #define __Pyx_GOTREF(r)  __Pyx_RefNanny->GOTREF(__pyx_refnanny, (PyObject *)(r), __LINE__)\r\n",
      "  #define __Pyx_GIVEREF(r) __Pyx_RefNanny->GIVEREF(__pyx_refnanny, (PyObject *)(r), __LINE__)\r\n",
      "  #define __Pyx_XINCREF(r)  do { if((r) != NULL) {__Pyx_INCREF(r); }} while(0)\r\n",
      "  #define __Pyx_XDECREF(r)  do { if((r) != NULL) {__Pyx_DECREF(r); }} while(0)\r\n",
      "  #define __Pyx_XGOTREF(r)  do { if((r) != NULL) {__Pyx_GOTREF(r); }} while(0)\r\n",
      "  #define __Pyx_XGIVEREF(r) do { if((r) != NULL) {__Pyx_GIVEREF(r);}} while(0)\r\n",
      "#else\r\n",
      "  #define __Pyx_RefNannyDeclarations\r\n",
      "  #define __Pyx_RefNannySetupContext(name, acquire_gil)\r\n",
      "  #define __Pyx_RefNannyFinishContext()\r\n",
      "  #define __Pyx_INCREF(r) Py_INCREF(r)\r\n",
      "  #define __Pyx_DECREF(r) Py_DECREF(r)\r\n",
      "  #define __Pyx_GOTREF(r)\r\n",
      "  #define __Pyx_GIVEREF(r)\r\n",
      "  #define __Pyx_XINCREF(r) Py_XINCREF(r)\r\n",
      "  #define __Pyx_XDECREF(r) Py_XDECREF(r)\r\n",
      "  #define __Pyx_XGOTREF(r)\r\n",
      "  #define __Pyx_XGIVEREF(r)\r\n",
      "#endif\r\n",
      "#define __Pyx_XDECREF_SET(r, v) do {                            \\\r\n",
      "        PyObject *tmp = (PyObject *) r;                         \\\r\n",
      "        r = v; __Pyx_XDECREF(tmp);                              \\\r\n",
      "    } while (0)\r\n",
      "#define __Pyx_DECREF_SET(r, v) do {                             \\\r\n",
      "        PyObject *tmp = (PyObject *) r;                         \\\r\n",
      "        r = v; __Pyx_DECREF(tmp);                               \\\r\n",
      "    } while (0)\r\n",
      "#define __Pyx_CLEAR(r)    do { PyObject* tmp = ((PyObject*)(r)); r = NULL; __Pyx_DECREF(tmp);} while(0)\r\n",
      "#define __Pyx_XCLEAR(r)   do { if((r) != NULL) {PyObject* tmp = ((PyObject*)(r)); r = NULL; __Pyx_DECREF(tmp);}} while(0)\r\n",
      "\r\n",
      "typedef struct {\r\n",
      "    int code_line;\r\n",
      "    PyCodeObject* code_object;\r\n",
      "} __Pyx_CodeObjectCacheEntry;\r\n",
      "struct __Pyx_CodeObjectCache {\r\n",
      "    int count;\r\n",
      "    int max_count;\r\n",
      "    __Pyx_CodeObjectCacheEntry* entries;\r\n",
      "};\r\n",
      "static struct __Pyx_CodeObjectCache __pyx_code_cache = {0,0,NULL};\r\n",
      "static int __pyx_bisect_code_objects(__Pyx_CodeObjectCacheEntry* entries, int count, int code_line);\r\n",
      "static PyCodeObject *__pyx_find_code_object(int code_line);\r\n",
      "static void __pyx_insert_code_object(int code_line, PyCodeObject* code_object);\r\n",
      "\r\n",
      "static void __Pyx_AddTraceback(const char *funcname, int c_line,\r\n",
      "                               int py_line, const char *filename);\r\n",
      "\r\n",
      "static int __Pyx_Print(PyObject*, PyObject *, int);\r\n",
      "#if CYTHON_COMPILING_IN_PYPY || PY_MAJOR_VERSION >= 3\r\n",
      "static PyObject* __pyx_print = 0;\r\n",
      "static PyObject* __pyx_print_kwargs = 0;\r\n",
      "#endif\r\n",
      "\r\n",
      "static int __Pyx_PrintOne(PyObject* stream, PyObject *o);\r\n",
      "\r\n",
      "static CYTHON_INLINE PyObject* __Pyx_PyInt_From_long(long value);\r\n",
      "\r\n",
      "static CYTHON_INLINE long __Pyx_PyInt_As_long(PyObject *);\r\n",
      "\r\n",
      "static CYTHON_INLINE int __Pyx_PyInt_As_int(PyObject *);\r\n",
      "\r\n",
      "static int __Pyx_check_binary_version(void);\r\n",
      "\r\n",
      "static int __Pyx_InitStrings(__Pyx_StringTabEntry *t);\r\n",
      "\r\n",
      "\r\n",
      "/* Module declarations from 'helloworld' */\r\n",
      "#define __Pyx_MODULE_NAME \"helloworld\"\r\n",
      "int __pyx_module_is_main_helloworld = 0;\r\n",
      "\r\n",
      "/* Implementation of 'helloworld' */\r\n",
      "static char __pyx_k_end[] = \"end\";\r\n",
      "static char __pyx_k_file[] = \"file\";\r\n",
      "static char __pyx_k_main[] = \"__main__\";\r\n",
      "static char __pyx_k_test[] = \"__test__\";\r\n",
      "static char __pyx_k_print[] = \"print\";\r\n",
      "static char __pyx_k_Hola_Curso_soy_Cython[] = \"Hola Curso, soy Cython\";\r\n",
      "static PyObject *__pyx_kp_s_Hola_Curso_soy_Cython;\r\n",
      "static PyObject *__pyx_n_s_end;\r\n",
      "static PyObject *__pyx_n_s_file;\r\n",
      "static PyObject *__pyx_n_s_main;\r\n",
      "static PyObject *__pyx_n_s_print;\r\n",
      "static PyObject *__pyx_n_s_test;\r\n",
      "\r\n",
      "static PyMethodDef __pyx_methods[] = {\r\n",
      "  {0, 0, 0, 0}\r\n",
      "};\r\n",
      "\r\n",
      "#if PY_MAJOR_VERSION >= 3\r\n",
      "static struct PyModuleDef __pyx_moduledef = {\r\n",
      "  #if PY_VERSION_HEX < 0x03020000\r\n",
      "    { PyObject_HEAD_INIT(NULL) NULL, 0, NULL },\r\n",
      "  #else\r\n",
      "    PyModuleDef_HEAD_INIT,\r\n",
      "  #endif\r\n",
      "    \"helloworld\",\r\n",
      "    0, /* m_doc */\r\n",
      "    -1, /* m_size */\r\n",
      "    __pyx_methods /* m_methods */,\r\n",
      "    NULL, /* m_reload */\r\n",
      "    NULL, /* m_traverse */\r\n",
      "    NULL, /* m_clear */\r\n",
      "    NULL /* m_free */\r\n",
      "};\r\n",
      "#endif\r\n",
      "\r\n",
      "static __Pyx_StringTabEntry __pyx_string_tab[] = {\r\n",
      "  {&__pyx_kp_s_Hola_Curso_soy_Cython, __pyx_k_Hola_Curso_soy_Cython, sizeof(__pyx_k_Hola_Curso_soy_Cython), 0, 0, 1, 0},\r\n",
      "  {&__pyx_n_s_end, __pyx_k_end, sizeof(__pyx_k_end), 0, 0, 1, 1},\r\n",
      "  {&__pyx_n_s_file, __pyx_k_file, sizeof(__pyx_k_file), 0, 0, 1, 1},\r\n",
      "  {&__pyx_n_s_main, __pyx_k_main, sizeof(__pyx_k_main), 0, 0, 1, 1},\r\n",
      "  {&__pyx_n_s_print, __pyx_k_print, sizeof(__pyx_k_print), 0, 0, 1, 1},\r\n",
      "  {&__pyx_n_s_test, __pyx_k_test, sizeof(__pyx_k_test), 0, 0, 1, 1},\r\n",
      "  {0, 0, 0, 0, 0, 0, 0}\r\n",
      "};\r\n",
      "static int __Pyx_InitCachedBuiltins(void) {\r\n",
      "  return 0;\r\n",
      "}\r\n",
      "\r\n",
      "static int __Pyx_InitCachedConstants(void) {\r\n",
      "  __Pyx_RefNannyDeclarations\r\n",
      "  __Pyx_RefNannySetupContext(\"__Pyx_InitCachedConstants\", 0);\r\n",
      "  __Pyx_RefNannyFinishContext();\r\n",
      "  return 0;\r\n",
      "}\r\n",
      "\r\n",
      "static int __Pyx_InitGlobals(void) {\r\n",
      "  if (__Pyx_InitStrings(__pyx_string_tab) < 0) {__pyx_filename = __pyx_f[0]; __pyx_lineno = 2; __pyx_clineno = __LINE__; goto __pyx_L1_error;};\r\n",
      "  return 0;\r\n",
      "  __pyx_L1_error:;\r\n",
      "  return -1;\r\n",
      "}\r\n",
      "\r\n",
      "#if PY_MAJOR_VERSION < 3\r\n",
      "PyMODINIT_FUNC inithelloworld(void); /*proto*/\r\n",
      "PyMODINIT_FUNC inithelloworld(void)\r\n",
      "#else\r\n",
      "PyMODINIT_FUNC PyInit_helloworld(void); /*proto*/\r\n",
      "PyMODINIT_FUNC PyInit_helloworld(void)\r\n",
      "#endif\r\n",
      "{\r\n",
      "  PyObject *__pyx_t_1 = NULL;\r\n",
      "  int __pyx_lineno = 0;\r\n",
      "  const char *__pyx_filename = NULL;\r\n",
      "  int __pyx_clineno = 0;\r\n",
      "  __Pyx_RefNannyDeclarations\r\n",
      "  #if CYTHON_REFNANNY\r\n",
      "  __Pyx_RefNanny = __Pyx_RefNannyImportAPI(\"refnanny\");\r\n",
      "  if (!__Pyx_RefNanny) {\r\n",
      "      PyErr_Clear();\r\n",
      "      __Pyx_RefNanny = __Pyx_RefNannyImportAPI(\"Cython.Runtime.refnanny\");\r\n",
      "      if (!__Pyx_RefNanny)\r\n",
      "          Py_FatalError(\"failed to import 'refnanny' module\");\r\n",
      "  }\r\n",
      "  #endif\r\n",
      "  __Pyx_RefNannySetupContext(\"PyMODINIT_FUNC PyInit_helloworld(void)\", 0);\r\n",
      "  if ( __Pyx_check_binary_version() < 0) {__pyx_filename = __pyx_f[0]; __pyx_lineno = 2; __pyx_clineno = __LINE__; goto __pyx_L1_error;}\r\n",
      "  __pyx_empty_tuple = PyTuple_New(0); if (unlikely(!__pyx_empty_tuple)) {__pyx_filename = __pyx_f[0]; __pyx_lineno = 2; __pyx_clineno = __LINE__; goto __pyx_L1_error;}\r\n",
      "  __pyx_empty_bytes = PyBytes_FromStringAndSize(\"\", 0); if (unlikely(!__pyx_empty_bytes)) {__pyx_filename = __pyx_f[0]; __pyx_lineno = 2; __pyx_clineno = __LINE__; goto __pyx_L1_error;}\r\n",
      "  #ifdef __Pyx_CyFunction_USED\r\n",
      "  if (__Pyx_CyFunction_init() < 0) {__pyx_filename = __pyx_f[0]; __pyx_lineno = 2; __pyx_clineno = __LINE__; goto __pyx_L1_error;}\r\n",
      "  #endif\r\n",
      "  #ifdef __Pyx_FusedFunction_USED\r\n",
      "  if (__pyx_FusedFunction_init() < 0) {__pyx_filename = __pyx_f[0]; __pyx_lineno = 2; __pyx_clineno = __LINE__; goto __pyx_L1_error;}\r\n",
      "  #endif\r\n",
      "  #ifdef __Pyx_Generator_USED\r\n",
      "  if (__pyx_Generator_init() < 0) {__pyx_filename = __pyx_f[0]; __pyx_lineno = 2; __pyx_clineno = __LINE__; goto __pyx_L1_error;}\r\n",
      "  #endif\r\n",
      "  /*--- Library function declarations ---*/\r\n",
      "  /*--- Threads initialization code ---*/\r\n",
      "  #if defined(__PYX_FORCE_INIT_THREADS) && __PYX_FORCE_INIT_THREADS\r\n",
      "  #ifdef WITH_THREAD /* Python build with threading support? */\r\n",
      "  PyEval_InitThreads();\r\n",
      "  #endif\r\n",
      "  #endif\r\n",
      "  /*--- Module creation code ---*/\r\n",
      "  #if PY_MAJOR_VERSION < 3\r\n",
      "  __pyx_m = Py_InitModule4(\"helloworld\", __pyx_methods, 0, 0, PYTHON_API_VERSION); Py_XINCREF(__pyx_m);\r\n",
      "  #else\r\n",
      "  __pyx_m = PyModule_Create(&__pyx_moduledef);\r\n",
      "  #endif\r\n",
      "  if (unlikely(!__pyx_m)) {__pyx_filename = __pyx_f[0]; __pyx_lineno = 2; __pyx_clineno = __LINE__; goto __pyx_L1_error;}\r\n",
      "  __pyx_d = PyModule_GetDict(__pyx_m); if (unlikely(!__pyx_d)) {__pyx_filename = __pyx_f[0]; __pyx_lineno = 2; __pyx_clineno = __LINE__; goto __pyx_L1_error;}\r\n",
      "  Py_INCREF(__pyx_d);\r\n",
      "  __pyx_b = PyImport_AddModule(__Pyx_BUILTIN_MODULE_NAME); if (unlikely(!__pyx_b)) {__pyx_filename = __pyx_f[0]; __pyx_lineno = 2; __pyx_clineno = __LINE__; goto __pyx_L1_error;}\r\n",
      "  #if CYTHON_COMPILING_IN_PYPY\r\n",
      "  Py_INCREF(__pyx_b);\r\n",
      "  #endif\r\n",
      "  if (PyObject_SetAttrString(__pyx_m, \"__builtins__\", __pyx_b) < 0) {__pyx_filename = __pyx_f[0]; __pyx_lineno = 2; __pyx_clineno = __LINE__; goto __pyx_L1_error;};\r\n",
      "  /*--- Initialize various global constants etc. ---*/\r\n",
      "  if (unlikely(__Pyx_InitGlobals() < 0)) {__pyx_filename = __pyx_f[0]; __pyx_lineno = 2; __pyx_clineno = __LINE__; goto __pyx_L1_error;}\r\n",
      "  #if PY_MAJOR_VERSION < 3 && (__PYX_DEFAULT_STRING_ENCODING_IS_ASCII || __PYX_DEFAULT_STRING_ENCODING_IS_DEFAULT)\r\n",
      "  if (__Pyx_init_sys_getdefaultencoding_params() < 0) {__pyx_filename = __pyx_f[0]; __pyx_lineno = 2; __pyx_clineno = __LINE__; goto __pyx_L1_error;}\r\n",
      "  #endif\r\n",
      "  if (__pyx_module_is_main_helloworld) {\r\n",
      "    if (PyObject_SetAttrString(__pyx_m, \"__name__\", __pyx_n_s_main) < 0) {__pyx_filename = __pyx_f[0]; __pyx_lineno = 2; __pyx_clineno = __LINE__; goto __pyx_L1_error;};\r\n",
      "  }\r\n",
      "  #if PY_MAJOR_VERSION >= 3\r\n",
      "  {\r\n",
      "    PyObject *modules = PyImport_GetModuleDict(); if (unlikely(!modules)) {__pyx_filename = __pyx_f[0]; __pyx_lineno = 2; __pyx_clineno = __LINE__; goto __pyx_L1_error;}\r\n",
      "    if (!PyDict_GetItemString(modules, \"helloworld\")) {\r\n",
      "      if (unlikely(PyDict_SetItemString(modules, \"helloworld\", __pyx_m) < 0)) {__pyx_filename = __pyx_f[0]; __pyx_lineno = 2; __pyx_clineno = __LINE__; goto __pyx_L1_error;}\r\n",
      "    }\r\n",
      "  }\r\n",
      "  #endif\r\n",
      "  /*--- Builtin init code ---*/\r\n",
      "  if (unlikely(__Pyx_InitCachedBuiltins() < 0)) {__pyx_filename = __pyx_f[0]; __pyx_lineno = 2; __pyx_clineno = __LINE__; goto __pyx_L1_error;}\r\n",
      "  /*--- Constants init code ---*/\r\n",
      "  if (unlikely(__Pyx_InitCachedConstants() < 0)) {__pyx_filename = __pyx_f[0]; __pyx_lineno = 2; __pyx_clineno = __LINE__; goto __pyx_L1_error;}\r\n",
      "  /*--- Global init code ---*/\r\n",
      "  /*--- Variable export code ---*/\r\n",
      "  /*--- Function export code ---*/\r\n",
      "  /*--- Type init code ---*/\r\n",
      "  /*--- Type import code ---*/\r\n",
      "  /*--- Variable import code ---*/\r\n",
      "  /*--- Function import code ---*/\r\n",
      "  /*--- Execution code ---*/\r\n",
      "\r\n",
      "  /* \"helloworld.pyx\":2\r\n",
      " * \r\n",
      " * print('Hola Curso, soy Cython')             # <<<<<<<<<<<<<<\r\n",
      " */\r\n",
      "  if (__Pyx_PrintOne(0, __pyx_kp_s_Hola_Curso_soy_Cython) < 0) {__pyx_filename = __pyx_f[0]; __pyx_lineno = 2; __pyx_clineno = __LINE__; goto __pyx_L1_error;}\r\n",
      "  __pyx_t_1 = PyDict_New(); if (unlikely(!__pyx_t_1)) {__pyx_filename = __pyx_f[0]; __pyx_lineno = 2; __pyx_clineno = __LINE__; goto __pyx_L1_error;}\r\n",
      "  __Pyx_GOTREF(__pyx_t_1);\r\n",
      "  if (PyDict_SetItem(__pyx_d, __pyx_n_s_test, __pyx_t_1) < 0) {__pyx_filename = __pyx_f[0]; __pyx_lineno = 2; __pyx_clineno = __LINE__; goto __pyx_L1_error;}\r\n",
      "  __Pyx_DECREF(__pyx_t_1); __pyx_t_1 = 0;\r\n",
      "\r\n",
      "  /*--- Wrapped vars code ---*/\r\n",
      "\r\n",
      "  goto __pyx_L0;\r\n",
      "  __pyx_L1_error:;\r\n",
      "  __Pyx_XDECREF(__pyx_t_1);\r\n",
      "  if (__pyx_m) {\r\n",
      "    if (__pyx_d) {\r\n",
      "      __Pyx_AddTraceback(\"init helloworld\", __pyx_clineno, __pyx_lineno, __pyx_filename);\r\n",
      "    }\r\n",
      "    Py_DECREF(__pyx_m); __pyx_m = 0;\r\n",
      "  } else if (!PyErr_Occurred()) {\r\n",
      "    PyErr_SetString(PyExc_ImportError, \"init helloworld\");\r\n",
      "  }\r\n",
      "  __pyx_L0:;\r\n",
      "  __Pyx_RefNannyFinishContext();\r\n",
      "  #if PY_MAJOR_VERSION < 3\r\n",
      "  return;\r\n",
      "  #else\r\n",
      "  return __pyx_m;\r\n",
      "  #endif\r\n",
      "}\r\n",
      "\r\n",
      "/* --- Runtime support code --- */\r\n",
      "#if CYTHON_REFNANNY\r\n",
      "static __Pyx_RefNannyAPIStruct *__Pyx_RefNannyImportAPI(const char *modname) {\r\n",
      "    PyObject *m = NULL, *p = NULL;\r\n",
      "    void *r = NULL;\r\n",
      "    m = PyImport_ImportModule((char *)modname);\r\n",
      "    if (!m) goto end;\r\n",
      "    p = PyObject_GetAttrString(m, (char *)\"RefNannyAPI\");\r\n",
      "    if (!p) goto end;\r\n",
      "    r = PyLong_AsVoidPtr(p);\r\n",
      "end:\r\n",
      "    Py_XDECREF(p);\r\n",
      "    Py_XDECREF(m);\r\n",
      "    return (__Pyx_RefNannyAPIStruct *)r;\r\n",
      "}\r\n",
      "#endif\r\n",
      "\r\n",
      "static int __pyx_bisect_code_objects(__Pyx_CodeObjectCacheEntry* entries, int count, int code_line) {\r\n",
      "    int start = 0, mid = 0, end = count - 1;\r\n",
      "    if (end >= 0 && code_line > entries[end].code_line) {\r\n",
      "        return count;\r\n",
      "    }\r\n",
      "    while (start < end) {\r\n",
      "        mid = (start + end) / 2;\r\n",
      "        if (code_line < entries[mid].code_line) {\r\n",
      "            end = mid;\r\n",
      "        } else if (code_line > entries[mid].code_line) {\r\n",
      "             start = mid + 1;\r\n",
      "        } else {\r\n",
      "            return mid;\r\n",
      "        }\r\n",
      "    }\r\n",
      "    if (code_line <= entries[mid].code_line) {\r\n",
      "        return mid;\r\n",
      "    } else {\r\n",
      "        return mid + 1;\r\n",
      "    }\r\n",
      "}\r\n",
      "static PyCodeObject *__pyx_find_code_object(int code_line) {\r\n",
      "    PyCodeObject* code_object;\r\n",
      "    int pos;\r\n",
      "    if (unlikely(!code_line) || unlikely(!__pyx_code_cache.entries)) {\r\n",
      "        return NULL;\r\n",
      "    }\r\n",
      "    pos = __pyx_bisect_code_objects(__pyx_code_cache.entries, __pyx_code_cache.count, code_line);\r\n",
      "    if (unlikely(pos >= __pyx_code_cache.count) || unlikely(__pyx_code_cache.entries[pos].code_line != code_line)) {\r\n",
      "        return NULL;\r\n",
      "    }\r\n",
      "    code_object = __pyx_code_cache.entries[pos].code_object;\r\n",
      "    Py_INCREF(code_object);\r\n",
      "    return code_object;\r\n",
      "}\r\n",
      "static void __pyx_insert_code_object(int code_line, PyCodeObject* code_object) {\r\n",
      "    int pos, i;\r\n",
      "    __Pyx_CodeObjectCacheEntry* entries = __pyx_code_cache.entries;\r\n",
      "    if (unlikely(!code_line)) {\r\n",
      "        return;\r\n",
      "    }\r\n",
      "    if (unlikely(!entries)) {\r\n",
      "        entries = (__Pyx_CodeObjectCacheEntry*)PyMem_Malloc(64*sizeof(__Pyx_CodeObjectCacheEntry));\r\n",
      "        if (likely(entries)) {\r\n",
      "            __pyx_code_cache.entries = entries;\r\n",
      "            __pyx_code_cache.max_count = 64;\r\n",
      "            __pyx_code_cache.count = 1;\r\n",
      "            entries[0].code_line = code_line;\r\n",
      "            entries[0].code_object = code_object;\r\n",
      "            Py_INCREF(code_object);\r\n",
      "        }\r\n",
      "        return;\r\n",
      "    }\r\n",
      "    pos = __pyx_bisect_code_objects(__pyx_code_cache.entries, __pyx_code_cache.count, code_line);\r\n",
      "    if ((pos < __pyx_code_cache.count) && unlikely(__pyx_code_cache.entries[pos].code_line == code_line)) {\r\n",
      "        PyCodeObject* tmp = entries[pos].code_object;\r\n",
      "        entries[pos].code_object = code_object;\r\n",
      "        Py_DECREF(tmp);\r\n",
      "        return;\r\n",
      "    }\r\n",
      "    if (__pyx_code_cache.count == __pyx_code_cache.max_count) {\r\n",
      "        int new_max = __pyx_code_cache.max_count + 64;\r\n",
      "        entries = (__Pyx_CodeObjectCacheEntry*)PyMem_Realloc(\r\n",
      "            __pyx_code_cache.entries, (size_t)new_max*sizeof(__Pyx_CodeObjectCacheEntry));\r\n",
      "        if (unlikely(!entries)) {\r\n",
      "            return;\r\n",
      "        }\r\n",
      "        __pyx_code_cache.entries = entries;\r\n",
      "        __pyx_code_cache.max_count = new_max;\r\n",
      "    }\r\n",
      "    for (i=__pyx_code_cache.count; i>pos; i--) {\r\n",
      "        entries[i] = entries[i-1];\r\n",
      "    }\r\n",
      "    entries[pos].code_line = code_line;\r\n",
      "    entries[pos].code_object = code_object;\r\n",
      "    __pyx_code_cache.count++;\r\n",
      "    Py_INCREF(code_object);\r\n",
      "}\r\n",
      "\r\n",
      "#include \"compile.h\"\r\n",
      "#include \"frameobject.h\"\r\n",
      "#include \"traceback.h\"\r\n",
      "static PyCodeObject* __Pyx_CreateCodeObjectForTraceback(\r\n",
      "            const char *funcname, int c_line,\r\n",
      "            int py_line, const char *filename) {\r\n",
      "    PyCodeObject *py_code = 0;\r\n",
      "    PyObject *py_srcfile = 0;\r\n",
      "    PyObject *py_funcname = 0;\r\n",
      "    #if PY_MAJOR_VERSION < 3\r\n",
      "    py_srcfile = PyString_FromString(filename);\r\n",
      "    #else\r\n",
      "    py_srcfile = PyUnicode_FromString(filename);\r\n",
      "    #endif\r\n",
      "    if (!py_srcfile) goto bad;\r\n",
      "    if (c_line) {\r\n",
      "        #if PY_MAJOR_VERSION < 3\r\n",
      "        py_funcname = PyString_FromFormat( \"%s (%s:%d)\", funcname, __pyx_cfilenm, c_line);\r\n",
      "        #else\r\n",
      "        py_funcname = PyUnicode_FromFormat( \"%s (%s:%d)\", funcname, __pyx_cfilenm, c_line);\r\n",
      "        #endif\r\n",
      "    }\r\n",
      "    else {\r\n",
      "        #if PY_MAJOR_VERSION < 3\r\n",
      "        py_funcname = PyString_FromString(funcname);\r\n",
      "        #else\r\n",
      "        py_funcname = PyUnicode_FromString(funcname);\r\n",
      "        #endif\r\n",
      "    }\r\n",
      "    if (!py_funcname) goto bad;\r\n",
      "    py_code = __Pyx_PyCode_New(\r\n",
      "        0,\r\n",
      "        0,\r\n",
      "        0,\r\n",
      "        0,\r\n",
      "        0,\r\n",
      "        __pyx_empty_bytes, /*PyObject *code,*/\r\n",
      "        __pyx_empty_tuple, /*PyObject *consts,*/\r\n",
      "        __pyx_empty_tuple, /*PyObject *names,*/\r\n",
      "        __pyx_empty_tuple, /*PyObject *varnames,*/\r\n",
      "        __pyx_empty_tuple, /*PyObject *freevars,*/\r\n",
      "        __pyx_empty_tuple, /*PyObject *cellvars,*/\r\n",
      "        py_srcfile,   /*PyObject *filename,*/\r\n",
      "        py_funcname,  /*PyObject *name,*/\r\n",
      "        py_line,\r\n",
      "        __pyx_empty_bytes  /*PyObject *lnotab*/\r\n",
      "    );\r\n",
      "    Py_DECREF(py_srcfile);\r\n",
      "    Py_DECREF(py_funcname);\r\n",
      "    return py_code;\r\n",
      "bad:\r\n",
      "    Py_XDECREF(py_srcfile);\r\n",
      "    Py_XDECREF(py_funcname);\r\n",
      "    return NULL;\r\n",
      "}\r\n",
      "static void __Pyx_AddTraceback(const char *funcname, int c_line,\r\n",
      "                               int py_line, const char *filename) {\r\n",
      "    PyCodeObject *py_code = 0;\r\n",
      "    PyFrameObject *py_frame = 0;\r\n",
      "    py_code = __pyx_find_code_object(c_line ? c_line : py_line);\r\n",
      "    if (!py_code) {\r\n",
      "        py_code = __Pyx_CreateCodeObjectForTraceback(\r\n",
      "            funcname, c_line, py_line, filename);\r\n",
      "        if (!py_code) goto bad;\r\n",
      "        __pyx_insert_code_object(c_line ? c_line : py_line, py_code);\r\n",
      "    }\r\n",
      "    py_frame = PyFrame_New(\r\n",
      "        PyThreadState_GET(), /*PyThreadState *tstate,*/\r\n",
      "        py_code,             /*PyCodeObject *code,*/\r\n",
      "        __pyx_d,      /*PyObject *globals,*/\r\n",
      "        0                    /*PyObject *locals*/\r\n",
      "    );\r\n",
      "    if (!py_frame) goto bad;\r\n",
      "    py_frame->f_lineno = py_line;\r\n",
      "    PyTraceBack_Here(py_frame);\r\n",
      "bad:\r\n",
      "    Py_XDECREF(py_code);\r\n",
      "    Py_XDECREF(py_frame);\r\n",
      "}\r\n",
      "\r\n",
      "#if !CYTHON_COMPILING_IN_PYPY && PY_MAJOR_VERSION < 3\r\n",
      "static PyObject *__Pyx_GetStdout(void) {\r\n",
      "    PyObject *f = PySys_GetObject((char *)\"stdout\");\r\n",
      "    if (!f) {\r\n",
      "        PyErr_SetString(PyExc_RuntimeError, \"lost sys.stdout\");\r\n",
      "    }\r\n",
      "    return f;\r\n",
      "}\r\n",
      "static int __Pyx_Print(PyObject* f, PyObject *arg_tuple, int newline) {\r\n",
      "    int i;\r\n",
      "    if (!f) {\r\n",
      "        if (!(f = __Pyx_GetStdout()))\r\n",
      "            return -1;\r\n",
      "    }\r\n",
      "    Py_INCREF(f);\r\n",
      "    for (i=0; i < PyTuple_GET_SIZE(arg_tuple); i++) {\r\n",
      "        PyObject* v;\r\n",
      "        if (PyFile_SoftSpace(f, 1)) {\r\n",
      "            if (PyFile_WriteString(\" \", f) < 0)\r\n",
      "                goto error;\r\n",
      "        }\r\n",
      "        v = PyTuple_GET_ITEM(arg_tuple, i);\r\n",
      "        if (PyFile_WriteObject(v, f, Py_PRINT_RAW) < 0)\r\n",
      "            goto error;\r\n",
      "        if (PyString_Check(v)) {\r\n",
      "            char *s = PyString_AsString(v);\r\n",
      "            Py_ssize_t len = PyString_Size(v);\r\n",
      "            if (len > 0) {\r\n",
      "                switch (s[len-1]) {\r\n",
      "                    case ' ': break;\r\n",
      "                    case '\\f': case '\\r': case '\\n': case '\\t': case '\\v':\r\n",
      "                        PyFile_SoftSpace(f, 0);\r\n",
      "                        break;\r\n",
      "                    default:  break;\r\n",
      "                }\r\n",
      "            }\r\n",
      "        }\r\n",
      "    }\r\n",
      "    if (newline) {\r\n",
      "        if (PyFile_WriteString(\"\\n\", f) < 0)\r\n",
      "            goto error;\r\n",
      "        PyFile_SoftSpace(f, 0);\r\n",
      "    }\r\n",
      "    Py_DECREF(f);\r\n",
      "    return 0;\r\n",
      "error:\r\n",
      "    Py_DECREF(f);\r\n",
      "    return -1;\r\n",
      "}\r\n",
      "#else\r\n",
      "static int __Pyx_Print(PyObject* stream, PyObject *arg_tuple, int newline) {\r\n",
      "    PyObject* kwargs = 0;\r\n",
      "    PyObject* result = 0;\r\n",
      "    PyObject* end_string;\r\n",
      "    if (unlikely(!__pyx_print)) {\r\n",
      "        __pyx_print = PyObject_GetAttr(__pyx_b, __pyx_n_s_print);\r\n",
      "        if (!__pyx_print)\r\n",
      "            return -1;\r\n",
      "    }\r\n",
      "    if (stream) {\r\n",
      "        kwargs = PyDict_New();\r\n",
      "        if (unlikely(!kwargs))\r\n",
      "            return -1;\r\n",
      "        if (unlikely(PyDict_SetItem(kwargs, __pyx_n_s_file, stream) < 0))\r\n",
      "            goto bad;\r\n",
      "        if (!newline) {\r\n",
      "            end_string = PyUnicode_FromStringAndSize(\" \", 1);\r\n",
      "            if (unlikely(!end_string))\r\n",
      "                goto bad;\r\n",
      "            if (PyDict_SetItem(kwargs, __pyx_n_s_end, end_string) < 0) {\r\n",
      "                Py_DECREF(end_string);\r\n",
      "                goto bad;\r\n",
      "            }\r\n",
      "            Py_DECREF(end_string);\r\n",
      "        }\r\n",
      "    } else if (!newline) {\r\n",
      "        if (unlikely(!__pyx_print_kwargs)) {\r\n",
      "            __pyx_print_kwargs = PyDict_New();\r\n",
      "            if (unlikely(!__pyx_print_kwargs))\r\n",
      "                return -1;\r\n",
      "            end_string = PyUnicode_FromStringAndSize(\" \", 1);\r\n",
      "            if (unlikely(!end_string))\r\n",
      "                return -1;\r\n",
      "            if (PyDict_SetItem(__pyx_print_kwargs, __pyx_n_s_end, end_string) < 0) {\r\n",
      "                Py_DECREF(end_string);\r\n",
      "                return -1;\r\n",
      "            }\r\n",
      "            Py_DECREF(end_string);\r\n",
      "        }\r\n",
      "        kwargs = __pyx_print_kwargs;\r\n",
      "    }\r\n",
      "    result = PyObject_Call(__pyx_print, arg_tuple, kwargs);\r\n",
      "    if (unlikely(kwargs) && (kwargs != __pyx_print_kwargs))\r\n",
      "        Py_DECREF(kwargs);\r\n",
      "    if (!result)\r\n",
      "        return -1;\r\n",
      "    Py_DECREF(result);\r\n",
      "    return 0;\r\n",
      "bad:\r\n",
      "    if (kwargs != __pyx_print_kwargs)\r\n",
      "        Py_XDECREF(kwargs);\r\n",
      "    return -1;\r\n",
      "}\r\n",
      "#endif\r\n",
      "\r\n",
      "#if !CYTHON_COMPILING_IN_PYPY && PY_MAJOR_VERSION < 3\r\n",
      "static int __Pyx_PrintOne(PyObject* f, PyObject *o) {\r\n",
      "    if (!f) {\r\n",
      "        if (!(f = __Pyx_GetStdout()))\r\n",
      "            return -1;\r\n",
      "    }\r\n",
      "    Py_INCREF(f);\r\n",
      "    if (PyFile_SoftSpace(f, 0)) {\r\n",
      "        if (PyFile_WriteString(\" \", f) < 0)\r\n",
      "            goto error;\r\n",
      "    }\r\n",
      "    if (PyFile_WriteObject(o, f, Py_PRINT_RAW) < 0)\r\n",
      "        goto error;\r\n",
      "    if (PyFile_WriteString(\"\\n\", f) < 0)\r\n",
      "        goto error;\r\n",
      "    Py_DECREF(f);\r\n",
      "    return 0;\r\n",
      "error:\r\n",
      "    Py_DECREF(f);\r\n",
      "    return -1;\r\n",
      "    /* the line below is just to avoid C compiler\r\n",
      "     * warnings about unused functions */\r\n",
      "    return __Pyx_Print(f, NULL, 0);\r\n",
      "}\r\n",
      "#else\r\n",
      "static int __Pyx_PrintOne(PyObject* stream, PyObject *o) {\r\n",
      "    int res;\r\n",
      "    PyObject* arg_tuple = PyTuple_Pack(1, o);\r\n",
      "    if (unlikely(!arg_tuple))\r\n",
      "        return -1;\r\n",
      "    res = __Pyx_Print(stream, arg_tuple, 1);\r\n",
      "    Py_DECREF(arg_tuple);\r\n",
      "    return res;\r\n",
      "}\r\n",
      "#endif\r\n",
      "\r\n",
      "static CYTHON_INLINE PyObject* __Pyx_PyInt_From_long(long value) {\r\n",
      "    const long neg_one = (long) -1, const_zero = 0;\r\n",
      "    const int is_unsigned = neg_one > const_zero;\r\n",
      "    if (is_unsigned) {\r\n",
      "        if (sizeof(long) < sizeof(long)) {\r\n",
      "            return PyInt_FromLong((long) value);\r\n",
      "        } else if (sizeof(long) <= sizeof(unsigned long)) {\r\n",
      "            return PyLong_FromUnsignedLong((unsigned long) value);\r\n",
      "        } else if (sizeof(long) <= sizeof(unsigned long long)) {\r\n",
      "            return PyLong_FromUnsignedLongLong((unsigned long long) value);\r\n",
      "        }\r\n",
      "    } else {\r\n",
      "        if (sizeof(long) <= sizeof(long)) {\r\n",
      "            return PyInt_FromLong((long) value);\r\n",
      "        } else if (sizeof(long) <= sizeof(long long)) {\r\n",
      "            return PyLong_FromLongLong((long long) value);\r\n",
      "        }\r\n",
      "    }\r\n",
      "    {\r\n",
      "        int one = 1; int little = (int)*(unsigned char *)&one;\r\n",
      "        unsigned char *bytes = (unsigned char *)&value;\r\n",
      "        return _PyLong_FromByteArray(bytes, sizeof(long),\r\n",
      "                                     little, !is_unsigned);\r\n",
      "    }\r\n",
      "}\r\n",
      "\r\n",
      "#define __PYX_VERIFY_RETURN_INT(target_type, func_type, func_value)       \\\r\n",
      "    {                                                                     \\\r\n",
      "        func_type value = func_value;                                     \\\r\n",
      "        if (sizeof(target_type) < sizeof(func_type)) {                    \\\r\n",
      "            if (unlikely(value != (func_type) (target_type) value)) {     \\\r\n",
      "                func_type zero = 0;                                       \\\r\n",
      "                if (is_unsigned && unlikely(value < zero))                \\\r\n",
      "                    goto raise_neg_overflow;                              \\\r\n",
      "                else                                                      \\\r\n",
      "                    goto raise_overflow;                                  \\\r\n",
      "            }                                                             \\\r\n",
      "        }                                                                 \\\r\n",
      "        return (target_type) value;                                       \\\r\n",
      "    }\r\n",
      "\r\n",
      "#if CYTHON_COMPILING_IN_CPYTHON && PY_MAJOR_VERSION >= 3\r\n",
      " #if CYTHON_USE_PYLONG_INTERNALS\r\n",
      "  #include \"longintrepr.h\"\r\n",
      " #endif\r\n",
      "#endif\r\n",
      "\r\n",
      "static CYTHON_INLINE long __Pyx_PyInt_As_long(PyObject *x) {\r\n",
      "    const long neg_one = (long) -1, const_zero = 0;\r\n",
      "    const int is_unsigned = neg_one > const_zero;\r\n",
      "#if PY_MAJOR_VERSION < 3\r\n",
      "    if (likely(PyInt_Check(x))) {\r\n",
      "        if (sizeof(long) < sizeof(long)) {\r\n",
      "            __PYX_VERIFY_RETURN_INT(long, long, PyInt_AS_LONG(x))\r\n",
      "        } else {\r\n",
      "            long val = PyInt_AS_LONG(x);\r\n",
      "            if (is_unsigned && unlikely(val < 0)) {\r\n",
      "                goto raise_neg_overflow;\r\n",
      "            }\r\n",
      "            return (long) val;\r\n",
      "        }\r\n",
      "    } else\r\n",
      "#endif\r\n",
      "    if (likely(PyLong_Check(x))) {\r\n",
      "        if (is_unsigned) {\r\n",
      "#if CYTHON_COMPILING_IN_CPYTHON && PY_MAJOR_VERSION >= 3\r\n",
      " #if CYTHON_USE_PYLONG_INTERNALS\r\n",
      "            switch (Py_SIZE(x)) {\r\n",
      "                case  0: return 0;\r\n",
      "                case  1: __PYX_VERIFY_RETURN_INT(long, digit, ((PyLongObject*)x)->ob_digit[0]);\r\n",
      "            }\r\n",
      " #endif\r\n",
      "#endif\r\n",
      "            if (unlikely(Py_SIZE(x) < 0)) {\r\n",
      "                goto raise_neg_overflow;\r\n",
      "            }\r\n",
      "            if (sizeof(long) <= sizeof(unsigned long)) {\r\n",
      "                __PYX_VERIFY_RETURN_INT(long, unsigned long, PyLong_AsUnsignedLong(x))\r\n",
      "            } else if (sizeof(long) <= sizeof(unsigned long long)) {\r\n",
      "                __PYX_VERIFY_RETURN_INT(long, unsigned long long, PyLong_AsUnsignedLongLong(x))\r\n",
      "            }\r\n",
      "        } else {\r\n",
      "#if CYTHON_COMPILING_IN_CPYTHON && PY_MAJOR_VERSION >= 3\r\n",
      " #if CYTHON_USE_PYLONG_INTERNALS\r\n",
      "            switch (Py_SIZE(x)) {\r\n",
      "                case  0: return 0;\r\n",
      "                case  1: __PYX_VERIFY_RETURN_INT(long,  digit, +(((PyLongObject*)x)->ob_digit[0]));\r\n",
      "                case -1: __PYX_VERIFY_RETURN_INT(long, sdigit, -(sdigit) ((PyLongObject*)x)->ob_digit[0]);\r\n",
      "            }\r\n",
      " #endif\r\n",
      "#endif\r\n",
      "            if (sizeof(long) <= sizeof(long)) {\r\n",
      "                __PYX_VERIFY_RETURN_INT(long, long, PyLong_AsLong(x))\r\n",
      "            } else if (sizeof(long) <= sizeof(long long)) {\r\n",
      "                __PYX_VERIFY_RETURN_INT(long, long long, PyLong_AsLongLong(x))\r\n",
      "            }\r\n",
      "        }\r\n",
      "        {\r\n",
      "#if CYTHON_COMPILING_IN_PYPY && !defined(_PyLong_AsByteArray)\r\n",
      "            PyErr_SetString(PyExc_RuntimeError,\r\n",
      "                            \"_PyLong_AsByteArray() not available in PyPy, cannot convert large numbers\");\r\n",
      "#else\r\n",
      "            long val;\r\n",
      "            PyObject *v = __Pyx_PyNumber_Int(x);\r\n",
      " #if PY_MAJOR_VERSION < 3\r\n",
      "            if (likely(v) && !PyLong_Check(v)) {\r\n",
      "                PyObject *tmp = v;\r\n",
      "                v = PyNumber_Long(tmp);\r\n",
      "                Py_DECREF(tmp);\r\n",
      "            }\r\n",
      " #endif\r\n",
      "            if (likely(v)) {\r\n",
      "                int one = 1; int is_little = (int)*(unsigned char *)&one;\r\n",
      "                unsigned char *bytes = (unsigned char *)&val;\r\n",
      "                int ret = _PyLong_AsByteArray((PyLongObject *)v,\r\n",
      "                                              bytes, sizeof(val),\r\n",
      "                                              is_little, !is_unsigned);\r\n",
      "                Py_DECREF(v);\r\n",
      "                if (likely(!ret))\r\n",
      "                    return val;\r\n",
      "            }\r\n",
      "#endif\r\n",
      "            return (long) -1;\r\n",
      "        }\r\n",
      "    } else {\r\n",
      "        long val;\r\n",
      "        PyObject *tmp = __Pyx_PyNumber_Int(x);\r\n",
      "        if (!tmp) return (long) -1;\r\n",
      "        val = __Pyx_PyInt_As_long(tmp);\r\n",
      "        Py_DECREF(tmp);\r\n",
      "        return val;\r\n",
      "    }\r\n",
      "raise_overflow:\r\n",
      "    PyErr_SetString(PyExc_OverflowError,\r\n",
      "        \"value too large to convert to long\");\r\n",
      "    return (long) -1;\r\n",
      "raise_neg_overflow:\r\n",
      "    PyErr_SetString(PyExc_OverflowError,\r\n",
      "        \"can't convert negative value to long\");\r\n",
      "    return (long) -1;\r\n",
      "}\r\n",
      "\r\n",
      "static CYTHON_INLINE int __Pyx_PyInt_As_int(PyObject *x) {\r\n",
      "    const int neg_one = (int) -1, const_zero = 0;\r\n",
      "    const int is_unsigned = neg_one > const_zero;\r\n",
      "#if PY_MAJOR_VERSION < 3\r\n",
      "    if (likely(PyInt_Check(x))) {\r\n",
      "        if (sizeof(int) < sizeof(long)) {\r\n",
      "            __PYX_VERIFY_RETURN_INT(int, long, PyInt_AS_LONG(x))\r\n",
      "        } else {\r\n",
      "            long val = PyInt_AS_LONG(x);\r\n",
      "            if (is_unsigned && unlikely(val < 0)) {\r\n",
      "                goto raise_neg_overflow;\r\n",
      "            }\r\n",
      "            return (int) val;\r\n",
      "        }\r\n",
      "    } else\r\n",
      "#endif\r\n",
      "    if (likely(PyLong_Check(x))) {\r\n",
      "        if (is_unsigned) {\r\n",
      "#if CYTHON_COMPILING_IN_CPYTHON && PY_MAJOR_VERSION >= 3\r\n",
      " #if CYTHON_USE_PYLONG_INTERNALS\r\n",
      "            switch (Py_SIZE(x)) {\r\n",
      "                case  0: return 0;\r\n",
      "                case  1: __PYX_VERIFY_RETURN_INT(int, digit, ((PyLongObject*)x)->ob_digit[0]);\r\n",
      "            }\r\n",
      " #endif\r\n",
      "#endif\r\n",
      "            if (unlikely(Py_SIZE(x) < 0)) {\r\n",
      "                goto raise_neg_overflow;\r\n",
      "            }\r\n",
      "            if (sizeof(int) <= sizeof(unsigned long)) {\r\n",
      "                __PYX_VERIFY_RETURN_INT(int, unsigned long, PyLong_AsUnsignedLong(x))\r\n",
      "            } else if (sizeof(int) <= sizeof(unsigned long long)) {\r\n",
      "                __PYX_VERIFY_RETURN_INT(int, unsigned long long, PyLong_AsUnsignedLongLong(x))\r\n",
      "            }\r\n",
      "        } else {\r\n",
      "#if CYTHON_COMPILING_IN_CPYTHON && PY_MAJOR_VERSION >= 3\r\n",
      " #if CYTHON_USE_PYLONG_INTERNALS\r\n",
      "            switch (Py_SIZE(x)) {\r\n",
      "                case  0: return 0;\r\n",
      "                case  1: __PYX_VERIFY_RETURN_INT(int,  digit, +(((PyLongObject*)x)->ob_digit[0]));\r\n",
      "                case -1: __PYX_VERIFY_RETURN_INT(int, sdigit, -(sdigit) ((PyLongObject*)x)->ob_digit[0]);\r\n",
      "            }\r\n",
      " #endif\r\n",
      "#endif\r\n",
      "            if (sizeof(int) <= sizeof(long)) {\r\n",
      "                __PYX_VERIFY_RETURN_INT(int, long, PyLong_AsLong(x))\r\n",
      "            } else if (sizeof(int) <= sizeof(long long)) {\r\n",
      "                __PYX_VERIFY_RETURN_INT(int, long long, PyLong_AsLongLong(x))\r\n",
      "            }\r\n",
      "        }\r\n",
      "        {\r\n",
      "#if CYTHON_COMPILING_IN_PYPY && !defined(_PyLong_AsByteArray)\r\n",
      "            PyErr_SetString(PyExc_RuntimeError,\r\n",
      "                            \"_PyLong_AsByteArray() not available in PyPy, cannot convert large numbers\");\r\n",
      "#else\r\n",
      "            int val;\r\n",
      "            PyObject *v = __Pyx_PyNumber_Int(x);\r\n",
      " #if PY_MAJOR_VERSION < 3\r\n",
      "            if (likely(v) && !PyLong_Check(v)) {\r\n",
      "                PyObject *tmp = v;\r\n",
      "                v = PyNumber_Long(tmp);\r\n",
      "                Py_DECREF(tmp);\r\n",
      "            }\r\n",
      " #endif\r\n",
      "            if (likely(v)) {\r\n",
      "                int one = 1; int is_little = (int)*(unsigned char *)&one;\r\n",
      "                unsigned char *bytes = (unsigned char *)&val;\r\n",
      "                int ret = _PyLong_AsByteArray((PyLongObject *)v,\r\n",
      "                                              bytes, sizeof(val),\r\n",
      "                                              is_little, !is_unsigned);\r\n",
      "                Py_DECREF(v);\r\n",
      "                if (likely(!ret))\r\n",
      "                    return val;\r\n",
      "            }\r\n",
      "#endif\r\n",
      "            return (int) -1;\r\n",
      "        }\r\n",
      "    } else {\r\n",
      "        int val;\r\n",
      "        PyObject *tmp = __Pyx_PyNumber_Int(x);\r\n",
      "        if (!tmp) return (int) -1;\r\n",
      "        val = __Pyx_PyInt_As_int(tmp);\r\n",
      "        Py_DECREF(tmp);\r\n",
      "        return val;\r\n",
      "    }\r\n",
      "raise_overflow:\r\n",
      "    PyErr_SetString(PyExc_OverflowError,\r\n",
      "        \"value too large to convert to int\");\r\n",
      "    return (int) -1;\r\n",
      "raise_neg_overflow:\r\n",
      "    PyErr_SetString(PyExc_OverflowError,\r\n",
      "        \"can't convert negative value to int\");\r\n",
      "    return (int) -1;\r\n",
      "}\r\n",
      "\r\n",
      "static int __Pyx_check_binary_version(void) {\r\n",
      "    char ctversion[4], rtversion[4];\r\n",
      "    PyOS_snprintf(ctversion, 4, \"%d.%d\", PY_MAJOR_VERSION, PY_MINOR_VERSION);\r\n",
      "    PyOS_snprintf(rtversion, 4, \"%s\", Py_GetVersion());\r\n",
      "    if (ctversion[0] != rtversion[0] || ctversion[2] != rtversion[2]) {\r\n",
      "        char message[200];\r\n",
      "        PyOS_snprintf(message, sizeof(message),\r\n",
      "                      \"compiletime version %s of module '%.100s' \"\r\n",
      "                      \"does not match runtime version %s\",\r\n",
      "                      ctversion, __Pyx_MODULE_NAME, rtversion);\r\n",
      "        return PyErr_WarnEx(NULL, message, 1);\r\n",
      "    }\r\n",
      "    return 0;\r\n",
      "}\r\n",
      "\r\n",
      "static int __Pyx_InitStrings(__Pyx_StringTabEntry *t) {\r\n",
      "    while (t->p) {\r\n",
      "        #if PY_MAJOR_VERSION < 3\r\n",
      "        if (t->is_unicode) {\r\n",
      "            *t->p = PyUnicode_DecodeUTF8(t->s, t->n - 1, NULL);\r\n",
      "        } else if (t->intern) {\r\n",
      "            *t->p = PyString_InternFromString(t->s);\r\n",
      "        } else {\r\n",
      "            *t->p = PyString_FromStringAndSize(t->s, t->n - 1);\r\n",
      "        }\r\n",
      "        #else\r\n",
      "        if (t->is_unicode | t->is_str) {\r\n",
      "            if (t->intern) {\r\n",
      "                *t->p = PyUnicode_InternFromString(t->s);\r\n",
      "            } else if (t->encoding) {\r\n",
      "                *t->p = PyUnicode_Decode(t->s, t->n - 1, t->encoding, NULL);\r\n",
      "            } else {\r\n",
      "                *t->p = PyUnicode_FromStringAndSize(t->s, t->n - 1);\r\n",
      "            }\r\n",
      "        } else {\r\n",
      "            *t->p = PyBytes_FromStringAndSize(t->s, t->n - 1);\r\n",
      "        }\r\n",
      "        #endif\r\n",
      "        if (!*t->p)\r\n",
      "            return -1;\r\n",
      "        ++t;\r\n",
      "    }\r\n",
      "    return 0;\r\n",
      "}\r\n",
      "\r\n",
      "static CYTHON_INLINE PyObject* __Pyx_PyUnicode_FromString(const char* c_str) {\r\n",
      "    return __Pyx_PyUnicode_FromStringAndSize(c_str, (Py_ssize_t)strlen(c_str));\r\n",
      "}\r\n",
      "static CYTHON_INLINE char* __Pyx_PyObject_AsString(PyObject* o) {\r\n",
      "    Py_ssize_t ignore;\r\n",
      "    return __Pyx_PyObject_AsStringAndSize(o, &ignore);\r\n",
      "}\r\n",
      "static CYTHON_INLINE char* __Pyx_PyObject_AsStringAndSize(PyObject* o, Py_ssize_t *length) {\r\n",
      "#if __PYX_DEFAULT_STRING_ENCODING_IS_ASCII || __PYX_DEFAULT_STRING_ENCODING_IS_DEFAULT\r\n",
      "    if (\r\n",
      "#if PY_MAJOR_VERSION < 3 && __PYX_DEFAULT_STRING_ENCODING_IS_ASCII\r\n",
      "            __Pyx_sys_getdefaultencoding_not_ascii &&\r\n",
      "#endif\r\n",
      "            PyUnicode_Check(o)) {\r\n",
      "#if PY_VERSION_HEX < 0x03030000\r\n",
      "        char* defenc_c;\r\n",
      "        PyObject* defenc = _PyUnicode_AsDefaultEncodedString(o, NULL);\r\n",
      "        if (!defenc) return NULL;\r\n",
      "        defenc_c = PyBytes_AS_STRING(defenc);\r\n",
      "#if __PYX_DEFAULT_STRING_ENCODING_IS_ASCII\r\n",
      "        {\r\n",
      "            char* end = defenc_c + PyBytes_GET_SIZE(defenc);\r\n",
      "            char* c;\r\n",
      "            for (c = defenc_c; c < end; c++) {\r\n",
      "                if ((unsigned char) (*c) >= 128) {\r\n",
      "                    PyUnicode_AsASCIIString(o);\r\n",
      "                    return NULL;\r\n",
      "                }\r\n",
      "            }\r\n",
      "        }\r\n",
      "#endif\r\n",
      "        *length = PyBytes_GET_SIZE(defenc);\r\n",
      "        return defenc_c;\r\n",
      "#else\r\n",
      "        if (__Pyx_PyUnicode_READY(o) == -1) return NULL;\r\n",
      "#if __PYX_DEFAULT_STRING_ENCODING_IS_ASCII\r\n",
      "        if (PyUnicode_IS_ASCII(o)) {\r\n",
      "            *length = PyUnicode_GET_LENGTH(o);\r\n",
      "            return PyUnicode_AsUTF8(o);\r\n",
      "        } else {\r\n",
      "            PyUnicode_AsASCIIString(o);\r\n",
      "            return NULL;\r\n",
      "        }\r\n",
      "#else\r\n",
      "        return PyUnicode_AsUTF8AndSize(o, length);\r\n",
      "#endif\r\n",
      "#endif\r\n",
      "    } else\r\n",
      "#endif\r\n",
      "#if !CYTHON_COMPILING_IN_PYPY\r\n",
      "    if (PyByteArray_Check(o)) {\r\n",
      "        *length = PyByteArray_GET_SIZE(o);\r\n",
      "        return PyByteArray_AS_STRING(o);\r\n",
      "    } else\r\n",
      "#endif\r\n",
      "    {\r\n",
      "        char* result;\r\n",
      "        int r = PyBytes_AsStringAndSize(o, &result, length);\r\n",
      "        if (unlikely(r < 0)) {\r\n",
      "            return NULL;\r\n",
      "        } else {\r\n",
      "            return result;\r\n",
      "        }\r\n",
      "    }\r\n",
      "}\r\n",
      "static CYTHON_INLINE int __Pyx_PyObject_IsTrue(PyObject* x) {\r\n",
      "   int is_true = x == Py_True;\r\n",
      "   if (is_true | (x == Py_False) | (x == Py_None)) return is_true;\r\n",
      "   else return PyObject_IsTrue(x);\r\n",
      "}\r\n",
      "static CYTHON_INLINE PyObject* __Pyx_PyNumber_Int(PyObject* x) {\r\n",
      "  PyNumberMethods *m;\r\n",
      "  const char *name = NULL;\r\n",
      "  PyObject *res = NULL;\r\n",
      "#if PY_MAJOR_VERSION < 3\r\n",
      "  if (PyInt_Check(x) || PyLong_Check(x))\r\n",
      "#else\r\n",
      "  if (PyLong_Check(x))\r\n",
      "#endif\r\n",
      "    return Py_INCREF(x), x;\r\n",
      "  m = Py_TYPE(x)->tp_as_number;\r\n",
      "#if PY_MAJOR_VERSION < 3\r\n",
      "  if (m && m->nb_int) {\r\n",
      "    name = \"int\";\r\n",
      "    res = PyNumber_Int(x);\r\n",
      "  }\r\n",
      "  else if (m && m->nb_long) {\r\n",
      "    name = \"long\";\r\n",
      "    res = PyNumber_Long(x);\r\n",
      "  }\r\n",
      "#else\r\n",
      "  if (m && m->nb_int) {\r\n",
      "    name = \"int\";\r\n",
      "    res = PyNumber_Long(x);\r\n",
      "  }\r\n",
      "#endif\r\n",
      "  if (res) {\r\n",
      "#if PY_MAJOR_VERSION < 3\r\n",
      "    if (!PyInt_Check(res) && !PyLong_Check(res)) {\r\n",
      "#else\r\n",
      "    if (!PyLong_Check(res)) {\r\n",
      "#endif\r\n",
      "      PyErr_Format(PyExc_TypeError,\r\n",
      "                   \"__%.4s__ returned non-%.4s (type %.200s)\",\r\n",
      "                   name, name, Py_TYPE(res)->tp_name);\r\n",
      "      Py_DECREF(res);\r\n",
      "      return NULL;\r\n",
      "    }\r\n",
      "  }\r\n",
      "  else if (!PyErr_Occurred()) {\r\n",
      "    PyErr_SetString(PyExc_TypeError,\r\n",
      "                    \"an integer is required\");\r\n",
      "  }\r\n",
      "  return res;\r\n",
      "}\r\n",
      "static CYTHON_INLINE Py_ssize_t __Pyx_PyIndex_AsSsize_t(PyObject* b) {\r\n",
      "  Py_ssize_t ival;\r\n",
      "  PyObject *x;\r\n",
      "#if PY_MAJOR_VERSION < 3\r\n",
      "  if (likely(PyInt_CheckExact(b)))\r\n",
      "      return PyInt_AS_LONG(b);\r\n",
      "#endif\r\n",
      "  if (likely(PyLong_CheckExact(b))) {\r\n",
      "    #if CYTHON_COMPILING_IN_CPYTHON && PY_MAJOR_VERSION >= 3\r\n",
      "     #if CYTHON_USE_PYLONG_INTERNALS\r\n",
      "       switch (Py_SIZE(b)) {\r\n",
      "       case -1: return -(sdigit)((PyLongObject*)b)->ob_digit[0];\r\n",
      "       case  0: return 0;\r\n",
      "       case  1: return ((PyLongObject*)b)->ob_digit[0];\r\n",
      "       }\r\n",
      "     #endif\r\n",
      "    #endif\r\n",
      "    return PyLong_AsSsize_t(b);\r\n",
      "  }\r\n",
      "  x = PyNumber_Index(b);\r\n",
      "  if (!x) return -1;\r\n",
      "  ival = PyInt_AsSsize_t(x);\r\n",
      "  Py_DECREF(x);\r\n",
      "  return ival;\r\n",
      "}\r\n",
      "static CYTHON_INLINE PyObject * __Pyx_PyInt_FromSize_t(size_t ival) {\r\n",
      "    return PyInt_FromSize_t(ival);\r\n",
      "}\r\n",
      "\r\n",
      "\r\n",
      "#endif /* Py_PYTHON_H */\r\n"
     ]
    }
   ],
   "source": [
    "!cat helloworld.c"
   ]
  },
  {
   "cell_type": "code",
   "execution_count": 28,
   "metadata": {},
   "outputs": [
    {
     "data": {
      "text/html": [
       "<!DOCTYPE html>\n",
       "<!-- Generated by Cython 0.22 -->\n",
       "<html>\n",
       "<head>\n",
       "    <meta http-equiv=\"Content-Type\" content=\"text/html; charset=utf-8\" />\n",
       "    <style type=\"text/css\">\n",
       "    \n",
       "body.cython { font-family: courier; font-size: 12; }\n",
       "\n",
       ".cython.tag  {  }\n",
       ".cython.line { margin: 0em }\n",
       ".cython.code  { font-size: 9; color: #444444; display: none; margin: 0px 0px 0px 20px;  }\n",
       "\n",
       ".cython.code .py_c_api  { color: red; }\n",
       ".cython.code .py_macro_api  { color: #FF7000; }\n",
       ".cython.code .pyx_c_api  { color: #FF3000; }\n",
       ".cython.code .pyx_macro_api  { color: #FF7000; }\n",
       ".cython.code .refnanny  { color: #FFA000; }\n",
       ".cython.code .error_goto  { color: #FFA000; }\n",
       "\n",
       ".cython.code .coerce  { color: #008000; border: 1px dotted #008000 }\n",
       ".cython.code .py_attr { color: #FF0000; font-weight: bold; }\n",
       ".cython.code .c_attr  { color: #0000FF; }\n",
       ".cython.code .py_call { color: #FF0000; font-weight: bold; }\n",
       ".cython.code .c_call  { color: #0000FF; }\n",
       "\n",
       ".cython.score-0 {background-color: #FFFFff;}\n",
       ".cython.score-1 {background-color: #FFFFe7;}\n",
       ".cython.score-2 {background-color: #FFFFd4;}\n",
       ".cython.score-3 {background-color: #FFFFc4;}\n",
       ".cython.score-4 {background-color: #FFFFb6;}\n",
       ".cython.score-5 {background-color: #FFFFaa;}\n",
       ".cython.score-6 {background-color: #FFFF9f;}\n",
       ".cython.score-7 {background-color: #FFFF96;}\n",
       ".cython.score-8 {background-color: #FFFF8d;}\n",
       ".cython.score-9 {background-color: #FFFF86;}\n",
       ".cython.score-10 {background-color: #FFFF7f;}\n",
       ".cython.score-11 {background-color: #FFFF79;}\n",
       ".cython.score-12 {background-color: #FFFF73;}\n",
       ".cython.score-13 {background-color: #FFFF6e;}\n",
       ".cython.score-14 {background-color: #FFFF6a;}\n",
       ".cython.score-15 {background-color: #FFFF66;}\n",
       ".cython.score-16 {background-color: #FFFF62;}\n",
       ".cython.score-17 {background-color: #FFFF5e;}\n",
       ".cython.score-18 {background-color: #FFFF5b;}\n",
       ".cython.score-19 {background-color: #FFFF57;}\n",
       ".cython.score-20 {background-color: #FFFF55;}\n",
       ".cython.score-21 {background-color: #FFFF52;}\n",
       ".cython.score-22 {background-color: #FFFF4f;}\n",
       ".cython.score-23 {background-color: #FFFF4d;}\n",
       ".cython.score-24 {background-color: #FFFF4b;}\n",
       ".cython.score-25 {background-color: #FFFF48;}\n",
       ".cython.score-26 {background-color: #FFFF46;}\n",
       ".cython.score-27 {background-color: #FFFF44;}\n",
       ".cython.score-28 {background-color: #FFFF43;}\n",
       ".cython.score-29 {background-color: #FFFF41;}\n",
       ".cython.score-30 {background-color: #FFFF3f;}\n",
       ".cython.score-31 {background-color: #FFFF3e;}\n",
       ".cython.score-32 {background-color: #FFFF3c;}\n",
       ".cython.score-33 {background-color: #FFFF3b;}\n",
       ".cython.score-34 {background-color: #FFFF39;}\n",
       ".cython.score-35 {background-color: #FFFF38;}\n",
       ".cython.score-36 {background-color: #FFFF37;}\n",
       ".cython.score-37 {background-color: #FFFF36;}\n",
       ".cython.score-38 {background-color: #FFFF35;}\n",
       ".cython.score-39 {background-color: #FFFF34;}\n",
       ".cython.score-40 {background-color: #FFFF33;}\n",
       ".cython.score-41 {background-color: #FFFF32;}\n",
       ".cython.score-42 {background-color: #FFFF31;}\n",
       ".cython.score-43 {background-color: #FFFF30;}\n",
       ".cython.score-44 {background-color: #FFFF2f;}\n",
       ".cython.score-45 {background-color: #FFFF2e;}\n",
       ".cython.score-46 {background-color: #FFFF2d;}\n",
       ".cython.score-47 {background-color: #FFFF2c;}\n",
       ".cython.score-48 {background-color: #FFFF2b;}\n",
       ".cython.score-49 {background-color: #FFFF2b;}\n",
       ".cython.score-50 {background-color: #FFFF2a;}\n",
       ".cython.score-51 {background-color: #FFFF29;}\n",
       ".cython.score-52 {background-color: #FFFF29;}\n",
       ".cython.score-53 {background-color: #FFFF28;}\n",
       ".cython.score-54 {background-color: #FFFF27;}\n",
       ".cython.score-55 {background-color: #FFFF27;}\n",
       ".cython.score-56 {background-color: #FFFF26;}\n",
       ".cython.score-57 {background-color: #FFFF26;}\n",
       ".cython.score-58 {background-color: #FFFF25;}\n",
       ".cython.score-59 {background-color: #FFFF24;}\n",
       ".cython.score-60 {background-color: #FFFF24;}\n",
       ".cython.score-61 {background-color: #FFFF23;}\n",
       ".cython.score-62 {background-color: #FFFF23;}\n",
       ".cython.score-63 {background-color: #FFFF22;}\n",
       ".cython.score-64 {background-color: #FFFF22;}\n",
       ".cython.score-65 {background-color: #FFFF22;}\n",
       ".cython.score-66 {background-color: #FFFF21;}\n",
       ".cython.score-67 {background-color: #FFFF21;}\n",
       ".cython.score-68 {background-color: #FFFF20;}\n",
       ".cython.score-69 {background-color: #FFFF20;}\n",
       ".cython.score-70 {background-color: #FFFF1f;}\n",
       ".cython.score-71 {background-color: #FFFF1f;}\n",
       ".cython.score-72 {background-color: #FFFF1f;}\n",
       ".cython.score-73 {background-color: #FFFF1e;}\n",
       ".cython.score-74 {background-color: #FFFF1e;}\n",
       ".cython.score-75 {background-color: #FFFF1e;}\n",
       ".cython.score-76 {background-color: #FFFF1d;}\n",
       ".cython.score-77 {background-color: #FFFF1d;}\n",
       ".cython.score-78 {background-color: #FFFF1c;}\n",
       ".cython.score-79 {background-color: #FFFF1c;}\n",
       ".cython.score-80 {background-color: #FFFF1c;}\n",
       ".cython.score-81 {background-color: #FFFF1c;}\n",
       ".cython.score-82 {background-color: #FFFF1b;}\n",
       ".cython.score-83 {background-color: #FFFF1b;}\n",
       ".cython.score-84 {background-color: #FFFF1b;}\n",
       ".cython.score-85 {background-color: #FFFF1a;}\n",
       ".cython.score-86 {background-color: #FFFF1a;}\n",
       ".cython.score-87 {background-color: #FFFF1a;}\n",
       ".cython.score-88 {background-color: #FFFF1a;}\n",
       ".cython.score-89 {background-color: #FFFF19;}\n",
       ".cython.score-90 {background-color: #FFFF19;}\n",
       ".cython.score-91 {background-color: #FFFF19;}\n",
       ".cython.score-92 {background-color: #FFFF19;}\n",
       ".cython.score-93 {background-color: #FFFF18;}\n",
       ".cython.score-94 {background-color: #FFFF18;}\n",
       ".cython.score-95 {background-color: #FFFF18;}\n",
       ".cython.score-96 {background-color: #FFFF18;}\n",
       ".cython.score-97 {background-color: #FFFF17;}\n",
       ".cython.score-98 {background-color: #FFFF17;}\n",
       ".cython.score-99 {background-color: #FFFF17;}\n",
       ".cython.score-100 {background-color: #FFFF17;}\n",
       ".cython.score-101 {background-color: #FFFF16;}\n",
       ".cython.score-102 {background-color: #FFFF16;}\n",
       ".cython.score-103 {background-color: #FFFF16;}\n",
       ".cython.score-104 {background-color: #FFFF16;}\n",
       ".cython.score-105 {background-color: #FFFF16;}\n",
       ".cython.score-106 {background-color: #FFFF15;}\n",
       ".cython.score-107 {background-color: #FFFF15;}\n",
       ".cython.score-108 {background-color: #FFFF15;}\n",
       ".cython.score-109 {background-color: #FFFF15;}\n",
       ".cython.score-110 {background-color: #FFFF15;}\n",
       ".cython.score-111 {background-color: #FFFF15;}\n",
       ".cython.score-112 {background-color: #FFFF14;}\n",
       ".cython.score-113 {background-color: #FFFF14;}\n",
       ".cython.score-114 {background-color: #FFFF14;}\n",
       ".cython.score-115 {background-color: #FFFF14;}\n",
       ".cython.score-116 {background-color: #FFFF14;}\n",
       ".cython.score-117 {background-color: #FFFF14;}\n",
       ".cython.score-118 {background-color: #FFFF13;}\n",
       ".cython.score-119 {background-color: #FFFF13;}\n",
       ".cython.score-120 {background-color: #FFFF13;}\n",
       ".cython.score-121 {background-color: #FFFF13;}\n",
       ".cython.score-122 {background-color: #FFFF13;}\n",
       ".cython.score-123 {background-color: #FFFF13;}\n",
       ".cython.score-124 {background-color: #FFFF13;}\n",
       ".cython.score-125 {background-color: #FFFF12;}\n",
       ".cython.score-126 {background-color: #FFFF12;}\n",
       ".cython.score-127 {background-color: #FFFF12;}\n",
       ".cython.score-128 {background-color: #FFFF12;}\n",
       ".cython.score-129 {background-color: #FFFF12;}\n",
       ".cython.score-130 {background-color: #FFFF12;}\n",
       ".cython.score-131 {background-color: #FFFF12;}\n",
       ".cython.score-132 {background-color: #FFFF11;}\n",
       ".cython.score-133 {background-color: #FFFF11;}\n",
       ".cython.score-134 {background-color: #FFFF11;}\n",
       ".cython.score-135 {background-color: #FFFF11;}\n",
       ".cython.score-136 {background-color: #FFFF11;}\n",
       ".cython.score-137 {background-color: #FFFF11;}\n",
       ".cython.score-138 {background-color: #FFFF11;}\n",
       ".cython.score-139 {background-color: #FFFF11;}\n",
       ".cython.score-140 {background-color: #FFFF11;}\n",
       ".cython.score-141 {background-color: #FFFF10;}\n",
       ".cython.score-142 {background-color: #FFFF10;}\n",
       ".cython.score-143 {background-color: #FFFF10;}\n",
       ".cython.score-144 {background-color: #FFFF10;}\n",
       ".cython.score-145 {background-color: #FFFF10;}\n",
       ".cython.score-146 {background-color: #FFFF10;}\n",
       ".cython.score-147 {background-color: #FFFF10;}\n",
       ".cython.score-148 {background-color: #FFFF10;}\n",
       ".cython.score-149 {background-color: #FFFF10;}\n",
       ".cython.score-150 {background-color: #FFFF0f;}\n",
       ".cython.score-151 {background-color: #FFFF0f;}\n",
       ".cython.score-152 {background-color: #FFFF0f;}\n",
       ".cython.score-153 {background-color: #FFFF0f;}\n",
       ".cython.score-154 {background-color: #FFFF0f;}\n",
       ".cython.score-155 {background-color: #FFFF0f;}\n",
       ".cython.score-156 {background-color: #FFFF0f;}\n",
       ".cython.score-157 {background-color: #FFFF0f;}\n",
       ".cython.score-158 {background-color: #FFFF0f;}\n",
       ".cython.score-159 {background-color: #FFFF0f;}\n",
       ".cython.score-160 {background-color: #FFFF0f;}\n",
       ".cython.score-161 {background-color: #FFFF0e;}\n",
       ".cython.score-162 {background-color: #FFFF0e;}\n",
       ".cython.score-163 {background-color: #FFFF0e;}\n",
       ".cython.score-164 {background-color: #FFFF0e;}\n",
       ".cython.score-165 {background-color: #FFFF0e;}\n",
       ".cython.score-166 {background-color: #FFFF0e;}\n",
       ".cython.score-167 {background-color: #FFFF0e;}\n",
       ".cython.score-168 {background-color: #FFFF0e;}\n",
       ".cython.score-169 {background-color: #FFFF0e;}\n",
       ".cython.score-170 {background-color: #FFFF0e;}\n",
       ".cython.score-171 {background-color: #FFFF0e;}\n",
       ".cython.score-172 {background-color: #FFFF0e;}\n",
       ".cython.score-173 {background-color: #FFFF0d;}\n",
       ".cython.score-174 {background-color: #FFFF0d;}\n",
       ".cython.score-175 {background-color: #FFFF0d;}\n",
       ".cython.score-176 {background-color: #FFFF0d;}\n",
       ".cython.score-177 {background-color: #FFFF0d;}\n",
       ".cython.score-178 {background-color: #FFFF0d;}\n",
       ".cython.score-179 {background-color: #FFFF0d;}\n",
       ".cython.score-180 {background-color: #FFFF0d;}\n",
       ".cython.score-181 {background-color: #FFFF0d;}\n",
       ".cython.score-182 {background-color: #FFFF0d;}\n",
       ".cython.score-183 {background-color: #FFFF0d;}\n",
       ".cython.score-184 {background-color: #FFFF0d;}\n",
       ".cython.score-185 {background-color: #FFFF0d;}\n",
       ".cython.score-186 {background-color: #FFFF0d;}\n",
       ".cython.score-187 {background-color: #FFFF0c;}\n",
       ".cython.score-188 {background-color: #FFFF0c;}\n",
       ".cython.score-189 {background-color: #FFFF0c;}\n",
       ".cython.score-190 {background-color: #FFFF0c;}\n",
       ".cython.score-191 {background-color: #FFFF0c;}\n",
       ".cython.score-192 {background-color: #FFFF0c;}\n",
       ".cython.score-193 {background-color: #FFFF0c;}\n",
       ".cython.score-194 {background-color: #FFFF0c;}\n",
       ".cython.score-195 {background-color: #FFFF0c;}\n",
       ".cython.score-196 {background-color: #FFFF0c;}\n",
       ".cython.score-197 {background-color: #FFFF0c;}\n",
       ".cython.score-198 {background-color: #FFFF0c;}\n",
       ".cython.score-199 {background-color: #FFFF0c;}\n",
       ".cython.score-200 {background-color: #FFFF0c;}\n",
       ".cython.score-201 {background-color: #FFFF0c;}\n",
       ".cython.score-202 {background-color: #FFFF0c;}\n",
       ".cython.score-203 {background-color: #FFFF0b;}\n",
       ".cython.score-204 {background-color: #FFFF0b;}\n",
       ".cython.score-205 {background-color: #FFFF0b;}\n",
       ".cython.score-206 {background-color: #FFFF0b;}\n",
       ".cython.score-207 {background-color: #FFFF0b;}\n",
       ".cython.score-208 {background-color: #FFFF0b;}\n",
       ".cython.score-209 {background-color: #FFFF0b;}\n",
       ".cython.score-210 {background-color: #FFFF0b;}\n",
       ".cython.score-211 {background-color: #FFFF0b;}\n",
       ".cython.score-212 {background-color: #FFFF0b;}\n",
       ".cython.score-213 {background-color: #FFFF0b;}\n",
       ".cython.score-214 {background-color: #FFFF0b;}\n",
       ".cython.score-215 {background-color: #FFFF0b;}\n",
       ".cython.score-216 {background-color: #FFFF0b;}\n",
       ".cython.score-217 {background-color: #FFFF0b;}\n",
       ".cython.score-218 {background-color: #FFFF0b;}\n",
       ".cython.score-219 {background-color: #FFFF0b;}\n",
       ".cython.score-220 {background-color: #FFFF0b;}\n",
       ".cython.score-221 {background-color: #FFFF0b;}\n",
       ".cython.score-222 {background-color: #FFFF0a;}\n",
       ".cython.score-223 {background-color: #FFFF0a;}\n",
       ".cython.score-224 {background-color: #FFFF0a;}\n",
       ".cython.score-225 {background-color: #FFFF0a;}\n",
       ".cython.score-226 {background-color: #FFFF0a;}\n",
       ".cython.score-227 {background-color: #FFFF0a;}\n",
       ".cython.score-228 {background-color: #FFFF0a;}\n",
       ".cython.score-229 {background-color: #FFFF0a;}\n",
       ".cython.score-230 {background-color: #FFFF0a;}\n",
       ".cython.score-231 {background-color: #FFFF0a;}\n",
       ".cython.score-232 {background-color: #FFFF0a;}\n",
       ".cython.score-233 {background-color: #FFFF0a;}\n",
       ".cython.score-234 {background-color: #FFFF0a;}\n",
       ".cython.score-235 {background-color: #FFFF0a;}\n",
       ".cython.score-236 {background-color: #FFFF0a;}\n",
       ".cython.score-237 {background-color: #FFFF0a;}\n",
       ".cython.score-238 {background-color: #FFFF0a;}\n",
       ".cython.score-239 {background-color: #FFFF0a;}\n",
       ".cython.score-240 {background-color: #FFFF0a;}\n",
       ".cython.score-241 {background-color: #FFFF0a;}\n",
       ".cython.score-242 {background-color: #FFFF0a;}\n",
       ".cython.score-243 {background-color: #FFFF0a;}\n",
       ".cython.score-244 {background-color: #FFFF0a;}\n",
       ".cython.score-245 {background-color: #FFFF0a;}\n",
       ".cython.score-246 {background-color: #FFFF09;}\n",
       ".cython.score-247 {background-color: #FFFF09;}\n",
       ".cython.score-248 {background-color: #FFFF09;}\n",
       ".cython.score-249 {background-color: #FFFF09;}\n",
       ".cython.score-250 {background-color: #FFFF09;}\n",
       ".cython.score-251 {background-color: #FFFF09;}\n",
       ".cython.score-252 {background-color: #FFFF09;}\n",
       ".cython.score-253 {background-color: #FFFF09;}\n",
       ".cython.score-254 {background-color: #FFFF09;}.cython .hll { background-color: #ffffcc }\n",
       ".cython  { background: #f8f8f8; }\n",
       ".cython .c { color: #408080; font-style: italic } /* Comment */\n",
       ".cython .err { border: 1px solid #FF0000 } /* Error */\n",
       ".cython .k { color: #008000; font-weight: bold } /* Keyword */\n",
       ".cython .o { color: #666666 } /* Operator */\n",
       ".cython .cm { color: #408080; font-style: italic } /* Comment.Multiline */\n",
       ".cython .cp { color: #BC7A00 } /* Comment.Preproc */\n",
       ".cython .c1 { color: #408080; font-style: italic } /* Comment.Single */\n",
       ".cython .cs { color: #408080; font-style: italic } /* Comment.Special */\n",
       ".cython .gd { color: #A00000 } /* Generic.Deleted */\n",
       ".cython .ge { font-style: italic } /* Generic.Emph */\n",
       ".cython .gr { color: #FF0000 } /* Generic.Error */\n",
       ".cython .gh { color: #000080; font-weight: bold } /* Generic.Heading */\n",
       ".cython .gi { color: #00A000 } /* Generic.Inserted */\n",
       ".cython .go { color: #888888 } /* Generic.Output */\n",
       ".cython .gp { color: #000080; font-weight: bold } /* Generic.Prompt */\n",
       ".cython .gs { font-weight: bold } /* Generic.Strong */\n",
       ".cython .gu { color: #800080; font-weight: bold } /* Generic.Subheading */\n",
       ".cython .gt { color: #0044DD } /* Generic.Traceback */\n",
       ".cython .kc { color: #008000; font-weight: bold } /* Keyword.Constant */\n",
       ".cython .kd { color: #008000; font-weight: bold } /* Keyword.Declaration */\n",
       ".cython .kn { color: #008000; font-weight: bold } /* Keyword.Namespace */\n",
       ".cython .kp { color: #008000 } /* Keyword.Pseudo */\n",
       ".cython .kr { color: #008000; font-weight: bold } /* Keyword.Reserved */\n",
       ".cython .kt { color: #B00040 } /* Keyword.Type */\n",
       ".cython .m { color: #666666 } /* Literal.Number */\n",
       ".cython .s { color: #BA2121 } /* Literal.String */\n",
       ".cython .na { color: #7D9029 } /* Name.Attribute */\n",
       ".cython .nb { color: #008000 } /* Name.Builtin */\n",
       ".cython .nc { color: #0000FF; font-weight: bold } /* Name.Class */\n",
       ".cython .no { color: #880000 } /* Name.Constant */\n",
       ".cython .nd { color: #AA22FF } /* Name.Decorator */\n",
       ".cython .ni { color: #999999; font-weight: bold } /* Name.Entity */\n",
       ".cython .ne { color: #D2413A; font-weight: bold } /* Name.Exception */\n",
       ".cython .nf { color: #0000FF } /* Name.Function */\n",
       ".cython .nl { color: #A0A000 } /* Name.Label */\n",
       ".cython .nn { color: #0000FF; font-weight: bold } /* Name.Namespace */\n",
       ".cython .nt { color: #008000; font-weight: bold } /* Name.Tag */\n",
       ".cython .nv { color: #19177C } /* Name.Variable */\n",
       ".cython .ow { color: #AA22FF; font-weight: bold } /* Operator.Word */\n",
       ".cython .w { color: #bbbbbb } /* Text.Whitespace */\n",
       ".cython .mb { color: #666666 } /* Literal.Number.Bin */\n",
       ".cython .mf { color: #666666 } /* Literal.Number.Float */\n",
       ".cython .mh { color: #666666 } /* Literal.Number.Hex */\n",
       ".cython .mi { color: #666666 } /* Literal.Number.Integer */\n",
       ".cython .mo { color: #666666 } /* Literal.Number.Oct */\n",
       ".cython .sb { color: #BA2121 } /* Literal.String.Backtick */\n",
       ".cython .sc { color: #BA2121 } /* Literal.String.Char */\n",
       ".cython .sd { color: #BA2121; font-style: italic } /* Literal.String.Doc */\n",
       ".cython .s2 { color: #BA2121 } /* Literal.String.Double */\n",
       ".cython .se { color: #BB6622; font-weight: bold } /* Literal.String.Escape */\n",
       ".cython .sh { color: #BA2121 } /* Literal.String.Heredoc */\n",
       ".cython .si { color: #BB6688; font-weight: bold } /* Literal.String.Interpol */\n",
       ".cython .sx { color: #008000 } /* Literal.String.Other */\n",
       ".cython .sr { color: #BB6688 } /* Literal.String.Regex */\n",
       ".cython .s1 { color: #BA2121 } /* Literal.String.Single */\n",
       ".cython .ss { color: #19177C } /* Literal.String.Symbol */\n",
       ".cython .bp { color: #008000 } /* Name.Builtin.Pseudo */\n",
       ".cython .vc { color: #19177C } /* Name.Variable.Class */\n",
       ".cython .vg { color: #19177C } /* Name.Variable.Global */\n",
       ".cython .vi { color: #19177C } /* Name.Variable.Instance */\n",
       ".cython .il { color: #666666 } /* Literal.Number.Integer.Long */\n",
       "    </style>\n",
       "    <script>\n",
       "    function toggleDiv(id) {\n",
       "        theDiv = id.nextElementSibling\n",
       "        if (theDiv.style.display != 'block') theDiv.style.display = 'block';\n",
       "        else theDiv.style.display = 'none';\n",
       "    }\n",
       "    </script>\n",
       "</head>\n",
       "<body class=\"cython\">\n",
       "<p>Generated by Cython 0.22</p>\n",
       "<p>Raw output: <a href=\"helloworld.c\">helloworld.c</a></p>\n",
       "<div class=\"cython\"><pre class='cython line score-0'>&#xA0;1: </pre>\n",
       "<pre class='cython line score-2' onclick='toggleDiv(this)'>+2: <span class=\"k\">print</span><span class=\"p\">(</span><span class=\"s\">&#39;Hola Curso, soy Cython&#39;</span><span class=\"p\">)</span></pre>\n",
       "<pre class='cython code score-2'>  if (<span class='pyx_c_api'>__Pyx_PrintOne</span>(0, __pyx_kp_s_Hola_Curso_soy_Cython) &lt; 0) <span class='error_goto'>{__pyx_filename = __pyx_f[0]; __pyx_lineno = 2; __pyx_clineno = __LINE__; goto __pyx_L1_error;}</span>\n",
       "</pre></div></body></html>\n"
      ],
      "text/plain": [
       "<IPython.core.display.HTML object>"
      ]
     },
     "execution_count": 28,
     "metadata": {},
     "output_type": "execute_result"
    }
   ],
   "source": [
    "from IPython.core.display import HTML\n",
    "HTML(filename='helloworld.html')"
   ]
  },
  {
   "cell_type": "markdown",
   "metadata": {},
   "source": [
    "Con el código C necesario, podemos compilar nuestra extensión"
   ]
  },
  {
   "cell_type": "code",
   "execution_count": 1,
   "metadata": {},
   "outputs": [],
   "source": [
    "!gcc -shared -pthread -fPIC -fwrapv -O2 -Wall -fno-strict-aliasing -I /usr/include/python3.4 -o helloworld.so helloworld.c"
   ]
  },
  {
   "cell_type": "code",
   "execution_count": 2,
   "metadata": {},
   "outputs": [
    {
     "name": "stdout",
     "output_type": "stream",
     "text": [
      "Hola Curso, soy Cython. #NiUnaMenos\n"
     ]
    }
   ],
   "source": [
    "import helloworld"
   ]
  },
  {
   "cell_type": "markdown",
   "metadata": {},
   "source": [
    "Buenísimo, pero un poquito trabajoso, no?\n",
    "\n",
    "### Hola Mundo, usando distutils\n",
    "\n",
    "`distutils` es un módulo de la biblioteca estándar (es decir, ya viene con python) que sirve para definir archivos de instalación de paquetes Python, sean python puro o con extensiones en C/C++. \n",
    "\n",
    "Cython agrega una función ``cythonize`` que llama al compilador cython y le dice a `distutils` cual es el código C que debe compilar\n"
   ]
  },
  {
   "cell_type": "code",
   "execution_count": 6,
   "metadata": {},
   "outputs": [
    {
     "name": "stdout",
     "output_type": "stream",
     "text": [
      "Overwriting helloworld2.pyx\n"
     ]
    }
   ],
   "source": [
    "%%file helloworld2.pyx\n",
    "\n",
    "print('Hola Curso, sigo siendo Cython')"
   ]
  },
  {
   "cell_type": "code",
   "execution_count": 7,
   "metadata": {
    "scrolled": true
   },
   "outputs": [
    {
     "name": "stdout",
     "output_type": "stream",
     "text": [
      "Overwriting setup.py\n"
     ]
    }
   ],
   "source": [
    "%%file setup.py\n",
    "\n",
    "from distutils.core import setup\n",
    "from Cython.Build import cythonize\n",
    "\n",
    "setup(\n",
    "    ext_modules = cythonize(\"helloworld2.pyx\")\n",
    ")\n"
   ]
  },
  {
   "cell_type": "markdown",
   "metadata": {},
   "source": [
    "El archivo `setup.py`, por el sólo hecho de usar `distutils.setup`, se convierte en un script de instalación y tiene muchos subcomandos. En particular nos interesa `build_ext`"
   ]
  },
  {
   "cell_type": "code",
   "execution_count": 8,
   "metadata": {
    "scrolled": true
   },
   "outputs": [
    {
     "name": "stdout",
     "output_type": "stream",
     "text": [
      "Compiling helloworld2.pyx because it changed.\n",
      "Cythonizing helloworld2.pyx\n",
      "running build_ext\n",
      "building 'helloworld2' extension\n",
      "x86_64-linux-gnu-gcc -pthread -DNDEBUG -g -fwrapv -O2 -Wall -Wstrict-prototypes -g -fstack-protector-strong -Wformat -Werror=format-security -D_FORTIFY_SOURCE=2 -fPIC -I/usr/include/python3.4m -I/home/tin/.virtualenvs/curso/include/python3.4m -c helloworld2.c -o build/temp.linux-x86_64-3.4/helloworld2.o\n",
      "x86_64-linux-gnu-gcc -pthread -shared -Wl,-O1 -Wl,-Bsymbolic-functions -Wl,-Bsymbolic-functions -Wl,-z,relro -Wl,-Bsymbolic-functions -Wl,-z,relro -g -fstack-protector-strong -Wformat -Werror=format-security -D_FORTIFY_SOURCE=2 build/temp.linux-x86_64-3.4/helloworld2.o -o /home/tin/lab/curso-python-cientifico/helloworld2.cpython-34m.so\n"
     ]
    }
   ],
   "source": [
    "!python setup.py build_ext --inplace"
   ]
  },
  {
   "cell_type": "code",
   "execution_count": 9,
   "metadata": {},
   "outputs": [
    {
     "name": "stdout",
     "output_type": "stream",
     "text": [
      "Hola Curso, sigo siendo Cython\n"
     ]
    }
   ],
   "source": [
    "import helloworld2"
   ]
  },
  {
   "cell_type": "markdown",
   "metadata": {},
   "source": [
    "Obviamente, no debemos compilar el código cython cada vez que lo queremos usar, sino cada vez que lo modificamos. \n",
    "\n",
    "## Hola mundo, the magic way\n",
    "\n",
    "Pero si lo usamos en el notebook y lo modificamos seguido, es mejor usa el comándo magic **cython** "
   ]
  },
  {
   "cell_type": "code",
   "execution_count": 10,
   "metadata": {},
   "outputs": [],
   "source": [
    "# %load_ext cythonmagic    en versiones anteriores a 0.21\n",
    "%load_ext cython"
   ]
  },
  {
   "cell_type": "code",
   "execution_count": 13,
   "metadata": {},
   "outputs": [
    {
     "name": "stdout",
     "output_type": "stream",
     "text": [
      "Hola, soy cython, a través de un magic.\n"
     ]
    }
   ],
   "source": [
    "%%cython \n",
    "\n",
    "def hola():\n",
    "    print('hola, soy una funcion cython')\n",
    "\n",
    "print('Hola, soy cython, a través de un magic.')"
   ]
  },
  {
   "cell_type": "code",
   "execution_count": 14,
   "metadata": {},
   "outputs": [
    {
     "name": "stdout",
     "output_type": "stream",
     "text": [
      "hola, soy una funcion cython\n"
     ]
    }
   ],
   "source": [
    "hola()"
   ]
  },
  {
   "cell_type": "markdown",
   "metadata": {},
   "source": [
    "De paso, permitanmé el autobombo"
   ]
  },
  {
   "cell_type": "code",
   "execution_count": 15,
   "metadata": {},
   "outputs": [
    {
     "name": "stdout",
     "output_type": "stream",
     "text": [
      "\r\n",
      "Code moved from IPython and adapted by:\r\n",
      "* Martín Gaitán\r\n"
     ]
    }
   ],
   "source": [
    "!cat ~/.virtualenvs/curso/lib/python3.4/site-packages/Cython/Build/IpythonMagic.py | grep -B 2 \"Gaitán\""
   ]
  },
  {
   "cell_type": "markdown",
   "metadata": {
    "collapsed": true
   },
   "source": [
    "### Paréntesis: funciones generadoras"
   ]
  },
  {
   "cell_type": "code",
   "execution_count": 16,
   "metadata": {},
   "outputs": [
    {
     "data": {
      "text/plain": [
       "[1, 1, 2, 3, 5, 8, 13, 21, 34, 55, 89]"
      ]
     },
     "execution_count": 16,
     "metadata": {},
     "output_type": "execute_result"
    }
   ],
   "source": [
    "def fib(n):\n",
    "    \"\"\"cálcula la serie hasta n y devuelve una lista\"\"\"\n",
    "    serie = []\n",
    "    a, b = 0, 1\n",
    "    while b < n:\n",
    "        serie.append(b)\n",
    "        a, b = b, a + b\n",
    "    return serie\n",
    "\n",
    "fib(120)"
   ]
  },
  {
   "cell_type": "code",
   "execution_count": 17,
   "metadata": {},
   "outputs": [
    {
     "name": "stdout",
     "output_type": "stream",
     "text": [
      "100000 loops, best of 3: 3.57 µs per loop\n"
     ]
    }
   ],
   "source": [
    "%timeit fib(1000000)"
   ]
  },
  {
   "cell_type": "code",
   "execution_count": 18,
   "metadata": {
    "collapsed": true
   },
   "outputs": [],
   "source": [
    "def fib_2(n):\n",
    "    \"\"\"cálcula la serie hasta n y devuelve una lista\"\"\"\n",
    "    serie = []\n",
    "    a, b = 0, 1\n",
    "    while b < n:\n",
    "        yield b            # devuelve el valor actual y marca el punto de entrada para la proxima llamada\n",
    "        a, b = b, a + b"
   ]
  },
  {
   "cell_type": "code",
   "execution_count": 19,
   "metadata": {},
   "outputs": [
    {
     "data": {
      "text/plain": [
       "<generator object fib_2 at 0x7ff9f92e0ea0>"
      ]
     },
     "execution_count": 19,
     "metadata": {},
     "output_type": "execute_result"
    }
   ],
   "source": [
    "fib_2(100)"
   ]
  },
  {
   "cell_type": "code",
   "execution_count": 21,
   "metadata": {},
   "outputs": [
    {
     "data": {
      "text/plain": [
       "[1, 1, 2, 3, 5, 8, 13, 21]"
      ]
     },
     "execution_count": 21,
     "metadata": {},
     "output_type": "execute_result"
    }
   ],
   "source": [
    "list(fib_2(30))"
   ]
  },
  {
   "cell_type": "code",
   "execution_count": 22,
   "metadata": {},
   "outputs": [
    {
     "name": "stdout",
     "output_type": "stream",
     "text": [
      "100000 loops, best of 3: 3.25 µs per loop\n"
     ]
    }
   ],
   "source": [
    "%timeit list(fib(100000))"
   ]
  },
  {
   "cell_type": "markdown",
   "metadata": {},
   "source": [
    "### ) \n",
    "\n",
    "(Fin del paréntesis)\n",
    "\n",
    "### El mismo generador en Cython"
   ]
  },
  {
   "cell_type": "code",
   "execution_count": 23,
   "metadata": {
    "collapsed": true
   },
   "outputs": [],
   "source": [
    "%%cython\n",
    "\n",
    "def fib_cython(n):\n",
    "    \"\"\"Print the Fibonacci series up to n.\"\"\"\n",
    "    a, b = 0, 1\n",
    "    while b < n:\n",
    "        yield b\n",
    "        a, b = b, a + b"
   ]
  },
  {
   "cell_type": "code",
   "execution_count": 24,
   "metadata": {},
   "outputs": [
    {
     "name": "stdout",
     "output_type": "stream",
     "text": [
      "The slowest run took 8.16 times longer than the fastest. This could mean that an intermediate result is being cached \n",
      "1000000 loops, best of 3: 1.63 µs per loop\n"
     ]
    }
   ],
   "source": [
    "%timeit list(fib_cython(100000))"
   ]
  },
  {
   "cell_type": "markdown",
   "metadata": {
    "collapsed": true
   },
   "source": [
    "### Cython on steroids\n",
    "\n",
    "Pero veamos un código Cython que no sea Python puro. Supongamos que queremos calcular $\\sum_{i=0}^n \\alpha^i$ para $\\alpha, n$ dados. \n",
    "\n",
    "Obviamente, antes de optimizar un algoritmo podriamos aplicar la formula de la progresión geométrica \n",
    "\n",
    "$$\n",
    "\\sum_{i=0}^n \\alpha^i = \\frac{1 - \\alpha^{n+1}}{1 - \\alpha}\n",
    "$$\n",
    "\n",
    "pero para \"medir músculos\" (?) lo haremos iterativamente"
   ]
  },
  {
   "cell_type": "code",
   "execution_count": 25,
   "metadata": {},
   "outputs": [],
   "source": [
    "def geo_prog(alpha, n):\n",
    "    current = 1.0\n",
    "    sum = current\n",
    "    for i in range(n):\n",
    "        current = current * alpha\n",
    "        sum = sum + current\n",
    "    return sum"
   ]
  },
  {
   "cell_type": "code",
   "execution_count": 28,
   "metadata": {},
   "outputs": [
    {
     "name": "stdout",
     "output_type": "stream",
     "text": [
      "10000 loops, best of 3: 70.2 µs per loop\n"
     ]
    }
   ],
   "source": [
    "%timeit geo_prog(-4.0, 1000)"
   ]
  },
  {
   "cell_type": "code",
   "execution_count": 29,
   "metadata": {
    "collapsed": true
   },
   "outputs": [],
   "source": [
    "%%cython \n",
    "def geo_prog_cython(double alpha, int n):\n",
    "    cdef double current = 1.0\n",
    "    cdef double sum = current          # declaracion estática de tipo!\n",
    "    cdef int i\n",
    "    for i in range(n):\n",
    "        current = current * alpha\n",
    "        sum = sum + current\n",
    "    return sum"
   ]
  },
  {
   "cell_type": "code",
   "execution_count": 31,
   "metadata": {},
   "outputs": [
    {
     "name": "stdout",
     "output_type": "stream",
     "text": [
      "1000000 loops, best of 3: 1.71 µs per loop\n"
     ]
    }
   ],
   "source": [
    "%timeit geo_prog_cython(-4.0, 1000)"
   ]
  },
  {
   "cell_type": "code",
   "execution_count": 32,
   "metadata": {},
   "outputs": [
    {
     "data": {
      "text/plain": [
       "41.17647058823529"
      ]
     },
     "execution_count": 32,
     "metadata": {},
     "output_type": "execute_result"
    }
   ],
   "source": [
    "70e-6 / 1.7e-6"
   ]
  },
  {
   "cell_type": "code",
   "execution_count": 33,
   "metadata": {},
   "outputs": [
    {
     "data": {
      "text/plain": [
       "True"
      ]
     },
     "execution_count": 33,
     "metadata": {},
     "output_type": "execute_result"
    }
   ],
   "source": [
    "geo_prog_cython(-4.0, 500) == geo_prog(-4.0, 500)  "
   ]
  },
  {
   "cell_type": "markdown",
   "metadata": {},
   "source": [
    "Lindo, no?\n",
    "\n",
    "### Funciones Cython internas y públicas\n",
    "\n",
    "la directiva `cdef` tambien permite definir funciones a nivel C/C++, pero son de uso interno a nivel Cython, y no se exponen a Python\n"
   ]
  },
  {
   "cell_type": "code",
   "execution_count": 34,
   "metadata": {},
   "outputs": [],
   "source": [
    "%%cython \n",
    "\n",
    "cdef double priv_geo_prog_cython(double alpha, int n):\n",
    "    cdef double current = 1.0\n",
    "    cdef double sum = current          # declaracion estática de tipo!\n",
    "    cdef int i\n",
    "    for i in range(n):\n",
    "        current = current * alpha\n",
    "        sum = sum + current\n",
    "    return sum\n",
    "\n",
    "def public_geo_prog_cython(double alpha, int n):\n",
    "    return priv_geo_prog_cython(alpha, n)"
   ]
  },
  {
   "cell_type": "code",
   "execution_count": 35,
   "metadata": {},
   "outputs": [
    {
     "ename": "NameError",
     "evalue": "name 'priv_geo_prog_cython' is not defined",
     "output_type": "error",
     "traceback": [
      "\u001b[1;31m---------------------------------------------------------------------------\u001b[0m",
      "\u001b[1;31mNameError\u001b[0m                                 Traceback (most recent call last)",
      "\u001b[1;32m<ipython-input-35-450fec72db4f>\u001b[0m in \u001b[0;36m<module>\u001b[1;34m()\u001b[0m\n\u001b[1;32m----> 1\u001b[1;33m \u001b[0mpriv_geo_prog_cython\u001b[0m\u001b[1;33m(\u001b[0m\u001b[1;36m2.\u001b[0m\u001b[1;33m,\u001b[0m \u001b[1;36m10\u001b[0m\u001b[1;33m)\u001b[0m\u001b[1;33m\u001b[0m\u001b[0m\n\u001b[0m",
      "\u001b[1;31mNameError\u001b[0m: name 'priv_geo_prog_cython' is not defined"
     ]
    }
   ],
   "source": [
    "priv_geo_prog_cython(2., 10)"
   ]
  },
  {
   "cell_type": "code",
   "execution_count": 36,
   "metadata": {},
   "outputs": [
    {
     "data": {
      "text/plain": [
       "2047.0"
      ]
     },
     "execution_count": 36,
     "metadata": {},
     "output_type": "execute_result"
    }
   ],
   "source": [
    "public_geo_prog_cython(2., 10)"
   ]
  },
  {
   "cell_type": "markdown",
   "metadata": {},
   "source": [
    "### Cython y numpy\n",
    "\n",
    "\n",
    "La reglas de broadcasting y vectorización aplican al código Cython"
   ]
  },
  {
   "cell_type": "code",
   "execution_count": 40,
   "metadata": {
    "collapsed": true
   },
   "outputs": [],
   "source": [
    "%%cython\n",
    "\n",
    "def f_plain(x):\n",
    "    return x * (x - 1)\n",
    "\n",
    "def integrate_f_plain(a, b, N):\n",
    "    s = 0\n",
    "    dx = (b - a) / N\n",
    "    for i in range(N):\n",
    "        s += f_plain(a + i * dx)\n",
    "    return s * dx"
   ]
  },
  {
   "cell_type": "code",
   "execution_count": 41,
   "metadata": {},
   "outputs": [
    {
     "data": {
      "text/plain": [
       "328085.875"
      ]
     },
     "execution_count": 41,
     "metadata": {},
     "output_type": "execute_result"
    }
   ],
   "source": [
    "integrate_f_plain(0, 100, 2000)"
   ]
  },
  {
   "cell_type": "code",
   "execution_count": 43,
   "metadata": {
    "collapsed": true
   },
   "outputs": [],
   "source": [
    "import numpy as np"
   ]
  },
  {
   "cell_type": "code",
   "execution_count": 44,
   "metadata": {},
   "outputs": [
    {
     "data": {
      "text/plain": [
       "array([  261.25,   940.31,  2298.33])"
      ]
     },
     "execution_count": 44,
     "metadata": {},
     "output_type": "execute_result"
    }
   ],
   "source": [
    "integrate_f_plain(np.array([0, 1, 2]), np.array([10, 15, 20]), 20)"
   ]
  },
  {
   "cell_type": "markdown",
   "metadata": {},
   "source": [
    "Pero más aún, se puede usar numpy internamente"
   ]
  },
  {
   "cell_type": "code",
   "execution_count": 45,
   "metadata": {},
   "outputs": [],
   "source": [
    "%%cython\n",
    "\n",
    "import numpy as np\n",
    "cimport cython\n",
    "from libc.math cimport sqrt\n",
    "\n",
    "def pairwise_cython(double[:,:] X):\n",
    "    cdef int M = X.shape[0]\n",
    "    cdef int N = X.shape[1]\n",
    "    cdef double tmp, d\n",
    "    cdef double[:, :] D = np.empty((M, M), dtype=np.float64)\n",
    "    for i in range(M):\n",
    "        for j in range(M):\n",
    "            d = 0.0\n",
    "            for k in range(N):\n",
    "                tmp = X[i, k] - X[j, k]\n",
    "                d += tmp * tmp\n",
    "            D[i, j] = sqrt(d)\n",
    "    return np.asarray(D)"
   ]
  },
  {
   "cell_type": "code",
   "execution_count": 46,
   "metadata": {},
   "outputs": [],
   "source": [
    "import numpy as np\n",
    "X = np.random.random((100, 3))"
   ]
  },
  {
   "cell_type": "code",
   "execution_count": 47,
   "metadata": {},
   "outputs": [
    {
     "data": {
      "text/plain": [
       "array([[ 0.        ,  0.48449438,  0.36120024, ...,  0.42444183,\n",
       "         0.36412224,  0.61787909],\n",
       "       [ 0.48449438,  0.        ,  0.47334739, ...,  0.45666607,\n",
       "         0.33364929,  0.43178433],\n",
       "       [ 0.36120024,  0.47334739,  0.        , ...,  0.70041621,\n",
       "         0.50892343,  0.80848887],\n",
       "       ..., \n",
       "       [ 0.42444183,  0.45666607,  0.70041621, ...,  0.        ,\n",
       "         0.32684235,  0.28355982],\n",
       "       [ 0.36412224,  0.33364929,  0.50892343, ...,  0.32684235,\n",
       "         0.        ,  0.49831402],\n",
       "       [ 0.61787909,  0.43178433,  0.80848887, ...,  0.28355982,\n",
       "         0.49831402,  0.        ]])"
      ]
     },
     "execution_count": 47,
     "metadata": {},
     "output_type": "execute_result"
    }
   ],
   "source": [
    "pairwise_cython(X)"
   ]
  },
  {
   "cell_type": "markdown",
   "metadata": {},
   "source": [
    "# Numba\n",
    "\n",
    "Numba es otra manera de optimizar código Python a través de un proceso de compilación. A diferencia de Cython, el proceso de compilación no produce código C válido para ser compilado como una extensión, sino que directamente se compila a \"código maquina\", pero *justo cuando se lo necesita* (ver [Just in Time compilation](http://en.wikipedia.org/wiki/Just-in-time_compilation))\n",
    "\n",
    "Numba utiliza como tecnología subyacente la infraestructura de compilación [LLVM](http://en.wikipedia.org/wiki/LLVM) que es la encargada de realizar estas optimizaciones al vuelo \n",
    "\n",
    "### Instalación\n",
    "\n",
    "Usando conda\n",
    "\n",
    "    conda install numba\n",
    "    \n",
    "Via pip/virtualenv (linux)\n",
    "\n",
    "    sudo apt-get install libllvm build-essential libllvm-dev libedit-dev\n",
    "    pip install llvmlite\n",
    "    pip install numba\n"
   ]
  },
  {
   "cell_type": "code",
   "execution_count": 48,
   "metadata": {},
   "outputs": [],
   "source": [
    "def sum2d(arr):\n",
    "    M, N = arr.shape\n",
    "    result = 0.0\n",
    "    for i in range(M):\n",
    "        for j in range(N):\n",
    "            result += arr[i,j]\n",
    "    return result"
   ]
  },
  {
   "cell_type": "code",
   "execution_count": 52,
   "metadata": {},
   "outputs": [],
   "source": [
    "x = np.ones((10, 20))"
   ]
  },
  {
   "cell_type": "code",
   "execution_count": 53,
   "metadata": {},
   "outputs": [
    {
     "data": {
      "text/plain": [
       "200.0"
      ]
     },
     "execution_count": 53,
     "metadata": {},
     "output_type": "execute_result"
    }
   ],
   "source": [
    "sum2d(x)"
   ]
  },
  {
   "cell_type": "code",
   "execution_count": 54,
   "metadata": {},
   "outputs": [],
   "source": [
    "m_random = np.random.rand(1000, 1000)"
   ]
  },
  {
   "cell_type": "code",
   "execution_count": 55,
   "metadata": {},
   "outputs": [
    {
     "name": "stdout",
     "output_type": "stream",
     "text": [
      "1 loops, best of 3: 215 ms per loop\n"
     ]
    }
   ],
   "source": [
    "%timeit sum2d(m_random)"
   ]
  },
  {
   "cell_type": "markdown",
   "metadata": {},
   "source": [
    "Así se aplica la magia de Numba"
   ]
  },
  {
   "cell_type": "code",
   "execution_count": 56,
   "metadata": {
    "collapsed": true
   },
   "outputs": [],
   "source": [
    "from numba import jit\n",
    "\n",
    "sum2d = jit(sum2d)"
   ]
  },
  {
   "cell_type": "markdown",
   "metadata": {},
   "source": [
    "Para quienes desconfian, comprobemos que la funcion \"numbizada\" produce el mismo resultado"
   ]
  },
  {
   "cell_type": "code",
   "execution_count": 59,
   "metadata": {},
   "outputs": [
    {
     "data": {
      "text/plain": [
       "500372.0924206339"
      ]
     },
     "execution_count": 59,
     "metadata": {},
     "output_type": "execute_result"
    }
   ],
   "source": [
    "sum2d_numba(m_random)"
   ]
  },
  {
   "cell_type": "markdown",
   "metadata": {},
   "source": [
    "Pero anda un par de cientos de veces más rápido"
   ]
  },
  {
   "cell_type": "code",
   "execution_count": 58,
   "metadata": {},
   "outputs": [
    {
     "name": "stdout",
     "output_type": "stream",
     "text": [
      "1000 loops, best of 3: 1.03 ms per loop\n"
     ]
    }
   ],
   "source": [
    "%timeit sum2d_numba(m_random)"
   ]
  },
  {
   "cell_type": "markdown",
   "metadata": {},
   "source": [
    "Una forma forma más elegante de usar usar `jit` es como un **decorador**"
   ]
  },
  {
   "cell_type": "code",
   "execution_count": 159,
   "metadata": {
    "collapsed": true
   },
   "outputs": [],
   "source": [
    "@jit\n",
    "def sum2d_(arr):\n",
    "    M, N = arr.shape\n",
    "    result = 0.0\n",
    "    for i in range(M):\n",
    "        for j in range(N):\n",
    "            result += arr[i,j]\n",
    "    return result"
   ]
  },
  {
   "cell_type": "code",
   "execution_count": 160,
   "metadata": {},
   "outputs": [
    {
     "name": "stdout",
     "output_type": "stream",
     "text": [
      "The slowest run took 96.07 times longer than the fastest. This could mean that an intermediate result is being cached \n",
      "1000 loops, best of 3: 1.04 ms per loop\n"
     ]
    }
   ],
   "source": [
    "%timeit sum2d_(m_random)"
   ]
  },
  {
   "cell_type": "markdown",
   "metadata": {},
   "source": [
    "¡Más de 200 veces más rápido con una línea de código!"
   ]
  },
  {
   "cell_type": "code",
   "execution_count": 161,
   "metadata": {
    "collapsed": true
   },
   "outputs": [],
   "source": []
  },
  {
   "cell_type": "code",
   "execution_count": 6,
   "metadata": {},
   "outputs": [
    {
     "data": {
      "text/plain": [
       "array([[162, 162, 162, ..., 170, 155, 128],\n",
       "       [162, 162, 162, ..., 170, 155, 128],\n",
       "       [162, 162, 162, ..., 170, 155, 128],\n",
       "       ..., \n",
       "       [ 43,  43,  50, ..., 104, 100,  98],\n",
       "       [ 44,  44,  55, ..., 104, 105, 108],\n",
       "       [ 44,  44,  55, ..., 104, 105, 108]])"
      ]
     },
     "execution_count": 6,
     "metadata": {},
     "output_type": "execute_result"
    }
   ],
   "source": [
    "from scipy.misc import lena\n",
    "image =  lena()\n",
    "image"
   ]
  },
  {
   "cell_type": "code",
   "execution_count": 3,
   "metadata": {
    "collapsed": true
   },
   "outputs": [],
   "source": [
    "%matplotlib inline"
   ]
  },
  {
   "cell_type": "code",
   "execution_count": 2,
   "metadata": {},
   "outputs": [
    {
     "data": {
      "text/plain": [
       "<matplotlib.image.AxesImage at 0x7f2ba3c4ef28>"
      ]
     },
     "execution_count": 2,
     "metadata": {},
     "output_type": "execute_result"
    }
   ],
   "source": [
    "from matplotlib import pyplot as plt\n",
    "\n",
    "plt.gray()\n",
    "plt.imshow(image)"
   ]
  },
  {
   "cell_type": "code",
   "execution_count": 14,
   "metadata": {},
   "outputs": [
    {
     "data": {
      "text/plain": [
       "<matplotlib.image.AxesImage at 0x7f2ba294b320>"
      ]
     },
     "execution_count": 14,
     "metadata": {},
     "output_type": "execute_result"
    },
    {
     "data": {
      "image/png": "[encoded data removed]",
      "text/plain": [
       "<matplotlib.figure.Figure at 0x7f2ba29f7438>"
      ]
     },
     "metadata": {},
     "output_type": "display_data"
    }
   ],
   "source": [
    "plt.imshow(image < 200)"
   ]
  },
  {
   "cell_type": "code",
   "execution_count": 67,
   "metadata": {},
   "outputs": [],
   "source": [
    "import numpy as np\n",
    "\n",
    "def filter2d_simple(image, filt):\n",
    "    M, N = image.shape\n",
    "    Mf, Nf = filt.shape\n",
    "    Mf2 = Mf // 2\n",
    "    Nf2 = Nf // 2\n",
    "    result = np.zeros(image.shape)\n",
    "    for i in range(Mf2, M - Mf2):\n",
    "        for j in range(Nf2, N - Nf2):\n",
    "            num = 0.0\n",
    "            for ii in range(Mf):\n",
    "                for jj in range(Nf):\n",
    "                    num += (filt[Mf-1-ii, Nf-1-jj] * image[i-Mf2+ii, j-Nf2+jj])\n",
    "            result[i, j] = num\n",
    "    return result"
   ]
  },
  {
   "cell_type": "code",
   "execution_count": 68,
   "metadata": {},
   "outputs": [],
   "source": [
    "filter = np.ones((5,5), dtype=np.int32)"
   ]
  },
  {
   "cell_type": "code",
   "execution_count": 69,
   "metadata": {},
   "outputs": [
    {
     "name": "stdout",
     "output_type": "stream",
     "text": [
      "1 loops, best of 3: 25.6 s per loop\n"
     ]
    },
    {
     "data": {
      "image/png": "[encoded data removed]",
      "text/plain": [
       "<matplotlib.figure.Figure at 0x7ff9e6ca3f98>"
      ]
     },
     "metadata": {},
     "output_type": "display_data"
    }
   ],
   "source": [
    "%%timeit\n",
    "plt.imshow(filter2d_simple(image, filter))"
   ]
  },
  {
   "cell_type": "code",
   "execution_count": 72,
   "metadata": {},
   "outputs": [],
   "source": [
    "from numba import int32\n",
    "\n",
    "@jit(int32[:,:](int32[:,:], int32[:,:]))\n",
    "def filter2d_numba(image, filt):\n",
    "    M, N = image.shape\n",
    "    Mf, Nf = filt.shape\n",
    "    Mf2 = Mf // 2\n",
    "    Nf2 = Nf // 2\n",
    "    result = np.zeros_like(image)\n",
    "    for i in range(Mf2, M - Mf2):\n",
    "        for j in range(Nf2, N - Nf2):\n",
    "            num = 0.0\n",
    "            for ii in range(Mf):\n",
    "                for jj in range(Nf):\n",
    "                    num += (filt[Mf-1-ii, Nf-1-jj] * image[i-Mf2+ii, j-Nf2+jj])\n",
    "            result[i, j] = num\n",
    "    return result"
   ]
  },
  {
   "cell_type": "markdown",
   "metadata": {},
   "source": [
    "La sintaxis de parámetros para `jit()`  es `salida(*entrada)`. En este caso todas matrices de enteros de 32bits"
   ]
  },
  {
   "cell_type": "code",
   "execution_count": 75,
   "metadata": {},
   "outputs": [
    {
     "name": "stdout",
     "output_type": "stream",
     "text": [
      "The slowest run took 7.16 times longer than the fastest. This could mean that an intermediate result is being cached \n",
      "10 loops, best of 3: 19.4 ms per loop\n"
     ]
    },
    {
     "data": {
      "image/png": "[encoded data removed]",
      "text/plain": [
       "<matplotlib.figure.Figure at 0x7ff9e40d44a8>"
      ]
     },
     "metadata": {},
     "output_type": "display_data"
    }
   ],
   "source": [
    "%%timeit\n",
    "plt.imshow(filter2d_numba(image, filter))"
   ]
  },
  {
   "cell_type": "code",
   "execution_count": 262,
   "metadata": {},
   "outputs": [
    {
     "data": {
      "text/plain": [
       "array([[ True,  True,  True, ...,  True,  True,  True],\n",
       "       [ True,  True,  True, ...,  True,  True,  True],\n",
       "       [ True,  True,  True, ...,  True,  True,  True],\n",
       "       ..., \n",
       "       [ True,  True,  True, ...,  True,  True,  True],\n",
       "       [ True,  True,  True, ...,  True,  True,  True],\n",
       "       [ True,  True,  True, ...,  True,  True,  True]], dtype=bool)"
      ]
     },
     "execution_count": 262,
     "metadata": {},
     "output_type": "execute_result"
    }
   ],
   "source": [
    "filter2d_numba(image, filter) == filter2d_simple(image, filter)"
   ]
  },
  {
   "cell_type": "code",
   "execution_count": 253,
   "metadata": {},
   "outputs": [
    {
     "data": {
      "text/plain": [
       "True"
      ]
     },
     "execution_count": 253,
     "metadata": {},
     "output_type": "execute_result"
    }
   ],
   "source": [
    "np.all(_)"
   ]
  },
  {
   "cell_type": "markdown",
   "metadata": {},
   "source": [
    "1400 veces más rápido casi sin modificar el código!"
   ]
  },
  {
   "cell_type": "markdown",
   "metadata": {},
   "source": [
    "De paso, Scipy tiene esta función definida"
   ]
  },
  {
   "cell_type": "code",
   "execution_count": 76,
   "metadata": {},
   "outputs": [],
   "source": [
    "from scipy.ndimage import convolve"
   ]
  },
  {
   "cell_type": "code",
   "execution_count": 82,
   "metadata": {},
   "outputs": [
    {
     "data": {
      "text/plain": [
       "<matplotlib.image.AxesImage at 0x7ff9e41cc908>"
      ]
     },
     "execution_count": 82,
     "metadata": {},
     "output_type": "execute_result"
    },
    {
     "data": {
      "image/png": "[encoded data removed]",
      "text/plain": [
       "<matplotlib.figure.Figure at 0x7ff9e404e7b8>"
      ]
     },
     "metadata": {},
     "output_type": "display_data"
    }
   ],
   "source": [
    "plt.imshow(convolve(image, np.ones((10,10))))"
   ]
  },
  {
   "cell_type": "code",
   "execution_count": 83,
   "metadata": {},
   "outputs": [
    {
     "name": "stdout",
     "output_type": "stream",
     "text": [
      "The slowest run took 8.73 times longer than the fastest. This could mean that an intermediate result is being cached \n",
      "100 loops, best of 3: 13.5 ms per loop\n"
     ]
    },
    {
     "data": {
      "image/png": "[encoded data removed]",
      "text/plain": [
       "<matplotlib.figure.Figure at 0x7ff9e41c07b8>"
      ]
     },
     "metadata": {},
     "output_type": "display_data"
    }
   ],
   "source": [
    "%%timeit \n",
    "plt.imshow(convolve(image, filter, mode='constant'))"
   ]
  },
  {
   "cell_type": "markdown",
   "metadata": {},
   "source": [
    "A todo esto, les gustó [Lena](http://en.wikipedia.org/wiki/Lenna), cierto?"
   ]
  },
  {
   "cell_type": "code",
   "execution_count": 90,
   "metadata": {},
   "outputs": [
    {
     "data": {
      "text/plain": [
       "<matplotlib.image.AxesImage at 0x7ff9df687710>"
      ]
     },
     "execution_count": 90,
     "metadata": {},
     "output_type": "execute_result"
    },
    {
     "data": {
      "image/png": "[encoded data removed]",
      "text/plain": [
       "<matplotlib.figure.Figure at 0x7ff9df6cb828>"
      ]
     },
     "metadata": {},
     "output_type": "display_data"
    }
   ],
   "source": [
    "lena_img = image\n",
    "\n",
    "plt.imshow(lena_img )"
   ]
  },
  {
   "cell_type": "code",
   "execution_count": 91,
   "metadata": {},
   "outputs": [],
   "source": [
    "from scipy.ndimage.interpolation import rotate\n",
    "rotate??"
   ]
  },
  {
   "cell_type": "markdown",
   "metadata": {},
   "source": [
    "Si les interesa esta área deberian ver los paquetes especializados [Scikit-image](http://scikit-image.org/), [Pillow](http://pillow.readthedocs.org) y [OpenCV](http://opencv.org/)"
   ]
  },
  {
   "cell_type": "markdown",
   "metadata": {},
   "source": [
    "### Los límites de la magia de Numba y como maximizarla\n",
    "\n",
    "Cuando no se definen tipos en la signatura, Numba hace una compilación *\"lazy\"* (vaga, que no se produce hasta el momento de se invoncada la función), e intentará operar sobre cualquier tipo de datos que reciba"
   ]
  },
  {
   "cell_type": "code",
   "execution_count": 92,
   "metadata": {
    "collapsed": true
   },
   "outputs": [],
   "source": [
    "from numba import jit\n",
    "\n",
    "@jit\n",
    "def plus(x, y):\n",
    "    # A somewhat trivial example\n",
    "    return x + y\n",
    "\n"
   ]
  },
  {
   "cell_type": "code",
   "execution_count": 93,
   "metadata": {},
   "outputs": [
    {
     "data": {
      "text/plain": [
       "6.4"
      ]
     },
     "execution_count": 93,
     "metadata": {},
     "output_type": "execute_result"
    }
   ],
   "source": [
    "plus(3.4, 3)"
   ]
  },
  {
   "cell_type": "code",
   "execution_count": 94,
   "metadata": {},
   "outputs": [
    {
     "data": {
      "text/plain": [
       "'ab'"
      ]
     },
     "execution_count": 94,
     "metadata": {},
     "output_type": "execute_result"
    }
   ],
   "source": [
    "plus('a', 'b')"
   ]
  },
  {
   "cell_type": "markdown",
   "metadata": {},
   "source": [
    "Cuando especificamos la signatura, la optimización es *\"eager\"*, y obviamente esta especialización aumenta la performance sacrificando versatilidad"
   ]
  },
  {
   "cell_type": "code",
   "execution_count": 95,
   "metadata": {
    "collapsed": true
   },
   "outputs": [],
   "source": [
    "@jit(int32(int32, int32))\n",
    "def plus32(x, y):\n",
    "    # A somewhat trivial example\n",
    "    return x + y\n"
   ]
  },
  {
   "cell_type": "code",
   "execution_count": 96,
   "metadata": {},
   "outputs": [
    {
     "data": {
      "text/plain": [
       "347"
      ]
     },
     "execution_count": 96,
     "metadata": {},
     "output_type": "execute_result"
    }
   ],
   "source": [
    "plus32(2, 345)"
   ]
  },
  {
   "cell_type": "markdown",
   "metadata": {},
   "source": [
    "Si pasamos parámetros \"convertibles\" al tipo esperado, por defecto Numba le consultará a Python si hay una regla de  *casting* (conversión de tipos) que se pueda aplicar"
   ]
  },
  {
   "cell_type": "code",
   "execution_count": 98,
   "metadata": {},
   "outputs": [
    {
     "data": {
      "text/plain": [
       "2"
      ]
     },
     "execution_count": 98,
     "metadata": {},
     "output_type": "execute_result"
    }
   ],
   "source": [
    "plus32(2.5, 345)"
   ]
  },
  {
   "cell_type": "markdown",
   "metadata": {},
   "source": [
    "Pero cuando el *cast* falla, se produce un error"
   ]
  },
  {
   "cell_type": "code",
   "execution_count": 97,
   "metadata": {},
   "outputs": [
    {
     "ename": "TypeError",
     "evalue": "No matching definition for argument type(s) str, str",
     "output_type": "error",
     "traceback": [
      "\u001b[1;31m---------------------------------------------------------------------------\u001b[0m",
      "\u001b[1;31mTypeError\u001b[0m                                 Traceback (most recent call last)",
      "\u001b[1;32m<ipython-input-97-249352eefaa0>\u001b[0m in \u001b[0;36m<module>\u001b[1;34m()\u001b[0m\n\u001b[1;32m----> 1\u001b[1;33m \u001b[0mplus32\u001b[0m\u001b[1;33m(\u001b[0m\u001b[1;34m'a'\u001b[0m\u001b[1;33m,\u001b[0m \u001b[1;34m'b'\u001b[0m\u001b[1;33m)\u001b[0m\u001b[1;33m\u001b[0m\u001b[0m\n\u001b[0m",
      "\u001b[1;32m/home/tin/.virtualenvs/curso/lib/python3.4/site-packages/numba/dispatcher.py\u001b[0m in \u001b[0;36m_explain_matching_error\u001b[1;34m(self, *args, **kws)\u001b[0m\n\u001b[0;32m    198\u001b[0m         msg = (\"No matching definition for argument type(s) %s\"\n\u001b[0;32m    199\u001b[0m                % ', '.join(map(str, args)))\n\u001b[1;32m--> 200\u001b[1;33m         \u001b[1;32mraise\u001b[0m \u001b[0mTypeError\u001b[0m\u001b[1;33m(\u001b[0m\u001b[0mmsg\u001b[0m\u001b[1;33m)\u001b[0m\u001b[1;33m\u001b[0m\u001b[0m\n\u001b[0m\u001b[0;32m    201\u001b[0m \u001b[1;33m\u001b[0m\u001b[0m\n\u001b[0;32m    202\u001b[0m     \u001b[1;32mdef\u001b[0m \u001b[0m__repr__\u001b[0m\u001b[1;33m(\u001b[0m\u001b[0mself\u001b[0m\u001b[1;33m)\u001b[0m\u001b[1;33m:\u001b[0m\u001b[1;33m\u001b[0m\u001b[0m\n",
      "\u001b[1;31mTypeError\u001b[0m: No matching definition for argument type(s) str, str"
     ]
    }
   ],
   "source": [
    "plus32('a', 'b')"
   ]
  },
  {
   "cell_type": "markdown",
   "metadata": {},
   "source": [
    "Numba tiene **dos estrategias de compilación**: una optimización directa y de máxima perfomance denominado **modo nopython**, que genera código maquina que \"no requiere consultar a la API C de Python\" logrando inferir los tipos de datos con los que está trabajando. Cuando esta inferencia falla (cuando Numba no logró inferir cuál es el tipo de dato \"dinámico\" de alguna operación), automáticamente conmuta al **modo object** que sí utiliza la API C de Python. En este modo las únicas optimizaciones que se producen son con los *loops*. \n",
    "\n",
    "\n",
    "\n",
    "Pero la técnica de optimización es **factorizar el código \"nopython\"**. Para evitar que implicitamente se pase a modo object, se puede forzar el modo con `nopython=True`\n"
   ]
  },
  {
   "cell_type": "code",
   "execution_count": 387,
   "metadata": {},
   "outputs": [
    {
     "ename": "TypeError",
     "evalue": "unsupported operand type(s) for +: 'int' and 'tuple'",
     "output_type": "error",
     "traceback": [
      "\u001b[1;31m---------------------------------------------------------------------------\u001b[0m",
      "\u001b[1;31mTypeError\u001b[0m                                 Traceback (most recent call last)",
      "\u001b[1;32m<ipython-input-387-2aa65a89f04c>\u001b[0m in \u001b[0;36m<module>\u001b[1;34m()\u001b[0m\n\u001b[1;32m----> 1\u001b[1;33m \u001b[0msuma\u001b[0m\u001b[1;33m(\u001b[0m\u001b[1;36m1\u001b[0m\u001b[1;33m,\u001b[0m \u001b[1;33m(\u001b[0m\u001b[1;36m1\u001b[0m\u001b[1;33m,\u001b[0m\u001b[1;33m)\u001b[0m\u001b[1;33m)\u001b[0m\u001b[1;33m\u001b[0m\u001b[0m\n\u001b[0m",
      "\u001b[1;31mTypeError\u001b[0m: unsupported operand type(s) for +: 'int' and 'tuple'"
     ]
    }
   ],
   "source": [
    "suma(1, (1,))"
   ]
  },
  {
   "cell_type": "code",
   "execution_count": 389,
   "metadata": {
    "collapsed": true
   },
   "outputs": [],
   "source": [
    "@jit(nopython=True)\n",
    "def suma_nopy(x, y):\n",
    "    return x + y"
   ]
  },
  {
   "cell_type": "code",
   "execution_count": 391,
   "metadata": {},
   "outputs": [
    {
     "data": {
      "text/plain": [
       "2.0"
      ]
     },
     "execution_count": 391,
     "metadata": {},
     "output_type": "execute_result"
    }
   ],
   "source": [
    "suma_nopy(1, (1,))"
   ]
  },
  {
   "cell_type": "markdown",
   "metadata": {},
   "source": [
    "### Un ejemplo: minimos locales en un grid 2D\n",
    "\n",
    "Por ejemplo, imaginemos que tenemos que detectar valores mínimos locales dentro de una malla. Los valores mínimos deberán ser simplemente valores más bajos que los que haya en los 8 nodos de su entorno inmediato\n"
   ]
  },
  {
   "cell_type": "code",
   "execution_count": 101,
   "metadata": {
    "collapsed": true
   },
   "outputs": [],
   "source": [
    "data = np.random.randn(1000, 1000)"
   ]
  },
  {
   "cell_type": "code",
   "execution_count": 102,
   "metadata": {
    "collapsed": true
   },
   "outputs": [],
   "source": [
    "def busca_min_np(malla):\n",
    "    minimos = np.zeros_like(malla, dtype=bool)\n",
    "    for i in range(1, malla.shape[1]-1):\n",
    "        for j in range(1, malla.shape[0]-1):\n",
    "            if all((malla[j, i] < malla[j-1, i-1],\n",
    "                    malla[j, i] < malla[j-1, i],\n",
    "                    malla[j, i] < malla[j-1, i+1],\n",
    "                    malla[j, i] < malla[j, i-1],\n",
    "                    malla[j, i] < malla[j, i+1],\n",
    "                    malla[j, i] < malla[j+1, i-1],\n",
    "                    malla[j, i] < malla[j+1, i],\n",
    "                    malla[j, i] < malla[j+1, i+1])):\n",
    "                minimos[i, j] = True\n",
    "\n",
    "    return np.nonzero(minimos)"
   ]
  },
  {
   "cell_type": "code",
   "execution_count": 103,
   "metadata": {},
   "outputs": [
    {
     "data": {
      "text/plain": [
       "(array([  1,   1,   1, ..., 998, 998, 998]),\n",
       " array([ 13,  17,  22, ..., 955, 957, 959]))"
      ]
     },
     "execution_count": 103,
     "metadata": {},
     "output_type": "execute_result"
    }
   ],
   "source": [
    "busca_min_np(data)"
   ]
  },
  {
   "cell_type": "code",
   "execution_count": 104,
   "metadata": {},
   "outputs": [
    {
     "name": "stdout",
     "output_type": "stream",
     "text": [
      "1 loops, best of 3: 2.79 s per loop\n"
     ]
    }
   ],
   "source": [
    "%timeit busca_min_np(data)"
   ]
  },
  {
   "cell_type": "code",
   "execution_count": 105,
   "metadata": {},
   "outputs": [],
   "source": [
    "busca_min_np_numba_object = jit(busca_min_np)"
   ]
  },
  {
   "cell_type": "code",
   "execution_count": 106,
   "metadata": {},
   "outputs": [
    {
     "ename": "KeyError",
     "evalue": "404",
     "output_type": "error",
     "traceback": [
      "\u001b[1;31m---------------------------------------------------------------------------\u001b[0m",
      "\u001b[1;31mKeyError\u001b[0m                                  Traceback (most recent call last)",
      "\u001b[1;32m<ipython-input-106-fdca13922cdf>\u001b[0m in \u001b[0;36m<module>\u001b[1;34m()\u001b[0m\n\u001b[1;32m----> 1\u001b[1;33m \u001b[0mnp\u001b[0m\u001b[1;33m.\u001b[0m\u001b[0mall\u001b[0m\u001b[1;33m(\u001b[0m\u001b[0mbusca_min_np_numba_object\u001b[0m\u001b[1;33m(\u001b[0m\u001b[0mdata\u001b[0m\u001b[1;33m)\u001b[0m\u001b[1;33m[\u001b[0m\u001b[1;36m0\u001b[0m\u001b[1;33m]\u001b[0m \u001b[1;33m==\u001b[0m \u001b[0mOut\u001b[0m\u001b[1;33m[\u001b[0m\u001b[1;36m404\u001b[0m\u001b[1;33m]\u001b[0m\u001b[1;33m[\u001b[0m\u001b[1;36m0\u001b[0m\u001b[1;33m]\u001b[0m\u001b[1;33m)\u001b[0m\u001b[1;33m\u001b[0m\u001b[0m\n\u001b[0m",
      "\u001b[1;31mKeyError\u001b[0m: 404"
     ]
    }
   ],
   "source": [
    "np.all(busca_min_np_numba_object(data)[0] == Out[404][0])"
   ]
  },
  {
   "cell_type": "code",
   "execution_count": 107,
   "metadata": {},
   "outputs": [
    {
     "name": "stdout",
     "output_type": "stream",
     "text": [
      "1 loops, best of 3: 4.04 s per loop\n"
     ]
    }
   ],
   "source": [
    "%timeit busca_min_np_numba_object(data)"
   ]
  },
  {
   "cell_type": "code",
   "execution_count": 109,
   "metadata": {},
   "outputs": [],
   "source": [
    "@jit(nopython=True)\n",
    "def busca_min_np_numba_nopy(malla):\n",
    "    minimos = np.zeros_likes(malla, dtype=bool)\n",
    "    for i in range(1, malla.shape[1]-1):\n",
    "        for j in range(1, malla.shape[0]-1):\n",
    "            if all((malla[j, i] < malla[j-1, i-1],\n",
    "                    malla[j, i] < malla[j-1, i],\n",
    "                    malla[j, i] < malla[j-1, i+1],\n",
    "                    malla[j, i] < malla[j, i-1],\n",
    "                    malla[j, i] < malla[j, i+1],\n",
    "                    malla[j, i] < malla[j+1, i-1],\n",
    "                    malla[j, i] < malla[j+1, i],\n",
    "                    malla[j, i] < malla[j+1, i+1])):\n",
    "                minimos[i, j] = True\n",
    "\n",
    "    return np.nonzero(minimos)"
   ]
  },
  {
   "cell_type": "code",
   "execution_count": 110,
   "metadata": {},
   "outputs": [
    {
     "ename": "AttributeError",
     "evalue": "Failed at nopython (analyzing bytecode)\n'module' object has no attribute 'zeros_likes'",
     "output_type": "error",
     "traceback": [
      "\u001b[1;31m---------------------------------------------------------------------------\u001b[0m",
      "\u001b[1;31mAttributeError\u001b[0m                            Traceback (most recent call last)",
      "\u001b[1;32m<ipython-input-110-4eced6d8c6b2>\u001b[0m in \u001b[0;36m<module>\u001b[1;34m()\u001b[0m\n\u001b[1;32m----> 1\u001b[1;33m \u001b[0mbusca_min_np_numba_nopy\u001b[0m\u001b[1;33m(\u001b[0m\u001b[0mdata\u001b[0m\u001b[1;33m)\u001b[0m\u001b[1;33m\u001b[0m\u001b[0m\n\u001b[0m",
      "\u001b[1;32m/home/tin/.virtualenvs/curso/lib/python3.4/site-packages/numba/dispatcher.py\u001b[0m in \u001b[0;36m_compile_for_args\u001b[1;34m(self, *args, **kws)\u001b[0m\n\u001b[0;32m    160\u001b[0m         \u001b[1;32massert\u001b[0m \u001b[1;32mnot\u001b[0m \u001b[0mkws\u001b[0m\u001b[1;33m\u001b[0m\u001b[0m\n\u001b[0;32m    161\u001b[0m         \u001b[0msig\u001b[0m \u001b[1;33m=\u001b[0m \u001b[0mtuple\u001b[0m\u001b[1;33m(\u001b[0m\u001b[1;33m[\u001b[0m\u001b[0mself\u001b[0m\u001b[1;33m.\u001b[0m\u001b[0mtypeof_pyval\u001b[0m\u001b[1;33m(\u001b[0m\u001b[0ma\u001b[0m\u001b[1;33m)\u001b[0m \u001b[1;32mfor\u001b[0m \u001b[0ma\u001b[0m \u001b[1;32min\u001b[0m \u001b[0margs\u001b[0m\u001b[1;33m]\u001b[0m\u001b[1;33m)\u001b[0m\u001b[1;33m\u001b[0m\u001b[0m\n\u001b[1;32m--> 162\u001b[1;33m         \u001b[1;32mreturn\u001b[0m \u001b[0mself\u001b[0m\u001b[1;33m.\u001b[0m\u001b[0mcompile\u001b[0m\u001b[1;33m(\u001b[0m\u001b[0msig\u001b[0m\u001b[1;33m)\u001b[0m\u001b[1;33m\u001b[0m\u001b[0m\n\u001b[0m\u001b[0;32m    163\u001b[0m \u001b[1;33m\u001b[0m\u001b[0m\n\u001b[0;32m    164\u001b[0m     \u001b[1;32mdef\u001b[0m \u001b[0minspect_llvm\u001b[0m\u001b[1;33m(\u001b[0m\u001b[0mself\u001b[0m\u001b[1;33m,\u001b[0m \u001b[0msignature\u001b[0m\u001b[1;33m=\u001b[0m\u001b[1;32mNone\u001b[0m\u001b[1;33m)\u001b[0m\u001b[1;33m:\u001b[0m\u001b[1;33m\u001b[0m\u001b[0m\n",
      "\u001b[1;32m/home/tin/.virtualenvs/curso/lib/python3.4/site-packages/numba/dispatcher.py\u001b[0m in \u001b[0;36mcompile\u001b[1;34m(self, sig)\u001b[0m\n\u001b[0;32m    303\u001b[0m                                           \u001b[0mself\u001b[0m\u001b[1;33m.\u001b[0m\u001b[0mpy_func\u001b[0m\u001b[1;33m,\u001b[0m\u001b[1;33m\u001b[0m\u001b[0m\n\u001b[0;32m    304\u001b[0m                                           \u001b[0margs\u001b[0m\u001b[1;33m=\u001b[0m\u001b[0margs\u001b[0m\u001b[1;33m,\u001b[0m \u001b[0mreturn_type\u001b[0m\u001b[1;33m=\u001b[0m\u001b[0mreturn_type\u001b[0m\u001b[1;33m,\u001b[0m\u001b[1;33m\u001b[0m\u001b[0m\n\u001b[1;32m--> 305\u001b[1;33m                                           flags=flags, locals=self.locals)\n\u001b[0m\u001b[0;32m    306\u001b[0m \u001b[1;33m\u001b[0m\u001b[0m\n\u001b[0;32m    307\u001b[0m             \u001b[1;31m# Check typing error if object mode is used\u001b[0m\u001b[1;33m\u001b[0m\u001b[1;33m\u001b[0m\u001b[0m\n",
      "\u001b[1;32m/home/tin/.virtualenvs/curso/lib/python3.4/site-packages/numba/compiler.py\u001b[0m in \u001b[0;36mcompile_extra\u001b[1;34m(typingctx, targetctx, func, args, return_type, flags, locals, library)\u001b[0m\n\u001b[0;32m    561\u001b[0m     pipeline = Pipeline(typingctx, targetctx, library,\n\u001b[0;32m    562\u001b[0m                         args, return_type, flags, locals)\n\u001b[1;32m--> 563\u001b[1;33m     \u001b[1;32mreturn\u001b[0m \u001b[0mpipeline\u001b[0m\u001b[1;33m.\u001b[0m\u001b[0mcompile_extra\u001b[0m\u001b[1;33m(\u001b[0m\u001b[0mfunc\u001b[0m\u001b[1;33m)\u001b[0m\u001b[1;33m\u001b[0m\u001b[0m\n\u001b[0m\u001b[0;32m    564\u001b[0m \u001b[1;33m\u001b[0m\u001b[0m\n\u001b[0;32m    565\u001b[0m \u001b[1;33m\u001b[0m\u001b[0m\n",
      "\u001b[1;32m/home/tin/.virtualenvs/curso/lib/python3.4/site-packages/numba/compiler.py\u001b[0m in \u001b[0;36mcompile_extra\u001b[1;34m(self, func)\u001b[0m\n\u001b[0;32m    299\u001b[0m                 \u001b[1;32mraise\u001b[0m \u001b[0me\u001b[0m\u001b[1;33m\u001b[0m\u001b[0m\n\u001b[0;32m    300\u001b[0m \u001b[1;33m\u001b[0m\u001b[0m\n\u001b[1;32m--> 301\u001b[1;33m         \u001b[1;32mreturn\u001b[0m \u001b[0mself\u001b[0m\u001b[1;33m.\u001b[0m\u001b[0mcompile_bytecode\u001b[0m\u001b[1;33m(\u001b[0m\u001b[0mbc\u001b[0m\u001b[1;33m,\u001b[0m \u001b[0mfunc_attr\u001b[0m\u001b[1;33m=\u001b[0m\u001b[0mself\u001b[0m\u001b[1;33m.\u001b[0m\u001b[0mfunc_attr\u001b[0m\u001b[1;33m)\u001b[0m\u001b[1;33m\u001b[0m\u001b[0m\n\u001b[0m\u001b[0;32m    302\u001b[0m \u001b[1;33m\u001b[0m\u001b[0m\n\u001b[0;32m    303\u001b[0m     def compile_bytecode(self, bc, lifted=(), lifted_from=None,\n",
      "\u001b[1;32m/home/tin/.virtualenvs/curso/lib/python3.4/site-packages/numba/compiler.py\u001b[0m in \u001b[0;36mcompile_bytecode\u001b[1;34m(self, bc, lifted, lifted_from, func_attr)\u001b[0m\n\u001b[0;32m    308\u001b[0m         \u001b[0mself\u001b[0m\u001b[1;33m.\u001b[0m\u001b[0mlifted_from\u001b[0m \u001b[1;33m=\u001b[0m \u001b[0mlifted_from\u001b[0m\u001b[1;33m\u001b[0m\u001b[0m\n\u001b[0;32m    309\u001b[0m         \u001b[0mself\u001b[0m\u001b[1;33m.\u001b[0m\u001b[0mfunc_attr\u001b[0m \u001b[1;33m=\u001b[0m \u001b[0mfunc_attr\u001b[0m\u001b[1;33m\u001b[0m\u001b[0m\n\u001b[1;32m--> 310\u001b[1;33m         \u001b[1;32mreturn\u001b[0m \u001b[0mself\u001b[0m\u001b[1;33m.\u001b[0m\u001b[0m_compile_bytecode\u001b[0m\u001b[1;33m(\u001b[0m\u001b[1;33m)\u001b[0m\u001b[1;33m\u001b[0m\u001b[0m\n\u001b[0m\u001b[0;32m    311\u001b[0m \u001b[1;33m\u001b[0m\u001b[0m\n\u001b[0;32m    312\u001b[0m     \u001b[1;32mdef\u001b[0m \u001b[0mcompile_internal\u001b[0m\u001b[1;33m(\u001b[0m\u001b[0mself\u001b[0m\u001b[1;33m,\u001b[0m \u001b[0mbc\u001b[0m\u001b[1;33m,\u001b[0m \u001b[0mfunc_attr\u001b[0m\u001b[1;33m=\u001b[0m\u001b[0mDEFAULT_FUNCTION_ATTRIBUTES\u001b[0m\u001b[1;33m)\u001b[0m\u001b[1;33m:\u001b[0m\u001b[1;33m\u001b[0m\u001b[0m\n",
      "\u001b[1;32m/home/tin/.virtualenvs/curso/lib/python3.4/site-packages/numba/compiler.py\u001b[0m in \u001b[0;36m_compile_bytecode\u001b[1;34m(self)\u001b[0m\n\u001b[0;32m    548\u001b[0m \u001b[1;33m\u001b[0m\u001b[0m\n\u001b[0;32m    549\u001b[0m         \u001b[0mpm\u001b[0m\u001b[1;33m.\u001b[0m\u001b[0mfinalize\u001b[0m\u001b[1;33m(\u001b[0m\u001b[1;33m)\u001b[0m\u001b[1;33m\u001b[0m\u001b[0m\n\u001b[1;32m--> 550\u001b[1;33m         \u001b[1;32mreturn\u001b[0m \u001b[0mpm\u001b[0m\u001b[1;33m.\u001b[0m\u001b[0mrun\u001b[0m\u001b[1;33m(\u001b[0m\u001b[0mself\u001b[0m\u001b[1;33m.\u001b[0m\u001b[0mstatus\u001b[0m\u001b[1;33m)\u001b[0m\u001b[1;33m\u001b[0m\u001b[0m\n\u001b[0m\u001b[0;32m    551\u001b[0m \u001b[1;33m\u001b[0m\u001b[0m\n\u001b[0;32m    552\u001b[0m \u001b[1;33m\u001b[0m\u001b[0m\n",
      "\u001b[1;32m/home/tin/.virtualenvs/curso/lib/python3.4/site-packages/numba/compiler.py\u001b[0m in \u001b[0;36mrun\u001b[1;34m(self, status)\u001b[0m\n\u001b[0;32m    197\u001b[0m                     \u001b[1;31m# No more fallback pipelines?\u001b[0m\u001b[1;33m\u001b[0m\u001b[1;33m\u001b[0m\u001b[0m\n\u001b[0;32m    198\u001b[0m                     \u001b[1;32mif\u001b[0m \u001b[0mis_final_pipeline\u001b[0m\u001b[1;33m:\u001b[0m\u001b[1;33m\u001b[0m\u001b[0m\n\u001b[1;32m--> 199\u001b[1;33m                         \u001b[1;32mraise\u001b[0m \u001b[0mpatched_exception\u001b[0m\u001b[1;33m\u001b[0m\u001b[0m\n\u001b[0m\u001b[0;32m    200\u001b[0m                     \u001b[1;31m# Go to next fallback pipeline\u001b[0m\u001b[1;33m\u001b[0m\u001b[1;33m\u001b[0m\u001b[0m\n\u001b[0;32m    201\u001b[0m                     \u001b[1;32melse\u001b[0m\u001b[1;33m:\u001b[0m\u001b[1;33m\u001b[0m\u001b[0m\n",
      "\u001b[1;32m/home/tin/.virtualenvs/curso/lib/python3.4/site-packages/numba/compiler.py\u001b[0m in \u001b[0;36mrun\u001b[1;34m(self, status)\u001b[0m\n\u001b[0;32m    189\u001b[0m             \u001b[1;32mfor\u001b[0m \u001b[0mstage\u001b[0m\u001b[1;33m,\u001b[0m \u001b[0mstage_name\u001b[0m \u001b[1;32min\u001b[0m \u001b[0mself\u001b[0m\u001b[1;33m.\u001b[0m\u001b[0mpipeline_stages\u001b[0m\u001b[1;33m[\u001b[0m\u001b[0mpipeline_name\u001b[0m\u001b[1;33m]\u001b[0m\u001b[1;33m:\u001b[0m\u001b[1;33m\u001b[0m\u001b[0m\n\u001b[0;32m    190\u001b[0m                 \u001b[1;32mtry\u001b[0m\u001b[1;33m:\u001b[0m\u001b[1;33m\u001b[0m\u001b[0m\n\u001b[1;32m--> 191\u001b[1;33m                     \u001b[0mres\u001b[0m \u001b[1;33m=\u001b[0m \u001b[0mstage\u001b[0m\u001b[1;33m(\u001b[0m\u001b[1;33m)\u001b[0m\u001b[1;33m\u001b[0m\u001b[0m\n\u001b[0m\u001b[0;32m    192\u001b[0m                 \u001b[1;32mexcept\u001b[0m \u001b[0m_EarlyPipelineCompletion\u001b[0m \u001b[1;32mas\u001b[0m \u001b[0me\u001b[0m\u001b[1;33m:\u001b[0m\u001b[1;33m\u001b[0m\u001b[0m\n\u001b[0;32m    193\u001b[0m                     \u001b[1;32mreturn\u001b[0m \u001b[0me\u001b[0m\u001b[1;33m.\u001b[0m\u001b[0mresult\u001b[0m\u001b[1;33m\u001b[0m\u001b[0m\n",
      "\u001b[1;32m/home/tin/.virtualenvs/curso/lib/python3.4/site-packages/numba/compiler.py\u001b[0m in \u001b[0;36mstage_analyze_bytecode\u001b[1;34m(self)\u001b[0m\n\u001b[0;32m    323\u001b[0m         \u001b[0mAnalyze\u001b[0m \u001b[0mbytecode\u001b[0m \u001b[1;32mand\u001b[0m \u001b[0mtranslating\u001b[0m \u001b[0mto\u001b[0m \u001b[0mNumba\u001b[0m \u001b[0mIR\u001b[0m\u001b[1;33m\u001b[0m\u001b[0m\n\u001b[0;32m    324\u001b[0m         \"\"\"\n\u001b[1;32m--> 325\u001b[1;33m         \u001b[0mself\u001b[0m\u001b[1;33m.\u001b[0m\u001b[0minterp\u001b[0m \u001b[1;33m=\u001b[0m \u001b[0mtranslate_stage\u001b[0m\u001b[1;33m(\u001b[0m\u001b[0mself\u001b[0m\u001b[1;33m.\u001b[0m\u001b[0mbc\u001b[0m\u001b[1;33m)\u001b[0m\u001b[1;33m\u001b[0m\u001b[0m\n\u001b[0m\u001b[0;32m    326\u001b[0m         \u001b[0mself\u001b[0m\u001b[1;33m.\u001b[0m\u001b[0mnargs\u001b[0m \u001b[1;33m=\u001b[0m \u001b[0mlen\u001b[0m\u001b[1;33m(\u001b[0m\u001b[0mself\u001b[0m\u001b[1;33m.\u001b[0m\u001b[0minterp\u001b[0m\u001b[1;33m.\u001b[0m\u001b[0margspec\u001b[0m\u001b[1;33m.\u001b[0m\u001b[0margs\u001b[0m\u001b[1;33m)\u001b[0m\u001b[1;33m\u001b[0m\u001b[0m\n\u001b[0;32m    327\u001b[0m         \u001b[1;32mif\u001b[0m \u001b[1;32mnot\u001b[0m \u001b[0mself\u001b[0m\u001b[1;33m.\u001b[0m\u001b[0margs\u001b[0m \u001b[1;32mand\u001b[0m \u001b[0mself\u001b[0m\u001b[1;33m.\u001b[0m\u001b[0mflags\u001b[0m\u001b[1;33m.\u001b[0m\u001b[0mforce_pyobject\u001b[0m\u001b[1;33m:\u001b[0m\u001b[1;33m\u001b[0m\u001b[0m\n",
      "\u001b[1;32m/home/tin/.virtualenvs/curso/lib/python3.4/site-packages/numba/compiler.py\u001b[0m in \u001b[0;36mtranslate_stage\u001b[1;34m(bytecode)\u001b[0m\n\u001b[0;32m    655\u001b[0m             \u001b[0minterp\u001b[0m\u001b[1;33m.\u001b[0m\u001b[0mdump_generator_info\u001b[0m\u001b[1;33m(\u001b[0m\u001b[1;33m)\u001b[0m\u001b[1;33m\u001b[0m\u001b[0m\n\u001b[0;32m    656\u001b[0m \u001b[1;33m\u001b[0m\u001b[0m\n\u001b[1;32m--> 657\u001b[1;33m     \u001b[0mexpanded\u001b[0m \u001b[1;33m=\u001b[0m \u001b[0mmacro\u001b[0m\u001b[1;33m.\u001b[0m\u001b[0mexpand_macros\u001b[0m\u001b[1;33m(\u001b[0m\u001b[0minterp\u001b[0m\u001b[1;33m.\u001b[0m\u001b[0mblocks\u001b[0m\u001b[1;33m)\u001b[0m\u001b[1;33m\u001b[0m\u001b[0m\n\u001b[0m\u001b[0;32m    658\u001b[0m \u001b[1;33m\u001b[0m\u001b[0m\n\u001b[0;32m    659\u001b[0m     \u001b[1;32mif\u001b[0m \u001b[0mconfig\u001b[0m\u001b[1;33m.\u001b[0m\u001b[0mDUMP_IR\u001b[0m \u001b[1;32mand\u001b[0m \u001b[0mexpanded\u001b[0m\u001b[1;33m:\u001b[0m\u001b[1;33m\u001b[0m\u001b[0m\n",
      "\u001b[1;32m/home/tin/.virtualenvs/curso/lib/python3.4/site-packages/numba/macro.py\u001b[0m in \u001b[0;36mexpand_macros\u001b[1;34m(blocks)\u001b[0m\n\u001b[0;32m     29\u001b[0m     \u001b[0mexpanded\u001b[0m \u001b[1;33m=\u001b[0m \u001b[1;32mFalse\u001b[0m\u001b[1;33m\u001b[0m\u001b[0m\n\u001b[0;32m     30\u001b[0m     \u001b[1;32mfor\u001b[0m \u001b[0mblk\u001b[0m \u001b[1;32min\u001b[0m \u001b[0mblocks\u001b[0m\u001b[1;33m.\u001b[0m\u001b[0mvalues\u001b[0m\u001b[1;33m(\u001b[0m\u001b[1;33m)\u001b[0m\u001b[1;33m:\u001b[0m\u001b[1;33m\u001b[0m\u001b[0m\n\u001b[1;32m---> 31\u001b[1;33m         \u001b[0mmodule_getattr_folding\u001b[0m\u001b[1;33m(\u001b[0m\u001b[0mconstants\u001b[0m\u001b[1;33m,\u001b[0m \u001b[0mblk\u001b[0m\u001b[1;33m)\u001b[0m\u001b[1;33m\u001b[0m\u001b[0m\n\u001b[0m\u001b[0;32m     32\u001b[0m         \u001b[0mblock_expanded\u001b[0m \u001b[1;33m=\u001b[0m \u001b[0mexpand_macros_in_block\u001b[0m\u001b[1;33m(\u001b[0m\u001b[0mconstants\u001b[0m\u001b[1;33m,\u001b[0m \u001b[0mblk\u001b[0m\u001b[1;33m)\u001b[0m\u001b[1;33m\u001b[0m\u001b[0m\n\u001b[0;32m     33\u001b[0m         \u001b[0mexpanded\u001b[0m \u001b[1;33m=\u001b[0m \u001b[0mexpanded\u001b[0m \u001b[1;32mor\u001b[0m \u001b[0mblock_expanded\u001b[0m\u001b[1;33m\u001b[0m\u001b[0m\n",
      "\u001b[1;32m/home/tin/.virtualenvs/curso/lib/python3.4/site-packages/numba/macro.py\u001b[0m in \u001b[0;36mmodule_getattr_folding\u001b[1;34m(constants, block)\u001b[0m\n\u001b[0;32m     58\u001b[0m                     \u001b[1;32mif\u001b[0m \u001b[0mrhs\u001b[0m\u001b[1;33m.\u001b[0m\u001b[0mvalue\u001b[0m\u001b[1;33m.\u001b[0m\u001b[0mname\u001b[0m \u001b[1;32min\u001b[0m \u001b[0mconstants\u001b[0m\u001b[1;33m:\u001b[0m\u001b[1;33m\u001b[0m\u001b[0m\n\u001b[0;32m     59\u001b[0m                         \u001b[0mbase\u001b[0m \u001b[1;33m=\u001b[0m \u001b[0mconstants\u001b[0m\u001b[1;33m[\u001b[0m\u001b[0mrhs\u001b[0m\u001b[1;33m.\u001b[0m\u001b[0mvalue\u001b[0m\u001b[1;33m.\u001b[0m\u001b[0mname\u001b[0m\u001b[1;33m]\u001b[0m\u001b[1;33m\u001b[0m\u001b[0m\n\u001b[1;32m---> 60\u001b[1;33m                         \u001b[0mconstants\u001b[0m\u001b[1;33m[\u001b[0m\u001b[0minst\u001b[0m\u001b[1;33m.\u001b[0m\u001b[0mtarget\u001b[0m\u001b[1;33m.\u001b[0m\u001b[0mname\u001b[0m\u001b[1;33m]\u001b[0m \u001b[1;33m=\u001b[0m \u001b[0mgetattr\u001b[0m\u001b[1;33m(\u001b[0m\u001b[0mbase\u001b[0m\u001b[1;33m,\u001b[0m \u001b[0mrhs\u001b[0m\u001b[1;33m.\u001b[0m\u001b[0mattr\u001b[0m\u001b[1;33m)\u001b[0m\u001b[1;33m\u001b[0m\u001b[0m\n\u001b[0m\u001b[0;32m     61\u001b[0m \u001b[1;33m\u001b[0m\u001b[0m\n\u001b[0;32m     62\u001b[0m                 \u001b[1;32melif\u001b[0m \u001b[0mrhs\u001b[0m\u001b[1;33m.\u001b[0m\u001b[0mop\u001b[0m \u001b[1;33m==\u001b[0m \u001b[1;34m'build_tuple'\u001b[0m\u001b[1;33m:\u001b[0m\u001b[1;33m\u001b[0m\u001b[0m\n",
      "\u001b[1;31mAttributeError\u001b[0m: Failed at nopython (analyzing bytecode)\n'module' object has no attribute 'zeros_likes'"
     ]
    }
   ],
   "source": [
    "busca_min_np_numba_nopy(data)"
   ]
  },
  {
   "cell_type": "markdown",
   "metadata": {},
   "source": [
    "Nos dice que no conoce la función `zeros_like` de Numpy, porque efectivamente,  no está entre las [funcionalidades de Numpy soportadas](http://numba.pydata.org/numba-doc/0.18.2/reference/numpysupported.html) por Numba"
   ]
  },
  {
   "cell_type": "code",
   "execution_count": 111,
   "metadata": {},
   "outputs": [
    {
     "data": {
      "text/plain": [
       "(array([  1,   1,   1, ..., 998, 998, 998]),\n",
       " array([ 13,  17,  22, ..., 955, 957, 959]))"
      ]
     },
     "execution_count": 111,
     "metadata": {},
     "output_type": "execute_result"
    }
   ],
   "source": [
    "def busca_min_np_jit(malla):\n",
    "    minimos = np.zeros_like(malla, dtype=bool)\n",
    "    _busca_min(malla, minimos)\n",
    "    return np.nonzero(minimos)\n",
    "\n",
    "@jit(nopython=True)\n",
    "def _busca_min(malla, minimos):\n",
    "    for i in range(1, malla.shape[1]-1):\n",
    "        for j in range(1, malla.shape[0]-1):\n",
    "            if (malla[j, i] < malla[j-1, i-1] and\n",
    "                malla[j, i] < malla[j-1, i] and\n",
    "                malla[j, i] < malla[j-1, i+1] and\n",
    "                malla[j, i] < malla[j, i-1] and\n",
    "                malla[j, i] < malla[j, i+1] and\n",
    "                malla[j, i] < malla[j+1, i-1] and\n",
    "                malla[j, i] < malla[j+1, i] and\n",
    "                malla[j, i] < malla[j+1, i+1]):\n",
    "                minimos[i, j] = True\n",
    "                \n",
    "busca_min_np_jit(data)"
   ]
  },
  {
   "cell_type": "code",
   "execution_count": 112,
   "metadata": {},
   "outputs": [
    {
     "name": "stdout",
     "output_type": "stream",
     "text": [
      "10 loops, best of 3: 20.8 ms per loop\n"
     ]
    }
   ],
   "source": [
    "%timeit busca_min_np_jit(data)"
   ]
  },
  {
   "cell_type": "markdown",
   "metadata": {
    "collapsed": true
   },
   "source": [
    "### Entonces, entre Cython y Numba ¿Cuál elegir?\n",
    "\n",
    "Un excelente artículo: \n",
    "\n",
    "http://stephanhoyer.com/2015/04/09/numba-vs-cython-how-to-choose/\n",
    "\n",
    "- Cython está más consolidado y es más fácil de distribuir\n",
    "- Numba no es trivial de instalar si no se usa `conda` (Anaconda)\n",
    "- Numba sólo acelera tipos escalaras y arrays (soporte numpy siempre en crecimiento). Pero no se pueden usar estructuras arbitrarias de Python\n",
    "- Cython es mucho más invasivo del código: ajustes finos requieren definición de tipos y muchas otros \"tun el código resultando\n"
   ]
  },
  {
   "cell_type": "code",
   "execution_count": null,
   "metadata": {
    "collapsed": true
   },
   "outputs": [],
   "source": []
  }
 ],
 "metadata": {
  "kernelspec": {
   "display_name": "Python 3",
   "language": "python",
   "name": "python3"
  },
  "language_info": {
   "codemirror_mode": {
    "name": "ipython",
    "version": 3
   },
   "file_extension": ".py",
   "mimetype": "text/x-python",
   "name": "python",
   "nbconvert_exporter": "python",
   "pygments_lexer": "ipython3",
   "version": "3.6.1"
  }
 },
 "nbformat": 4,
 "nbformat_minor": 1
}
