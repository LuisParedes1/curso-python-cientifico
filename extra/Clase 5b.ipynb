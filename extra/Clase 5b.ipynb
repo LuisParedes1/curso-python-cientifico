{
 "cells": [
  {
   "cell_type": "markdown",
   "metadata": {},
   "source": [
    "# Python para ciencia e ingeniería. Clase 6/6\n",
    "\n",
    "**Tallerista**: Martín Gaitán (Phasety)\n",
    "\n",
    "**Colaboradores**: Jairo Trad (Insus) y Julián Scortechini (Phasety)\n",
    "\n",
    "                                \n",
    "                                Agosto/Septiembre de 2013\n",
    "\n",
    "\n",
    "----\n",
    "Licencia: ![](http://i.creativecommons.org/l/by-sa/2.5/ar/88x31.png)"
   ]
  },
  {
   "cell_type": "markdown",
   "metadata": {},
   "source": [
    "# F2PY: Fortran ♥ Python, \n",
    "\n",
    "\n",
    "F2PY es un software (escrita en Python) que genera automáticamente el \"pegamento\" necesario para interfacear código Fortran y Python. \n",
    "\n",
    "Hay dos casos en los que nos puede venir bien usar F2PY.\n",
    "\n",
    "* Queremos escribir una parte de cálculo intensivo en Fortran para que sea eficiente, pero queremos controlar la lógica del programa desde Python.\n",
    "* Tenemos código legado y el esfuerzo de portarlo a otro lenguaje es demasiado grande (código ilegible, ausencia de comentarios, fragilidad). Aún podemos aprovecharlo: con F2PY podemos llamarlo desde Python.\n",
    "\n",
    "\n",
    "F2py no es un compilador en sí mismo, sino que utiliza (casi) cualquier compilador Fortran subyacente. En vez de un archivo ejecutable (un \".exe\" en Windows) genera una biblioteca dinámica importable desde Python como cualquier módulo. \n",
    "\n",
    "Nosotros vamos a utilizar el compilador **gfortran** que ya viene instalado con Anaconda. En linux basta hacer\n",
    "\n",
    "      $ sudo apt-get install gfortran\n",
    "\n",
    "###ATENTI: sólo usuarios de Windows/Anaconda\n",
    "\n",
    "Antes de empezar vamos a cambiar la configuración de `gfortran` por defecto que trae Anaconda. Abrir el archivo `C:/Anaconda/Scripts/gfortran.bat` y modificarlo para que linkee estáticamente con las bibliotecas `libgcc` y `libgfortran`. Podemos hacerlo directamente **ejecutando la siguiente celda** que usa el magic ``%%file`` que escribe el contenido de la celda en un archivo"
   ]
  },
  {
   "cell_type": "code",
   "execution_count": null,
   "metadata": {},
   "outputs": [],
   "source": [
    "%%file C:/Anaconda/Scripts/gfortran.bat\n",
    "@echo off\n",
    "%~f0\\..\\..\\MinGW\\bin\\gfortran.exe -static-libgcc -static-libgfortran %*"
   ]
  },
  {
   "cell_type": "markdown",
   "metadata": {},
   "source": [
    "## ¡Empecemos! \n",
    "\n",
    "Vamos a comenzar con un ejemplo del primer caso de uso: usar Fortran por cuestiones de performance. \n",
    "\n",
    "Si bien hay versiones más modernas, vamos a basarnos en el estándar **Fortran 90** porque es bien soportado por f2py y todos los compiladores, es muchísimo mejor que FORTRAN 77. Una buena y breve referencia es http://www.ews.uiuc.edu/~mrgates2/docs/fortran.html . El sitio http://fortran90.org/ tambien provee información valiosa y una **guia de estilo** sencilla que es bueno respetar en **todo código Fortran nuevo**. \n",
    "\n",
    "Pero antes, conozcamos el **Zen de Python**"
   ]
  },
  {
   "cell_type": "code",
   "execution_count": 1,
   "metadata": {},
   "outputs": [
    {
     "name": "stdout",
     "output_type": "stream",
     "text": [
      "The Zen of Python, by Tim Peters\n",
      "\n",
      "Beautiful is better than ugly.\n",
      "Explicit is better than implicit.\n",
      "Simple is better than complex.\n",
      "Complex is better than complicated.\n",
      "Flat is better than nested.\n",
      "Sparse is better than dense.\n",
      "Readability counts.\n",
      "Special cases aren't special enough to break the rules.\n",
      "Although practicality beats purity.\n",
      "Errors should never pass silently.\n",
      "Unless explicitly silenced.\n",
      "In the face of ambiguity, refuse the temptation to guess.\n",
      "There should be one-- and preferably only one --obvious way to do it.\n",
      "Although that way may not be obvious at first unless you're Dutch.\n",
      "Now is better than never.\n",
      "Although never is often better than *right* now.\n",
      "If the implementation is hard to explain, it's a bad idea.\n",
      "If the implementation is easy to explain, it may be a good idea.\n",
      "Namespaces are one honking great idea -- let's do more of those!\n"
     ]
    }
   ],
   "source": [
    "import this"
   ]
  },
  {
   "cell_type": "markdown",
   "metadata": {},
   "source": [
    "¡El Zen de Python **no es sólo** para Python! **Aplicalo también para Fortran** (y para jugar al fútbol como el Barcelona). \n",
    "\n",
    "Especialmente el que dice *\"Readability counts\"*\n",
    "\n"
   ]
  },
  {
   "cell_type": "code",
   "execution_count": 1,
   "metadata": {},
   "outputs": [
    {
     "name": "stdout",
     "output_type": "stream",
     "text": [
      "Overwriting suma.f90\n"
     ]
    }
   ],
   "source": [
    "%%file suma.f90 \n",
    "\n",
    "subroutine dot(n, v)\n",
    "    ! Compute the dot product between u and v (length n) and put the result in product\n",
    "     \n",
    "    integer, intent(in) :: n\n",
    "    integer, intent(out) :: v\n",
    "    v = n + 2\n",
    "    \n",
    "end subroutine"
   ]
  },
  {
   "cell_type": "markdown",
   "metadata": {},
   "source": [
    "Guardamos nuestro código Fortran en un módulo de código fuente llamado `dot_product.f90` Ahora lo compilamos usando f2py. El flag -m indica el nombre que se le dará a la biblioteca (que es como se importará dentro de de Python) y el flag -c los fuentes que debe compilar (en este caso sólo el que acabamos de crear). "
   ]
  },
  {
   "cell_type": "code",
   "execution_count": 2,
   "metadata": {},
   "outputs": [
    {
     "name": "stdout",
     "output_type": "stream",
     "text": [
      "\u001b[39mrunning build\u001b[0m\n",
      "\u001b[39mrunning config_cc\u001b[0m\n",
      "\u001b[39munifing config_cc, config, build_clib, build_ext, build commands --compiler options\u001b[0m\n",
      "\u001b[39mrunning config_fc\u001b[0m\n",
      "\u001b[39munifing config_fc, config, build_clib, build_ext, build commands --fcompiler options\u001b[0m\n",
      "\u001b[39mrunning build_src\u001b[0m\n",
      "\u001b[39mbuild_src\u001b[0m\n",
      "\u001b[39mbuilding extension \"suma\" sources\u001b[0m\n",
      "\u001b[39mf2py options: []\u001b[0m\n",
      "\u001b[39mf2py:> /tmp/tmph2h41h8s/src.linux-x86_64-3.4/sumamodule.c\u001b[0m\n",
      "\u001b[39mcreating /tmp/tmph2h41h8s/src.linux-x86_64-3.4\u001b[0m\n",
      "Reading fortran codes...\n",
      "\tReading file 'suma.f90' (format:free)\n",
      "Post-processing...\n",
      "\tBlock: suma\n",
      "\t\t\tBlock: dot\n",
      "Post-processing (stage 2)...\n",
      "Building modules...\n",
      "\tBuilding module \"suma\"...\n",
      "\t\tConstructing wrapper function \"dot\"...\n",
      "\t\t  v = dot(n)\n",
      "\tWrote C/API module \"suma\" to file \"/tmp/tmph2h41h8s/src.linux-x86_64-3.4/sumamodule.c\"\n",
      "\u001b[39m  adding '/tmp/tmph2h41h8s/src.linux-x86_64-3.4/fortranobject.c' to sources.\u001b[0m\n",
      "\u001b[39m  adding '/tmp/tmph2h41h8s/src.linux-x86_64-3.4' to include_dirs.\u001b[0m\n",
      "\u001b[39mcopying /home/tin/.virtualenvs/curso/lib/python3.4/site-packages/numpy/f2py/src/fortranobject.c -> /tmp/tmph2h41h8s/src.linux-x86_64-3.4\u001b[0m\n",
      "\u001b[39mcopying /home/tin/.virtualenvs/curso/lib/python3.4/site-packages/numpy/f2py/src/fortranobject.h -> /tmp/tmph2h41h8s/src.linux-x86_64-3.4\u001b[0m\n",
      "\u001b[39mbuild_src: building npy-pkg config files\u001b[0m\n",
      "\u001b[39mrunning build_ext\u001b[0m\n",
      "\u001b[39mcustomize UnixCCompiler\u001b[0m\n",
      "\u001b[39mcustomize UnixCCompiler using build_ext\u001b[0m\n",
      "\u001b[39mcustomize Gnu95FCompiler\u001b[0m\n",
      "\u001b[39mFound executable /usr/bin/gfortran\u001b[0m\n",
      "\u001b[39mcustomize Gnu95FCompiler\u001b[0m\n",
      "\u001b[39mcustomize Gnu95FCompiler using build_ext\u001b[0m\n",
      "\u001b[39mbuilding 'suma' extension\u001b[0m\n",
      "\u001b[39mcompiling C sources\u001b[0m\n",
      "\u001b[39mC compiler: x86_64-linux-gnu-gcc -pthread -DNDEBUG -g -fwrapv -O2 -Wall -Wstrict-prototypes -g -fstack-protector-strong -Wformat -Werror=format-security -D_FORTIFY_SOURCE=2 -fPIC\n",
      "\u001b[0m\n",
      "\u001b[39mcreating /tmp/tmph2h41h8s/tmp\u001b[0m\n",
      "\u001b[39mcreating /tmp/tmph2h41h8s/tmp/tmph2h41h8s\u001b[0m\n",
      "\u001b[39mcreating /tmp/tmph2h41h8s/tmp/tmph2h41h8s/src.linux-x86_64-3.4\u001b[0m\n",
      "\u001b[39mcompile options: '-I/tmp/tmph2h41h8s/src.linux-x86_64-3.4 -I/home/tin/.virtualenvs/curso/lib/python3.4/site-packages/numpy/core/include -I/usr/include/python3.4m -I/home/tin/.virtualenvs/curso/include/python3.4m -c'\u001b[0m\n",
      "\u001b[39mx86_64-linux-gnu-gcc: /tmp/tmph2h41h8s/src.linux-x86_64-3.4/fortranobject.c\u001b[0m\n",
      "In file included from /home/tin/.virtualenvs/curso/lib/python3.4/site-packages/numpy/core/include/numpy/ndarraytypes.h:1804:0,\n",
      "                 from /home/tin/.virtualenvs/curso/lib/python3.4/site-packages/numpy/core/include/numpy/ndarrayobject.h:17,\n",
      "                 from /home/tin/.virtualenvs/curso/lib/python3.4/site-packages/numpy/core/include/numpy/arrayobject.h:4,\n",
      "                 from /tmp/tmph2h41h8s/src.linux-x86_64-3.4/fortranobject.h:13,\n",
      "                 from /tmp/tmph2h41h8s/src.linux-x86_64-3.4/fortranobject.c:2:\n",
      "/home/tin/.virtualenvs/curso/lib/python3.4/site-packages/numpy/core/include/numpy/npy_1_7_deprecated_api.h:15:2: warning: #warning \"Using deprecated NumPy API, disable it by \" \"#defining NPY_NO_DEPRECATED_API NPY_1_7_API_VERSION\" [-Wcpp]\n",
      " #warning \"Using deprecated NumPy API, disable it by \" \\\n",
      "  ^\n",
      "\u001b[39mx86_64-linux-gnu-gcc: /tmp/tmph2h41h8s/src.linux-x86_64-3.4/sumamodule.c\u001b[0m\n",
      "In file included from /home/tin/.virtualenvs/curso/lib/python3.4/site-packages/numpy/core/include/numpy/ndarraytypes.h:1804:0,\n",
      "                 from /home/tin/.virtualenvs/curso/lib/python3.4/site-packages/numpy/core/include/numpy/ndarrayobject.h:17,\n",
      "                 from /home/tin/.virtualenvs/curso/lib/python3.4/site-packages/numpy/core/include/numpy/arrayobject.h:4,\n",
      "                 from /tmp/tmph2h41h8s/src.linux-x86_64-3.4/fortranobject.h:13,\n",
      "                 from /tmp/tmph2h41h8s/src.linux-x86_64-3.4/sumamodule.c:17:\n",
      "/home/tin/.virtualenvs/curso/lib/python3.4/site-packages/numpy/core/include/numpy/npy_1_7_deprecated_api.h:15:2: warning: #warning \"Using deprecated NumPy API, disable it by \" \"#defining NPY_NO_DEPRECATED_API NPY_1_7_API_VERSION\" [-Wcpp]\n",
      " #warning \"Using deprecated NumPy API, disable it by \" \\\n",
      "  ^\n",
      "\u001b[39mcompiling Fortran sources\u001b[0m\n",
      "\u001b[39mFortran f77 compiler: /usr/bin/gfortran -Wall -g -ffixed-form -fno-second-underscore -fPIC -O3 -funroll-loops\n",
      "Fortran f90 compiler: /usr/bin/gfortran -Wall -g -fno-second-underscore -fPIC -O3 -funroll-loops\n",
      "Fortran fix compiler: /usr/bin/gfortran -Wall -g -ffixed-form -fno-second-underscore -Wall -g -fno-second-underscore -fPIC -O3 -funroll-loops\u001b[0m\n",
      "\u001b[39mcompile options: '-I/tmp/tmph2h41h8s/src.linux-x86_64-3.4 -I/home/tin/.virtualenvs/curso/lib/python3.4/site-packages/numpy/core/include -I/usr/include/python3.4m -I/home/tin/.virtualenvs/curso/include/python3.4m -c'\u001b[0m\n",
      "\u001b[39mgfortran:f90: suma.f90\u001b[0m\n",
      "\u001b[39m/usr/bin/gfortran -Wall -g -Wall -g -shared /tmp/tmph2h41h8s/tmp/tmph2h41h8s/src.linux-x86_64-3.4/sumamodule.o /tmp/tmph2h41h8s/tmp/tmph2h41h8s/src.linux-x86_64-3.4/fortranobject.o /tmp/tmph2h41h8s/suma.o -lgfortran -o ./suma.cpython-34m.so\u001b[0m\n",
      "Removing build directory /tmp/tmph2h41h8s\n"
     ]
    }
   ],
   "source": [
    "# Si queres evitar el output podés guardar en una variable\n",
    "# _ = !f2py -m dot_product -c dot_product.f90   \n",
    "!/home/tin/.virtualenvs/curso/bin/f2py3.4 -m suma -c suma.f90 "
   ]
  },
  {
   "cell_type": "markdown",
   "metadata": {},
   "source": [
    "¡Listo! Tendremos una biblioteca importable desde Python. En Widows será `dot_product.pyw` y en Linux `dot_product.so`\n",
    "\n"
   ]
  },
  {
   "cell_type": "code",
   "execution_count": 7,
   "metadata": {},
   "outputs": [
    {
     "ename": "ImportError",
     "evalue": "No module named suma",
     "output_type": "error",
     "traceback": [
      "\u001b[1;31m---------------------------------------------------------------------------\u001b[0m",
      "\u001b[1;31mImportError\u001b[0m                               Traceback (most recent call last)",
      "\u001b[1;32m<ipython-input-7-0e16479c1973>\u001b[0m in \u001b[0;36m<module>\u001b[1;34m()\u001b[0m\n\u001b[1;32m----> 1\u001b[1;33m \u001b[1;32mimport\u001b[0m \u001b[0msuma\u001b[0m\u001b[1;33m\u001b[0m\u001b[0m\n\u001b[0m",
      "\u001b[1;31mImportError\u001b[0m: No module named suma"
     ]
    }
   ],
   "source": [
    "import suma"
   ]
  },
  {
   "cell_type": "markdown",
   "metadata": {},
   "source": [
    "F2py convierte **subrutinas y funciones** de Fortran en funciones de Python. Dentro del módulo `dot_product` tendremos una función llamada `dot` que no es más que  la subrutina que habiamos definido en Fortran. F2py le crea automáticamente algo de ayuda que podemos ver con el **?** o directamente imprimiendo la variable `__doc__` del objeto"
   ]
  },
  {
   "cell_type": "code",
   "execution_count": 7,
   "metadata": {},
   "outputs": [],
   "source": [
    "import dot_product\n",
    "dot_product.dot?"
   ]
  },
  {
   "cell_type": "markdown",
   "metadata": {},
   "source": [
    "Como habiamos declarado que **p** era un valor de salida (`intent(out)`), F2py no nos pide que lo pasemos, sino que lo devuelve como resultado de la función. \n",
    "\n",
    "Pero hay más magia: **n** sólo se usa para dimensionar los arrays u y v. Entonces F2Py nos ahorra el trabajo de pasarlo y lo infiere por el tamaño de los arrays.\n",
    "\n",
    "¿Y Funciona?"
   ]
  },
  {
   "cell_type": "code",
   "execution_count": 6,
   "metadata": {},
   "outputs": [
    {
     "data": {
      "text/plain": [
       "3.0"
      ]
     },
     "execution_count": 6,
     "metadata": {},
     "output_type": "execute_result"
    }
   ],
   "source": [
    "import numpy as np\n",
    "u = np.array([1., 2., 0.])\n",
    "v = np.array([2., .5, 0.])\n",
    "dot_product.dot(u, v)"
   ]
  },
  {
   "cell_type": "markdown",
   "metadata": {},
   "source": [
    "¡YEAHHHHHHH!\n",
    "\n",
    "### Algo más pulentoso\n",
    "\n",
    "\n",
    "Esta rutina calcula una **matriz de distancias** a partir de una matriz de m puntos n-dimensionales ordenados por filas\n"
   ]
  },
  {
   "cell_type": "code",
   "execution_count": 8,
   "metadata": {},
   "outputs": [
    {
     "name": "stdout",
     "output_type": "stream",
     "text": [
      "Overwriting distance.f90\n"
     ]
    }
   ],
   "source": [
    "%%file distance.f90\n",
    "\n",
    "subroutine euclidean(X,D,m,n)\n",
    "  ! Computes the distance between m points using Euclidean distance (2-norm) \n",
    "  ! as the distance metric between the points. \n",
    "  ! The points are arranged as m n-dimensional row vectors in the matrix X.\n",
    "\n",
    "  integer :: n,m\n",
    "  double precision, intent(in) :: X(m,n)\n",
    "  double precision, intent(out) :: D(m,m) \n",
    "  integer :: i,j,k\n",
    "  double precision :: r \n",
    "  do i = 1,m \n",
    "      do j = 1,m \n",
    "          r = 0\n",
    "          do k = 1,n \n",
    "              r = r + (X(i,k) - X(j,k)) * (X(i,k) - X(j,k)) \n",
    "          end do \n",
    "          D(i,j) = sqrt(r) \n",
    "      end do \n",
    "  end do \n",
    "end subroutine\n"
   ]
  },
  {
   "cell_type": "code",
   "execution_count": 9,
   "metadata": {},
   "outputs": [
    {
     "name": "stdout",
     "output_type": "stream",
     "text": [
      "\u001b[39mrunning build\u001b[0m\n",
      "\u001b[39mrunning config_cc\u001b[0m\n",
      "\u001b[39munifing config_cc, config, build_clib, build_ext, build commands --compiler options\u001b[0m\n",
      "\u001b[39mrunning config_fc\u001b[0m\n",
      "\u001b[39munifing config_fc, config, build_clib, build_ext, build commands --fcompiler options\u001b[0m\n",
      "\u001b[39mrunning build_src\u001b[0m\n",
      "\u001b[39mbuild_src\u001b[0m\n",
      "\u001b[39mbuilding extension \"distance\" sources\u001b[0m\n",
      "\u001b[39mf2py options: []\u001b[0m\n",
      "\u001b[39mf2py:> /tmp/tmprr433we_/src.linux-x86_64-3.4/distancemodule.c\u001b[0m\n",
      "\u001b[39mcreating /tmp/tmprr433we_/src.linux-x86_64-3.4\u001b[0m\n",
      "Reading fortran codes...\n",
      "\tReading file 'distance.f90' (format:free)\n",
      "Post-processing...\n",
      "\tBlock: distance\n",
      "\t\t\tBlock: euclidean\n",
      "Post-processing (stage 2)...\n",
      "Building modules...\n",
      "\tBuilding module \"distance\"...\n",
      "\t\tConstructing wrapper function \"euclidean\"...\n",
      "\t\t  d = euclidean(x,[m,n])\n",
      "\tWrote C/API module \"distance\" to file \"/tmp/tmprr433we_/src.linux-x86_64-3.4/distancemodule.c\"\n",
      "\u001b[39m  adding '/tmp/tmprr433we_/src.linux-x86_64-3.4/fortranobject.c' to sources.\u001b[0m\n",
      "\u001b[39m  adding '/tmp/tmprr433we_/src.linux-x86_64-3.4' to include_dirs.\u001b[0m\n",
      "\u001b[39mcopying /home/tin/.virtualenvs/curso/lib/python3.4/site-packages/numpy/f2py/src/fortranobject.c -> /tmp/tmprr433we_/src.linux-x86_64-3.4\u001b[0m\n",
      "\u001b[39mcopying /home/tin/.virtualenvs/curso/lib/python3.4/site-packages/numpy/f2py/src/fortranobject.h -> /tmp/tmprr433we_/src.linux-x86_64-3.4\u001b[0m\n",
      "\u001b[39mbuild_src: building npy-pkg config files\u001b[0m\n",
      "\u001b[39mrunning build_ext\u001b[0m\n",
      "\u001b[39mcustomize UnixCCompiler\u001b[0m\n",
      "\u001b[39mcustomize UnixCCompiler using build_ext\u001b[0m\n",
      "\u001b[39mcustomize Gnu95FCompiler\u001b[0m\n",
      "\u001b[39mFound executable /usr/bin/gfortran\u001b[0m\n",
      "\u001b[39mcustomize Gnu95FCompiler\u001b[0m\n",
      "\u001b[39mcustomize Gnu95FCompiler using build_ext\u001b[0m\n",
      "\u001b[39mbuilding 'distance' extension\u001b[0m\n",
      "\u001b[39mcompiling C sources\u001b[0m\n",
      "\u001b[39mC compiler: x86_64-linux-gnu-gcc -pthread -DNDEBUG -g -fwrapv -O2 -Wall -Wstrict-prototypes -g -fstack-protector-strong -Wformat -Werror=format-security -D_FORTIFY_SOURCE=2 -fPIC\n",
      "\u001b[0m\n",
      "\u001b[39mcreating /tmp/tmprr433we_/tmp\u001b[0m\n",
      "\u001b[39mcreating /tmp/tmprr433we_/tmp/tmprr433we_\u001b[0m\n",
      "\u001b[39mcreating /tmp/tmprr433we_/tmp/tmprr433we_/src.linux-x86_64-3.4\u001b[0m\n",
      "\u001b[39mcompile options: '-I/tmp/tmprr433we_/src.linux-x86_64-3.4 -I/home/tin/.virtualenvs/curso/lib/python3.4/site-packages/numpy/core/include -I/usr/include/python3.4m -I/home/tin/.virtualenvs/curso/include/python3.4m -c'\u001b[0m\n",
      "\u001b[39mx86_64-linux-gnu-gcc: /tmp/tmprr433we_/src.linux-x86_64-3.4/distancemodule.c\u001b[0m\n",
      "In file included from /home/tin/.virtualenvs/curso/lib/python3.4/site-packages/numpy/core/include/numpy/ndarraytypes.h:1804:0,\n",
      "                 from /home/tin/.virtualenvs/curso/lib/python3.4/site-packages/numpy/core/include/numpy/ndarrayobject.h:17,\n",
      "                 from /home/tin/.virtualenvs/curso/lib/python3.4/site-packages/numpy/core/include/numpy/arrayobject.h:4,\n",
      "                 from /tmp/tmprr433we_/src.linux-x86_64-3.4/fortranobject.h:13,\n",
      "                 from /tmp/tmprr433we_/src.linux-x86_64-3.4/distancemodule.c:18:\n",
      "/home/tin/.virtualenvs/curso/lib/python3.4/site-packages/numpy/core/include/numpy/npy_1_7_deprecated_api.h:15:2: warning: #warning \"Using deprecated NumPy API, disable it by \" \"#defining NPY_NO_DEPRECATED_API NPY_1_7_API_VERSION\" [-Wcpp]\n",
      " #warning \"Using deprecated NumPy API, disable it by \" \\\n",
      "  ^\n",
      "/tmp/tmprr433we_/src.linux-x86_64-3.4/distancemodule.c:111:12: warning: ‘f2py_size’ defined but not used [-Wunused-function]\n",
      " static int f2py_size(PyArrayObject* var, ...)\n",
      "            ^\n",
      "\u001b[39mx86_64-linux-gnu-gcc: /tmp/tmprr433we_/src.linux-x86_64-3.4/fortranobject.c\u001b[0m\n",
      "In file included from /home/tin/.virtualenvs/curso/lib/python3.4/site-packages/numpy/core/include/numpy/ndarraytypes.h:1804:0,\n",
      "                 from /home/tin/.virtualenvs/curso/lib/python3.4/site-packages/numpy/core/include/numpy/ndarrayobject.h:17,\n",
      "                 from /home/tin/.virtualenvs/curso/lib/python3.4/site-packages/numpy/core/include/numpy/arrayobject.h:4,\n",
      "                 from /tmp/tmprr433we_/src.linux-x86_64-3.4/fortranobject.h:13,\n",
      "                 from /tmp/tmprr433we_/src.linux-x86_64-3.4/fortranobject.c:2:\n",
      "/home/tin/.virtualenvs/curso/lib/python3.4/site-packages/numpy/core/include/numpy/npy_1_7_deprecated_api.h:15:2: warning: #warning \"Using deprecated NumPy API, disable it by \" \"#defining NPY_NO_DEPRECATED_API NPY_1_7_API_VERSION\" [-Wcpp]\n",
      " #warning \"Using deprecated NumPy API, disable it by \" \\\n",
      "  ^\n",
      "\u001b[39mcompiling Fortran sources\u001b[0m\n",
      "\u001b[39mFortran f77 compiler: /usr/bin/gfortran -Wall -g -ffixed-form -fno-second-underscore -fPIC -O3 -funroll-loops\n",
      "Fortran f90 compiler: /usr/bin/gfortran -Wall -g -fno-second-underscore -fPIC -O3 -funroll-loops\n",
      "Fortran fix compiler: /usr/bin/gfortran -Wall -g -ffixed-form -fno-second-underscore -Wall -g -fno-second-underscore -fPIC -O3 -funroll-loops\u001b[0m\n",
      "\u001b[39mcompile options: '-I/tmp/tmprr433we_/src.linux-x86_64-3.4 -I/home/tin/.virtualenvs/curso/lib/python3.4/site-packages/numpy/core/include -I/usr/include/python3.4m -I/home/tin/.virtualenvs/curso/include/python3.4m -c'\u001b[0m\n",
      "\u001b[39mgfortran:f90: distance.f90\u001b[0m\n",
      "\u001b[39m/usr/bin/gfortran -Wall -g -Wall -g -shared /tmp/tmprr433we_/tmp/tmprr433we_/src.linux-x86_64-3.4/distancemodule.o /tmp/tmprr433we_/tmp/tmprr433we_/src.linux-x86_64-3.4/fortranobject.o /tmp/tmprr433we_/distance.o -lgfortran -o ./distance.cpython-34m.so\u001b[0m\n",
      "Removing build directory /tmp/tmprr433we_\n"
     ]
    }
   ],
   "source": [
    "!/home/tin/.virtualenvs/curso/bin/f2py3.4 -m distance -c distance.f90   "
   ]
  },
  {
   "cell_type": "code",
   "execution_count": 11,
   "metadata": {},
   "outputs": [
    {
     "name": "stdout",
     "output_type": "stream",
     "text": [
      "d = euclidean(x,[m,n])\n",
      "\n",
      "Wrapper for ``euclidean``.\n",
      "\n",
      "Parameters\n",
      "----------\n",
      "x : input rank-2 array('d') with bounds (m,n)\n",
      "\n",
      "Other Parameters\n",
      "----------------\n",
      "m : input int, optional\n",
      "    Default: shape(x,0)\n",
      "n : input int, optional\n",
      "    Default: shape(x,1)\n",
      "\n",
      "Returns\n",
      "-------\n",
      "d : rank-2 array('d') with bounds (m,m)\n",
      "\n"
     ]
    }
   ],
   "source": [
    "import distance\n",
    "print(distance.euclidean.__doc__)"
   ]
  },
  {
   "cell_type": "code",
   "execution_count": 13,
   "metadata": {},
   "outputs": [
    {
     "name": "stdout",
     "output_type": "stream",
     "text": [
      "100 loops, best of 3: 8.89 ms per loop\n"
     ]
    }
   ],
   "source": [
    "import numpy as np\n",
    "X = np.random.random((1000, 3))   # Mil puntos en R^3\n",
    "%timeit distance.euclidean(X)"
   ]
  },
  {
   "cell_type": "markdown",
   "metadata": {},
   "source": [
    "Comparemos con la versión de este algoritmo que viene en Scipy"
   ]
  },
  {
   "cell_type": "code",
   "execution_count": 14,
   "metadata": {},
   "outputs": [
    {
     "name": "stdout",
     "output_type": "stream",
     "text": [
      "100 loops, best of 3: 7.65 ms per loop\n"
     ]
    }
   ],
   "source": [
    "from scipy.spatial.distance import cdist\n",
    "%timeit cdist(X, X)"
   ]
  },
  {
   "cell_type": "markdown",
   "metadata": {},
   "source": [
    "Para los desconfiados, acá la prueba de que es lo mismo:"
   ]
  },
  {
   "cell_type": "code",
   "execution_count": 15,
   "metadata": {},
   "outputs": [
    {
     "data": {
      "text/plain": [
       "True"
      ]
     },
     "execution_count": 15,
     "metadata": {},
     "output_type": "execute_result"
    }
   ],
   "source": [
    "np.all(cdist(X, X) == distance.euclidean(X))"
   ]
  },
  {
   "cell_type": "code",
   "execution_count": 1,
   "metadata": {},
   "outputs": [
    {
     "name": "stdout",
     "output_type": "stream",
     "text": [
      "Installed fortranmagic.py. To use it, type:\n",
      "  %load_ext fortranmagic\n"
     ]
    }
   ],
   "source": [
    "%install_ext https://raw.github.com/mgaitan/fortran_magic/master/fortranmagic.py"
   ]
  },
  {
   "cell_type": "code",
   "execution_count": 2,
   "metadata": {},
   "outputs": [
    {
     "data": {
      "application/javascript": [
       "$.getScript(\"https://raw.github.com/marijnh/CodeMirror/master/mode/fortran/fortran.js\", function () {\n",
       "IPython.config.cell_magic_highlight['magic_fortran'] = {'reg':[/^%%fortran/]};});\n"
      ]
     },
     "metadata": {},
     "output_type": "display_data"
    }
   ],
   "source": [
    "%load_ext fortranmagic"
   ]
  },
  {
   "cell_type": "code",
   "execution_count": 3,
   "metadata": {},
   "outputs": [],
   "source": [
    "%%fortran\n",
    "\n",
    "subroutine f1(x, y, z)\n",
    "    real, intent(in) :: x,y\n",
    "    real, intent(out) :: z\n",
    "\n",
    "    z = sin(x+y)\n",
    "\n",
    "end subroutine f1"
   ]
  },
  {
   "cell_type": "code",
   "execution_count": 4,
   "metadata": {},
   "outputs": [
    {
     "data": {
      "text/plain": [
       "-0.279415488243103"
      ]
     },
     "execution_count": 4,
     "metadata": {},
     "output_type": "execute_result"
    }
   ],
   "source": [
    "f1(4, 2)"
   ]
  },
  {
   "cell_type": "markdown",
   "metadata": {},
   "source": [
    "Ok, probablemente los de Scipy programan mejor que nosotros :)\n",
    "\n",
    "Un algoritmo equivalente implementado en \"numpy pelado\" lo puse acá https://gist.github.com/mgaitan/6465190  "
   ]
  },
  {
   "cell_type": "markdown",
   "metadata": {},
   "source": [
    "## Un caso real: código \"científico\" \n",
    "\n",
    "Este código es una versión simplificada que calcula parámetros de EOS cúbicas SRK o PR a partir de las constantes de un compuesto Tc, Pc, y $\\omega$"
   ]
  },
  {
   "cell_type": "code",
   "execution_count": null,
   "metadata": {},
   "outputs": [],
   "source": [
    "%%file CubicParam_simpler.for\n",
    "\n",
    "\tprogram ModelsParam\n",
    "      implicit DOUBLE PRECISION (A-H,O-Z)\n",
    "      PARAMETER (RGAS=0.08314472d0)\n",
    "C\tCritical constants must be given in K and bar\n",
    "C\tb will be in L/mol and ac in bar*(L/mol)**2\n",
    "      PARAMETER (A0=0.0017,B0=1.9681,C0=-2.7238)\n",
    "      PARAMETER (A1=-2.4407,B1=7.4513,C1=12.504)\n",
    "\tdimension D(6)\n",
    "\tCOMMON /Tcdc/ Tc,dc\n",
    "\tCOMMON /ABd1/ a,b,del1\n",
    "\tD=[0.428363,18.496215,0.338426,0.660,789.723105,2.512392]\n",
    "\tNC=2\n",
    "\tNIN=1\n",
    "\tnout=9\n",
    "      OPEN(NIN,FILE='CONPARIN.DAT')\n",
    "      OPEN(NOUT,FILE='CONPAROUT.DAT')\n",
    "\tread(NIN,*)ICALC,NMODEL\n",
    "\tIF(NMODEL.EQ.4)GO TO 104\n",
    "    READ(NIN,*)Tc,Pc,OM\n",
    "    RT=RGAS*Tc\n",
    "\tEND IF\n",
    "\tIF(nmodel.EQ.1)THEN\n",
    "C\t\tSRK EOS\n",
    "\t\tdel1=1.0D0\n",
    "\tELSE\n",
    "C\t\tPR EOS\n",
    "\t\tdel1=1.0D0+sqrt(2.0)\n",
    "\tEND IF\n",
    "11\td1=(1+del1**2)/(1+del1)\n",
    "\ty=1+(2*(1+del1))**(1.0d0/3)+(4/(1+del1))**(1.0d0/3)\n",
    "\tOMa=(3*y*y+3*y*d1+d1**2+d1-1.0d0)/(3*y+d1-1.0d0)**2\n",
    "\tOMb=1/(3*y+d1-1.0d0)\n",
    "\tZc=y/(3*y+d1-1.0d0)\n",
    "\n",
    "\tac=OMa*RT**2/Pc\n",
    "\tb=OMb*RT/Pc\n",
    "\n",
    "\tZc=y/(3*y+d1-1.0d0)\n",
    "\tVceos=Zc*RGAS*Tc/Pc\n",
    "\tIF(nmodel.eq.1)THEN\n",
    "\t\trm=0.48+1.574*OM-0.175*OM**2  ! m from SRK\n",
    "\tELSE\n",
    "\t\trm=0.37464+1.54226*OM-0.26992*OM**2  ! m from PR\n",
    "\tEND IF\n",
    "\twrite(nout,1)Tc,Pc,OM,Vceos  ! it used to be \"Vceos,OM\" (changed 5/7/13 to imitate gpecin standard)\n",
    "\twrite(nout,2)ac,b,rm\n",
    "c\twrite(NOUT,*)\n",
    "c\twrite(nout,*)'Tc, Pc and Vc are given in K, bar and L/mol respectively'\n",
    " 1\tFORMAT(F10.4,F10.4,F10.6,F9.5)\n",
    " 2\tFORMAT(F10.4,F10.6,F10.6,F10.5)\n",
    "104\tcontinue\n",
    "\tclose(unit=NIN)\n",
    "\tclose(unit=nout)\n",
    "\tend"
   ]
  },
  {
   "cell_type": "markdown",
   "metadata": {},
   "source": [
    "Este código es más parecido a Fortran 77 que a Fortran 90, pero **no compilaría** en un compilador de f77 estricto. Y ¿me creen si les digo que el original es muchísimo más intrincado?\n",
    "\n",
    "Un archivo de entrada \"CONPARIN.DAT\" tiene la forma"
   ]
  },
  {
   "cell_type": "code",
   "execution_count": null,
   "metadata": {},
   "outputs": [],
   "source": [
    "%%file CONPARIN.DAT\n",
    "0  1\n",
    " 369.83  42.48  0.152291\n",
    " "
   ]
  },
  {
   "cell_type": "markdown",
   "metadata": {},
   "source": [
    "El problema con esta arquitectura de entrada/salida es que es muy frágil: qué significa cada número está dado por su posición, que puede cambiar a lo largo del tiempo o significar distintas cosas en función de otro número, etc. Hay que ser un poco adivino o demasiado \"científico\" para leer y **mantener** este código.\n",
    " \n",
    "Pero probemos que funciona"
   ]
  },
  {
   "cell_type": "code",
   "execution_count": null,
   "metadata": {},
   "outputs": [],
   "source": [
    "!gfortran -o cubic_param CubicParam_simpler.for"
   ]
  },
  {
   "cell_type": "code",
   "execution_count": null,
   "metadata": {},
   "outputs": [],
   "source": [
    "!./cubic_param   # ./cubic_param  en linux"
   ]
  },
  {
   "cell_type": "code",
   "execution_count": null,
   "metadata": {},
   "outputs": [],
   "source": [
    "%pycat CONPAROUT.DAT"
   ]
  },
  {
   "cell_type": "markdown",
   "metadata": {},
   "source": [
    "Si convirtieramos con F2py **no tendria ninguna función** y es poque sólo hay un gran bloque `program` "
   ]
  },
  {
   "cell_type": "code",
   "execution_count": null,
   "metadata": {},
   "outputs": [],
   "source": [
    "_ = !f2py -m cubic_param -c CubicParam_simpler.for\n",
    "_[-2:]"
   ]
  },
  {
   "cell_type": "code",
   "execution_count": null,
   "metadata": {},
   "outputs": [],
   "source": [
    "import cubic_param"
   ]
  },
  {
   "cell_type": "markdown",
   "metadata": {},
   "source": [
    "Sólo tenemos los bloques **commons**"
   ]
  },
  {
   "cell_type": "code",
   "execution_count": null,
   "metadata": {},
   "outputs": [],
   "source": [
    "dir(cubic_param)"
   ]
  },
  {
   "cell_type": "markdown",
   "metadata": {},
   "source": [
    "Reescribiremos el módulo Fortran un poquito para convertirlo en una subrutina, que reciba los parámetros en vez de leerlos desde un archivo. De paso, lo convertiremos (un poco) a **Fortran 90** y simplificando porque ya sabemos: **la legibilidad cuenta**. \n",
    "\n",
    "Algunas reglas (no exhaustivas):\n",
    "\n",
    "- **Sólo** usar mayúsculas para definir constantes/parámetros\n",
    "- Usá **nombres de variables significativos**: no funciona más rápido por ser críptico. \n",
    "- De nuevo: **la legibilidad es lo más importante**. Sé explícito y poné comentarios cuando el código no es obvio\n",
    "- Dejá **sangrías** (de 4 espacios) para destacar las estructuras de control (como si fuera python)\n",
    "- Usá los operadores lógicos **==, >=, /=, <**, en vez de `.EQ., .GE. ... ` . Son \"menos ruidosos\".\n",
    "- Si tenés que continuar una linea en la siguiente, hacelo con `&` al final \n",
    "- Los comentarios empezalos siempre con **!**  y en el nivel de sangría en el que estás.\n",
    "- Declará el **intent** de tus parámetros. Explícito es mejor que implícito.\n",
    "- Evitá, por el amor de Messi, el uso de `goto`\n",
    "- Hacé subrutinas lo más pequeñas posibles que hagan **una** cosa, bien.\n",
    "- Tratá de no usar **parámetros que cambien el significado** de entrada/salida. Casos del tipo *\"si primero le pasas un 0 lo que sigue es la temperatura y lo que devuelve es el volumen, pero si le pasas un 1 lo que espera es la cantidad de goles de Messi en la selección y devuelve la distancia Tierra-Marte de mañana. Si la pasás un 3 algo hace pero no me acuerdo qué\"*. Si no lo podés evitar, definí constantes explícitamente y usalas en los \"if\" en vez de los números literales. Un \"...pero es casi igual\" es síntoma de que tenés que separar código en rutinas auxiliares.\n",
    "- Los comentarios empezalos siempre con **!**  y en el nivel de sangría en el que estás.\n",
    "  Si son rutinas auxiliares poneles un guión bajo como prefijo  (`_calc_something(...)`)\n",
    "- Los principios [KISS](http://en.wikipedia.org/wiki/KISS_principle) y [DRY](http://en.wikipedia.org/wiki/DRY_principle) son nuestros dogmas. Mantenelo simple y ¡no repitas código! Si hay una subrutina que usas seguido separala en un nuevo módulo e incluílo en la compilación. El **Copy & paste es malo**, malo, malo. \n",
    "- Si no podés evitar **leer datos** desde un archivo, **hacelo en una sóla rutina bien documentada** (con ejemplos de input) y no con `read(NIN, *)` desparramados por doquier. Lo mismo aplica a la rutina de \"escritura\" del output. \n",
    "- El código comentado sólo mete ruido. Un \"puede servir mañana\", es sintoma de que necesitas usar un sistema de control de versiones. \n",
    "- Comentarios tipo \"cambié esto el 1 de agosto porque necesitaba...\" es sintoma de que necesitas usar un sistema de control de versiones. \n",
    "- Necesitas usar un sistema de control de versiones. . Dropbox no lo es. \n",
    "- ...\n",
    "\n",
    "Nota: El script [f2f.pl](https://bitbucket.org/lemonlab/f2f/) puede ayudar un poco automatizando algunas cosas de la migración.\n",
    "\n",
    "Bueno, basta de adoctrinamiento. "
   ]
  },
  {
   "cell_type": "code",
   "execution_count": null,
   "metadata": {},
   "outputs": [],
   "source": [
    "%%file CubicParam_simpler.f90\n",
    "\n",
    "subroutine modelsparam(nmodel, tc, pc, om, constants, parameters)\n",
    "\n",
    "    implicit double precision (a-h,o-z)\n",
    "    parameter (rgas=0.08314472d0)\n",
    "\n",
    "    !  Critical constants must be given in k and bar\n",
    "    !  b will be in l/mol and ac in bar*(l/mol)**2\n",
    "\n",
    "    parameter (a0=0.0017, b0=1.9681, c0=-2.7238)\n",
    "    parameter (a1=-2.4407, b1=7.4513, c1=12.504)\n",
    "    dimension d(6), constants(4), parameters(3)\n",
    "\n",
    "    !*** Atenti a la linea que sigue *******\n",
    "    !f2py intent(out) :: constants, parameters\n",
    "\n",
    "    d = [0.428363, 18.496215, 0.338426, 0.660, 789.723105, 2.512392]\n",
    "    rt = rgas*tc\n",
    "\n",
    "    if(nmodel == 1) then\n",
    "        ! srk eos\n",
    "        del1 = 1.0d0\n",
    "    else\n",
    "        ! pr eos\n",
    "        del1 = 1.0d0 + sqrt(2.0)\n",
    "    end if\n",
    "\n",
    "    d1 = (1+del1**2)/(1+del1)\n",
    "    y = 1+(2*(1+del1))**(1.0d0/3)+(4/(1+del1))**(1.0d0/3)\n",
    "    oma = (3*y*y+3*y*d1+d1**2+d1-1.0d0)/(3*y+d1-1.0d0)**2\n",
    "    omb = 1/(3*y+d1-1.0d0)\n",
    "    zc = y/(3*y+d1-1.0d0)\n",
    "\n",
    "    ac = oma*rt**2/pc\n",
    "    b = omb*rt/pc\n",
    "\n",
    "    zc = y/(3*y+d1-1.0d0)\n",
    "    vceos=zc*rgas*tc/pc\n",
    "\n",
    "    if(nmodel == 1) then\n",
    "        rm = 0.48+1.574*om-0.175*om**2  ! m from srk\n",
    "    else\n",
    "        rm = 0.37464+1.54226*om-0.26992*om**2  ! m from pr\n",
    "    end if\n",
    "\n",
    "    constants = (/tc, pc, om, vceos /)\n",
    "    parameters = (/ac, b, rm/)\n",
    "\n",
    "end subroutine "
   ]
  },
  {
   "cell_type": "code",
   "execution_count": null,
   "metadata": {},
   "outputs": [],
   "source": [
    "_ = !f2py -m cubic_param_new -c CubicParam_simpler.f90"
   ]
  },
  {
   "cell_type": "code",
   "execution_count": null,
   "metadata": {},
   "outputs": [],
   "source": [
    "import cubic_param_new\n",
    "print cubic_param_new.modelsparam.__doc__"
   ]
  },
  {
   "cell_type": "code",
   "execution_count": null,
   "metadata": {},
   "outputs": [],
   "source": [
    "constants, parameters = cubic_param_new.modelsparam(1, tc=369.83, pc=42.48, om=0.152291)"
   ]
  },
  {
   "cell_type": "code",
   "execution_count": null,
   "metadata": {},
   "outputs": [],
   "source": [
    "print constants\n",
    "print parameters"
   ]
  },
  {
   "cell_type": "code",
   "execution_count": null,
   "metadata": {},
   "outputs": [],
   "source": [
    "%pycat CONPAROUT.DAT"
   ]
  },
  {
   "cell_type": "markdown",
   "metadata": {},
   "source": [
    "¡Genial! \n",
    "\n",
    "### ¿Cómo seguimos?\n",
    "\n",
    "\n",
    "F2Py es **muy poderoso** pero hay que ayudarlo. \n",
    "\n",
    "Un **patrón típico** es el de cálculos iterativos que dan \"distinta cantidad de output\". En nuestro ejemplo siempre se devolvian dos arrays de longitud conocida, pero **¿que pasa si no sabemos de antemano el tamaño de los arrays de salida?** \n",
    "\n",
    "Escribiendo archivos de texto a medida que se encuentran los puntos se evita \"almacenar\" los valores en un array, pero ya sabemos que eso es una mala arquitectura porque a) **escribir al disco es lento** (si fortran es rápido, ahí perdemos la ventaja) y b) casi siempre queremos los resultados para hacer nuevos cómputos: otras cuentas, gráficos, o mostrarlos en una bonita interfaz, etc. Nada de eso es más fácil desde un archivo de texto. \n",
    "\n",
    "\n",
    "Una forma simple de resolver eso es dimensionar el array contenedor bien grande y llevar un contador (entero) de datos válidos. Tanto el array como el contador se devuelven\n"
   ]
  },
  {
   "cell_type": "code",
   "execution_count": 1,
   "metadata": {},
   "outputs": [
    {
     "name": "stdout",
     "output_type": "stream",
     "text": [
      "Writing output_variable.f90\n"
     ]
    }
   ],
   "source": [
    "%%file output_variable.f90\n",
    "\n",
    "subroutine algo(nin, output, nout)\n",
    "    implicit none\n",
    "    integer, intent(in) :: nin\n",
    "    real, dimension(50000), intent(out) :: output\n",
    "    integer, intent(out) :: nout\n",
    "    integer :: i\n",
    "            \n",
    "    nout = 0\n",
    "    ! hacer calculos que van llenando\n",
    "    do i=1,2*nin\n",
    "        output(i) = i ** .5\n",
    "        nout = nout + 1\n",
    "    end do\n",
    "end subroutine"
   ]
  },
  {
   "cell_type": "code",
   "execution_count": 2,
   "metadata": {},
   "outputs": [],
   "source": [
    "_ = !f2py -m variable -c output_variable.f90"
   ]
  },
  {
   "cell_type": "code",
   "execution_count": 3,
   "metadata": {},
   "outputs": [],
   "source": [
    "import variable"
   ]
  },
  {
   "cell_type": "code",
   "execution_count": 4,
   "metadata": {},
   "outputs": [
    {
     "data": {
      "text/plain": [
       "(50000, 20)"
      ]
     },
     "execution_count": 4,
     "metadata": {},
     "output_type": "execute_result"
    }
   ],
   "source": [
    "output, validos = variable.algo(10)\n",
    "output.size, validos"
   ]
  },
  {
   "cell_type": "markdown",
   "metadata": {},
   "source": [
    "Entonces lo mejor es hacer una función (o método) que **envuelva** a la de fortran y haga el postprocesado (y el preprocesado si hiciera falta), **mejorando de paso la documentación**. Esto se llama un **wrapper** "
   ]
  },
  {
   "cell_type": "code",
   "execution_count": 5,
   "metadata": {},
   "outputs": [],
   "source": [
    "def raizde2(cantidad):\n",
    "    \"\"\"\n",
    "    dado un entero, devuelve un vector de el doble de tamaño \n",
    "    donde cada elemento i tiene valor sqrt(i + 1)  (raiz cuadrada)\n",
    "    \"\"\" \n",
    "    output, validos = variable.algo(cantidad)\n",
    "    return output[:validos]"
   ]
  },
  {
   "cell_type": "code",
   "execution_count": 6,
   "metadata": {},
   "outputs": [
    {
     "data": {
      "text/plain": [
       "1.4142135"
      ]
     },
     "execution_count": 6,
     "metadata": {},
     "output_type": "execute_result"
    }
   ],
   "source": [
    "raizde2(10)[1]"
   ]
  },
  {
   "cell_type": "code",
   "execution_count": 7,
   "metadata": {},
   "outputs": [
    {
     "data": {
      "text/plain": [
       "20"
      ]
     },
     "execution_count": 7,
     "metadata": {},
     "output_type": "execute_result"
    }
   ],
   "source": [
    "raizde2(10).size"
   ]
  },
  {
   "cell_type": "code",
   "execution_count": 8,
   "metadata": {},
   "outputs": [
    {
     "name": "stdout",
     "output_type": "stream",
     "text": [
      "Help on function raizde2 in module __main__:\n",
      "\n",
      "raizde2(cantidad)\n",
      "    dado un entero, devuelve un vector de el doble de tamaño \n",
      "    donde cada elemento i tiene valor sqrt(i + 1)  (raiz cuadrada)\n",
      "\n"
     ]
    }
   ],
   "source": [
    "help(raizde2)"
   ]
  },
  {
   "cell_type": "markdown",
   "metadata": {},
   "source": [
    "### ¿Un deadmatch ?"
   ]
  },
  {
   "cell_type": "code",
   "execution_count": 9,
   "metadata": {},
   "outputs": [],
   "source": [
    "import numpy as np\n",
    "def raizde2_np(cantidad):\n",
    "    \"\"\"\n",
    "    dado un entero, devuelve un vector de el doble de tamaño \n",
    "    donde cada elemento i tiene valor sqrt(i + 1)  (raiz cuadrada)\n",
    "    \"\"\" \n",
    "    return np.sqrt(np.arange(1, 2*cantidad + 1, dtype=np.float32))"
   ]
  },
  {
   "cell_type": "code",
   "execution_count": 10,
   "metadata": {},
   "outputs": [
    {
     "data": {
      "text/plain": [
       "True"
      ]
     },
     "execution_count": 10,
     "metadata": {},
     "output_type": "execute_result"
    }
   ],
   "source": [
    "(raizde2(10) == raizde2_np(10)).all()"
   ]
  },
  {
   "cell_type": "code",
   "execution_count": 11,
   "metadata": {},
   "outputs": [
    {
     "name": "stdout",
     "output_type": "stream",
     "text": [
      "1000 loops, best of 3: 226 µs per loop\n"
     ]
    }
   ],
   "source": [
    "%timeit raizde2(10000)"
   ]
  },
  {
   "cell_type": "code",
   "execution_count": 12,
   "metadata": {},
   "outputs": [
    {
     "name": "stdout",
     "output_type": "stream",
     "text": [
      "The slowest run took 4.68 times longer than the fastest. This could mean that an intermediate result is being cached \n",
      "10000 loops, best of 3: 34.6 µs per loop\n"
     ]
    }
   ],
   "source": [
    "%timeit raizde2_np(10000)"
   ]
  },
  {
   "cell_type": "code",
   "execution_count": 14,
   "metadata": {},
   "outputs": [
    {
     "data": {
      "text/plain": [
       "6.647058823529412"
      ]
     },
     "execution_count": 14,
     "metadata": {},
     "output_type": "execute_result"
    }
   ],
   "source": [
    "226/34."
   ]
  },
  {
   "cell_type": "markdown",
   "metadata": {},
   "source": [
    "numpy es un 664% más rápido para este caso sencillo ¡En tu cara compilador!"
   ]
  },
  {
   "cell_type": "code",
   "execution_count": null,
   "metadata": {},
   "outputs": [],
   "source": []
  }
 ],
 "metadata": {
  "kernelspec": {
   "display_name": "Python 3",
   "language": "python",
   "name": "python3"
  },
  "language_info": {
   "codemirror_mode": {
    "name": "ipython",
    "version": 3
   },
   "file_extension": ".py",
   "mimetype": "text/x-python",
   "name": "python",
   "nbconvert_exporter": "python",
   "pygments_lexer": "ipython3",
   "version": "3.6.1"
  }
 },
 "nbformat": 4,
 "nbformat_minor": 1
}
