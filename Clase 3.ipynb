{
 "cells": [
  {
   "cell_type": "markdown",
   "metadata": {},
   "source": [
    "# Introducción a Python para ciencias e ingenierías (notebook 3)\n",
    "\n",
    "\n",
    "Ing. Martín Gaitán \n",
    "\n",
    "\n",
    "**Links útiles**\n",
    "\n",
    "Repositorio del curso:\n",
    "\n",
    "### http://bit.ly/cursopy\n",
    "\n",
    "Python \"temporal\" online: \n",
    "\n",
    "### http://try.jupyter.org\n",
    "\n",
    "- Descarga de [Python \"Anaconda\"](http://continuum.io/downloads#py34)\n",
    "- Resumen de [sintaxis markdown](https://github.com/jupyter/strata-sv-2015-tutorial/blob/master/resources/Working%20With%20Markdown%20Cells.ipynb)\n",
    "\n",
    "\n",
    "--------\n",
    "\n",
    "\n"
   ]
  },
  {
   "cell_type": "markdown",
   "metadata": {},
   "source": [
    "## Programación Orientada a Objetos, una brevísima introducción\n",
    "\n",
    "No vamos a entrar en detalles sobre qué es la famosísima \"programación orientada a objetos\". Simplemente es una buena manera de estructurar código para repetirse menos y \"encapsular\" datos (conservar estados) y sus comportamientos relacionados. Por ejemplo, cuando muchas funciones que reciben el mismo conjunto de parámetros, es un buen candidado a reescribirlo como una clase.\n"
   ]
  },
  {
   "cell_type": "code",
   "execution_count": null,
   "metadata": {
    "collapsed": true
   },
   "outputs": [],
   "source": [
    "class Rectangulo:\n",
    "    def __init__(self, base, altura):\n",
    "        self.base = base\n",
    "        self.altura = altura\n",
    "\n",
    "    # el primer parámetro de cada metodo de la clase se llama self\n",
    "    # y hace referencia \"al propio\" objeto, desde donde se puede consultar/modificar\n",
    "    # el estado de sus atributos o llamar a otros métodos\n",
    "    def area(self):\n",
    "        return self.base * self.altura\n",
    "\n",
    "    def perimetro(self):\n",
    "        return (self.base + self.altura) * 2\n",
    "\n"
   ]
  },
  {
   "cell_type": "code",
   "execution_count": 22,
   "metadata": {},
   "outputs": [
    {
     "data": {
      "text/plain": [
       "(1-2j)"
      ]
     },
     "execution_count": 22,
     "metadata": {},
     "output_type": "execute_result"
    }
   ],
   "source": [
    "c = 1 + 2j\n",
    "c.conjugate()"
   ]
  },
  {
   "cell_type": "markdown",
   "metadata": {},
   "source": [
    "   \n",
    "Listo, ya definimos una clase Rectangulo con la que podemos \"fabricar\" (instanciar) objetos este tipo, dando los parámetros que son requeridos por el método inicilizador `__init__`. Se hace directamente \"llamando a la clase\""
   ]
  },
  {
   "cell_type": "code",
   "execution_count": 7,
   "metadata": {
    "collapsed": true
   },
   "outputs": [],
   "source": [
    "rectangulo2x4 = Rectangulo(2, 4)"
   ]
  },
  {
   "cell_type": "code",
   "execution_count": 8,
   "metadata": {},
   "outputs": [
    {
     "data": {
      "text/plain": [
       "(2, 4)"
      ]
     },
     "execution_count": 8,
     "metadata": {},
     "output_type": "execute_result"
    }
   ],
   "source": [
    "rectangulo2x4.base, rectangulo2x4.altura"
   ]
  },
  {
   "cell_type": "code",
   "execution_count": 15,
   "metadata": {},
   "outputs": [
    {
     "data": {
      "text/plain": [
       "8"
      ]
     },
     "execution_count": 15,
     "metadata": {},
     "output_type": "execute_result"
    }
   ],
   "source": [
    "rectangulo2x4.base  = 2\n",
    "rectangulo2x4.area()"
   ]
  },
  {
   "cell_type": "code",
   "execution_count": 23,
   "metadata": {},
   "outputs": [
    {
     "data": {
      "text/plain": [
       "__main__.Rectangulo"
      ]
     },
     "execution_count": 23,
     "metadata": {},
     "output_type": "execute_result"
    }
   ],
   "source": [
    "type(rectangulo2x4)"
   ]
  },
  {
   "cell_type": "markdown",
   "metadata": {},
   "source": [
    "Una vez definido la instancia podemos utilizar sus métodos. "
   ]
  },
  {
   "cell_type": "code",
   "execution_count": 17,
   "metadata": {},
   "outputs": [
    {
     "data": {
      "text/plain": [
       "8"
      ]
     },
     "execution_count": 17,
     "metadata": {},
     "output_type": "execute_result"
    }
   ],
   "source": [
    "rectangulo2x4.area()    "
   ]
  },
  {
   "cell_type": "code",
   "execution_count": 18,
   "metadata": {},
   "outputs": [
    {
     "data": {
      "text/plain": [
       "12"
      ]
     },
     "execution_count": 18,
     "metadata": {},
     "output_type": "execute_result"
    }
   ],
   "source": [
    "rectangulo2x4.perimetro()"
   ]
  },
  {
   "cell_type": "markdown",
   "metadata": {},
   "source": [
    "Siempre es bueno definir el método especial `__str__`, que es el que dice como 'castear' nuestro objeto a un string. De otra manera, la función `print` o la representación de salida interactiva no son muy útiles\n"
   ]
  },
  {
   "cell_type": "code",
   "execution_count": 24,
   "metadata": {},
   "outputs": [
    {
     "name": "stdout",
     "output_type": "stream",
     "text": [
      "<__main__.Rectangulo object at 0x7f0efda4efd0>\n"
     ]
    },
    {
     "data": {
      "text/plain": [
       "<__main__.Rectangulo at 0x7f0efda4efd0>"
      ]
     },
     "execution_count": 24,
     "metadata": {},
     "output_type": "execute_result"
    }
   ],
   "source": [
    "print(rectangulo2x4)\n",
    "rectangulo2x4"
   ]
  },
  {
   "cell_type": "markdown",
   "metadata": {},
   "source": [
    "Redefinamos la clase Rectángulo\n",
    "\n"
   ]
  },
  {
   "cell_type": "code",
   "execution_count": 35,
   "metadata": {
    "collapsed": true
   },
   "outputs": [],
   "source": [
    "class Rectangulo:\n",
    "    def __init__(self, base, altura):\n",
    "        self.base = base\n",
    "        self.altura = altura\n",
    "\n",
    "    def area(self):\n",
    "        return self.base * self.altura\n",
    "\n",
    "    def perimetro(self):\n",
    "        return (self.base + self.altura) * 2\n",
    "\n",
    "    def volumen(self, profundidad):\n",
    "        return self.area() * profundidad\n",
    "    \n",
    "    def __str__(self):\n",
    "        return \"{} de {} x {}\".format(type(self).__name__, self.base, self.altura)"
   ]
  },
  {
   "cell_type": "code",
   "execution_count": 36,
   "metadata": {},
   "outputs": [
    {
     "name": "stdout",
     "output_type": "stream",
     "text": [
      "Rectangulo de 3 x 4\n"
     ]
    }
   ],
   "source": [
    "r = Rectangulo(3, 4)\n",
    "print(r)"
   ]
  },
  {
   "cell_type": "code",
   "execution_count": 39,
   "metadata": {},
   "outputs": [
    {
     "data": {
      "text/plain": [
       "18.0"
      ]
     },
     "execution_count": 39,
     "metadata": {},
     "output_type": "execute_result"
    }
   ],
   "source": [
    "r.volumen(1.5)"
   ]
  },
  {
   "cell_type": "markdown",
   "metadata": {},
   "source": [
    "### Herencia\n",
    "\n",
    "Un cuadrado es un tipo especial de rectángulo, donde base == altura. En vez de escribir una clase casi igual, hagamos una **herencia**\n",
    "\n"
   ]
  },
  {
   "cell_type": "code",
   "execution_count": 31,
   "metadata": {
    "collapsed": true
   },
   "outputs": [],
   "source": [
    "\n",
    "class Cuadrado(Rectangulo): # cuadrado es una subclase de rectángulo.\n",
    "    def __init__(self, lado):\n",
    "        \n",
    "        # igualito a papá rectángulo\n",
    "        super(Cuadrado, self).__init__(base=lado, altura=lado) \n",
    "        #self.base = lado\n",
    "        #self.altura = lado\n"
   ]
  },
  {
   "cell_type": "markdown",
   "metadata": {},
   "source": [
    "Lo que hicimos en este caso es hacer una \"subclase\" que hereda todo los métodos de la \"clase padre\" y le redefinimos el método inicializador\n",
    "\n",
    "Una subclase no sólo puede redefinir el inicializador, sino cualquier método. \n",
    "\n"
   ]
  },
  {
   "cell_type": "code",
   "execution_count": 32,
   "metadata": {},
   "outputs": [
    {
     "data": {
      "text/plain": [
       "8"
      ]
     },
     "execution_count": 32,
     "metadata": {},
     "output_type": "execute_result"
    }
   ],
   "source": [
    "cuadrado = Cuadrado(2)\n",
    "cuadrado.perimetro()"
   ]
  },
  {
   "cell_type": "code",
   "execution_count": 33,
   "metadata": {},
   "outputs": [
    {
     "data": {
      "text/plain": [
       "4"
      ]
     },
     "execution_count": 33,
     "metadata": {},
     "output_type": "execute_result"
    }
   ],
   "source": [
    "cuadrado.area()"
   ]
  },
  {
   "cell_type": "code",
   "execution_count": 34,
   "metadata": {},
   "outputs": [
    {
     "name": "stdout",
     "output_type": "stream",
     "text": [
      "Cuadrado de 2 x 2\n"
     ]
    }
   ],
   "source": [
    "print(cuadrado)"
   ]
  },
  {
   "cell_type": "markdown",
   "metadata": {},
   "source": [
    "\n",
    "En python no sólo podemos reusar código \"verticalmente\" (herencia simple). Podemos incorporar \"comportamientos\" de multiples clases padre (herencia múltiple). Esto es lo que se conoce como el patrón \"Mixin\".\n",
    "\n"
   ]
  },
  {
   "cell_type": "code",
   "execution_count": 41,
   "metadata": {
    "collapsed": true
   },
   "outputs": [],
   "source": [
    "\n",
    "class OVNI:  # acá fue cuando me fumé \n",
    "    def volar(self):\n",
    "        print(\"Soy un %s y estoy volando!\" % self)\n",
    "        return 42\n",
    "\n",
    "    \n",
    "class CuadradoVolador(Cuadrado, OVNI):\n",
    "    pass\n",
    "\n"
   ]
  },
  {
   "cell_type": "code",
   "execution_count": 42,
   "metadata": {},
   "outputs": [
    {
     "data": {
      "text/plain": [
       "16"
      ]
     },
     "execution_count": 42,
     "metadata": {},
     "output_type": "execute_result"
    }
   ],
   "source": [
    "mi_cuadrado_volador = CuadradoVolador(4)\n",
    "mi_cuadrado_volador.area()\n"
   ]
  },
  {
   "cell_type": "code",
   "execution_count": 43,
   "metadata": {},
   "outputs": [
    {
     "name": "stdout",
     "output_type": "stream",
     "text": [
      "Soy un CuadradoVolador de 4 x 4 y estoy volando!\n"
     ]
    },
    {
     "data": {
      "text/plain": [
       "42"
      ]
     },
     "execution_count": 43,
     "metadata": {},
     "output_type": "execute_result"
    }
   ],
   "source": [
    "mi_cuadrado_volador.volar()"
   ]
  },
  {
   "cell_type": "markdown",
   "metadata": {},
   "source": [
    "\n",
    "Podriamos necesitar, por algun motivo esotérico digno de Capilla del Monte, \n",
    "un tipo especial CuadradoVolador que \"vuele\" de otra manera. Simplemente heredamos y reescribimos (o extendemos usando la función `super()`\n"
   ]
  },
  {
   "cell_type": "code",
   "execution_count": 44,
   "metadata": {
    "collapsed": true
   },
   "outputs": [],
   "source": [
    "class CuadradoVoladorSupersonico(CuadradoVolador):\n",
    "\n",
    "    def volar(self): # esto se llama \"sobrecargar método\"\n",
    "        valor = super(CuadradoVoladorSupersonico, self).volar()\n",
    "        print(\"y estoy volando supersónicamente a {} metros!\".format(valor))\n",
    "\n",
    "\n",
    "    def volar_distinto(self):\n",
    "        print('vuelo dando aletazos')\n",
    "\n",
    "supersonico = CuadradoVoladorSupersonico(2)"
   ]
  },
  {
   "cell_type": "code",
   "execution_count": 45,
   "metadata": {},
   "outputs": [
    {
     "name": "stdout",
     "output_type": "stream",
     "text": [
      "Soy un CuadradoVoladorSupersonico de 2 x 2 y estoy volando!\n",
      "y estoy volando supersónicamente a 42 metros!\n"
     ]
    }
   ],
   "source": [
    "supersonico.volar()"
   ]
  },
  {
   "cell_type": "code",
   "execution_count": 46,
   "metadata": {},
   "outputs": [
    {
     "name": "stdout",
     "output_type": "stream",
     "text": [
      "vuelo dando aletazos\n"
     ]
    }
   ],
   "source": [
    "supersonico.volar_distinto()"
   ]
  },
  {
   "cell_type": "markdown",
   "metadata": {},
   "source": [
    "###  Ejercicios\n",
    "\n",
    "1. Defina una clase `Estudiante` con atributos `nombre` y `año_ingreso`. Defina un método que devuelva la cantidad de años que lleva de cursado hasta el 2015. Luego redefina el método como `__len__` y utilice la función `len()` con la instancia.\n",
    "\n",
    "2. Defina una clase `Linear` que recibe parámetros a, b y un método que calcula ecuación $ax + b$. Redefina ese método como el método especial `__call__` e intente llamar a la instancia como una función.\n",
    "\n",
    "3. Herede de la clase `Linear` una subclase `Exponencial` que calcula $ax^b$.\n",
    "\n",
    "\n",
    "<!-- https://gist.githubusercontent.com/mgaitan/68f072b0243e0c85e85a/raw/9830ddc624c752e2ef661ac0db41355b4fb1514a/clases.py -->\n",
    "\n"
   ]
  },
  {
   "cell_type": "markdown",
   "metadata": {},
   "source": [
    "\n",
    "## Módulos y paquetes\n",
    "\n",
    "\n",
    "Buenísimo estos *notebooks* pero ¿qué pasa si quiero reusar código? \n",
    "\n",
    "Hay que crear **módulos**. \n",
    "\n",
    "Por ejemplo, creemos un módulo para guardar la función que encuentra raíces de segundo grado.\n",
    "\n",
    "Podemos abrir cualquier editor (incluído el que trae el propio jupyter), o alternativamente podemos preceder la celda con la \"función magic\" (que aporta Jupyter y se denotan por empezar con `%` o `%%`), en este caso `%%writefile`\n",
    "\n",
    "El resultado es dejar el un archivo llamado `cuadratica.py` con el código de nuestra función en el mismo directorio donde tenemos el notebook (el archivo .ipynb)"
   ]
  },
  {
   "cell_type": "code",
   "execution_count": 60,
   "metadata": {},
   "outputs": [
    {
     "name": "stdout",
     "output_type": "stream",
     "text": [
      "Overwriting cuadratica.py\n"
     ]
    }
   ],
   "source": [
    "%%writefile cuadratica.py     \n",
    "\n",
    "def raices(a, b=0, c=0):\n",
    "    \"\"\"dados los coeficientes, encuentra los valores de x tal que ax^2 + bx + c = 0\"\"\"\n",
    "\n",
    "    discriminante = (b**2 - 4*a*c)**0.5\n",
    "    x1 = (-b + discriminante)/(2*a)\n",
    "    x2 = (-b - discriminante)/(2*a)\n",
    "    return (x1, x2)\n",
    "    \n",
    "       "
   ]
  },
  {
   "cell_type": "markdown",
   "metadata": {},
   "source": [
    "Lo hemos guardado en un archivo `cuadratica.py` en el directorio donde estamos corriendo esta consola (notebook), entonces directamente podemos **importar** ese modulo. "
   ]
  },
  {
   "cell_type": "code",
   "execution_count": 61,
   "metadata": {
    "collapsed": true
   },
   "outputs": [],
   "source": [
    "import cuadratica"
   ]
  },
  {
   "cell_type": "markdown",
   "metadata": {},
   "source": [
    "El módulo `cuadratica` importado funciona como *\"espacio de nombres\"*, donde todos los objetos definidos dentro son atributos"
   ]
  },
  {
   "cell_type": "code",
   "execution_count": null,
   "metadata": {
    "collapsed": true
   },
   "outputs": [],
   "source": [
    "cuadratica.raices"
   ]
  },
  {
   "cell_type": "code",
   "execution_count": 62,
   "metadata": {},
   "outputs": [
    {
     "data": {
      "text/plain": [
       "(0.3333333333333333, -1.0)"
      ]
     },
     "execution_count": 62,
     "metadata": {},
     "output_type": "execute_result"
    }
   ],
   "source": [
    "cuadratica.raices(3, 2, -1)"
   ]
  },
  {
   "cell_type": "code",
   "execution_count": null,
   "metadata": {
    "collapsed": true
   },
   "outputs": [],
   "source": [
    "cuadratica.raices(3, 2, 1)"
   ]
  },
  {
   "cell_type": "markdown",
   "metadata": {},
   "source": [
    "Importar un modulo es importar un \"espacio de nombres\", donde todo lo que el modulo contenga (funciones, clases, constantes, etc.) se accederá como un atributo del modulo de la forma  `modulo.<objeto>`\n",
    "\n",
    "Cuando el nombre del espacio de nombres es muy largo, podemos ponerle un alias\n"
   ]
  },
  {
   "cell_type": "code",
   "execution_count": 63,
   "metadata": {},
   "outputs": [
    {
     "data": {
      "text/plain": [
       "(0.3482423621500228, -0.5982423621500228)"
      ]
     },
     "execution_count": 63,
     "metadata": {},
     "output_type": "execute_result"
    }
   ],
   "source": [
    "import cuadratica as cuad   # igual que la primera forma pero poniendole un alias (mas breve). \n",
    "\n",
    "cuad.raices(24,6,-5)"
   ]
  },
  {
   "cell_type": "markdown",
   "metadata": {},
   "source": [
    "Si **sólo queremos alguna unidad de código y no todo el módulo**, entonces podemos hacer una importación selectiva"
   ]
  },
  {
   "cell_type": "code",
   "execution_count": 64,
   "metadata": {
    "collapsed": true
   },
   "outputs": [],
   "source": [
    "from cuadratica import raices  # sólo importa el \"objeto\" que indequemos y lo deja \n",
    "                               # en el espacio de nombres desde el que estamos importando"
   ]
  },
  {
   "cell_type": "code",
   "execution_count": 65,
   "metadata": {
    "collapsed": true
   },
   "outputs": [],
   "source": [
    "raices?"
   ]
  },
  {
   "cell_type": "code",
   "execution_count": null,
   "metadata": {
    "collapsed": true
   },
   "outputs": [],
   "source": [
    "%"
   ]
  },
  {
   "cell_type": "markdown",
   "metadata": {},
   "source": [
    "Si, como sucede en general, el módulo definiera más de una unidad de código (una función, clase, constantes, etc.) podemos usar una tupla para importar varias cosas cosas al espacio de nombres actual. Por ejemplo:\n",
    "\n",
    "      from cuadratica import raices, integral, diferencial \n",
    " \n",
    "Por último, si queremos importar todo pero no usar el prefijo, podemos usar el `*`. **Esto no es recomendado**\n",
    "    \n",
    "    from cuadratica import *"
   ]
  },
  {
   "cell_type": "markdown",
   "metadata": {},
   "source": [
    "### Ejercicios\n",
    "\n",
    "1. Cree un módulo `circunferencia.py` que defina una constante `PI` y una función `area(r)` que calcula el área para una circunferencia de radio `r`. \n",
    "\n",
    "2. Desde una celda de la sesión intereactiva, importe todo el módulo como un alias `circle` y verifique `circle.PI` y `circle.area()`. Luego importe utilizando la forma `from circunferencia import ...` que importe también la función y la constante\n",
    "\n",
    "3. verifique que circle.area y area son el mismo objeto"
   ]
  },
  {
   "cell_type": "markdown",
   "metadata": {},
   "source": [
    "### Paquetes: módulos de módulos\n",
    "\n",
    "Cuando tenemos muchos módulos que están relacionados es bueno armar un **paquete**. Un paquete de modulos es un simple directorio con un módulo especial llamado `__init__.py` (que puede estar vacio) y tantos modulos y subpaquetes como queramos. \n",
    "\n",
    "\n",
    "Los paquetes se usan igual que un módulo. Por ejemplo, supongamos que tenemos una estructura\n",
    "\n",
    "    paquete/\n",
    "       __init__.py\n",
    "       modulo.py\n",
    "\n",
    "Puedo importar la `funcion_loca` definida en `modulo.py` así \n",
    "\n",
    "    from paquete.modulo import funcion_loca \n"
   ]
  },
  {
   "cell_type": "code",
   "execution_count": 2,
   "metadata": {},
   "outputs": [],
   "source": [
    "%mkdir paquete             # creamos un directorio  \"paquete\""
   ]
  },
  {
   "cell_type": "code",
   "execution_count": 3,
   "metadata": {},
   "outputs": [
    {
     "name": "stdout",
     "output_type": "stream",
     "text": [
      "Writing paquete/__init__.py\n"
     ]
    }
   ],
   "source": [
    "%%writefile paquete/__init__.py         \n",
    " \n",
    " "
   ]
  },
  {
   "cell_type": "code",
   "execution_count": 6,
   "metadata": {},
   "outputs": [
    {
     "name": "stdout",
     "output_type": "stream",
     "text": [
      "Overwriting paquete/modulo.py\n"
     ]
    }
   ],
   "source": [
    "%%writefile paquete/modulo.py\n",
    "\n",
    "def funcion_loca(w=300,h=200):\n",
    "    _                                      =   (\n",
    "                                        255,\n",
    "                                      lambda\n",
    "                               V       ,B,c\n",
    "                             :c   and Y(V*V+B,B,  c\n",
    "                               -1)if(abs(V)<6)else\n",
    "               (              2+c-4*abs(V)**-.4)/i\n",
    "                 )  ;v,      x=w,h; C = range(-1,v*x \n",
    "                  +1);import  struct; P = struct.pack;M, \\\n",
    "            j  =b'<QIIHHHH',open('M.bmp','wb').write; k= v,x,1,24\n",
    "    for X in C or 'Mandelbrot. Adapted to Python3 by @tin_nqn_':\n",
    "        j(b'BM' + P(M, v*x*3+26, 26, 12,*k)) if X==-1 else 0; i,\\\n",
    "            Y=_;j(P(b'BBB',*(lambda T: map(int, (T*80+T**9\n",
    "                  *i-950*T  **99,T*70-880*T**18 + 701*\n",
    "                 T  **9     ,T*i**(1-T**45*2))))(sum(\n",
    "               [              Y(0,(A%3/3.+X%v+(X/v+\n",
    "                               A/3/3.-x/2)/1j)*2.5\n",
    "                             /x   -2.7,i)**2 for  \\\n",
    "                               A       in C\n",
    "                                      [:9]])\n",
    "                                        /9)\n",
    "                                       )   )"
   ]
  },
  {
   "cell_type": "code",
   "execution_count": 7,
   "metadata": {},
   "outputs": [],
   "source": [
    "from paquete import modulo as m # import funcion_loca\n",
    "m.funcion_loca()\n",
    "\n",
    "# podes ver el resultado creando una celda tipo Markdown con el contenido:\n",
    "#\n",
    "# ![](files/M.bmp)"
   ]
  },
  {
   "cell_type": "markdown",
   "metadata": {},
   "source": [
    "![](files/M.bmp)"
   ]
  },
  {
   "cell_type": "markdown",
   "metadata": {},
   "source": [
    "#### Ejercicio:\n",
    "\n",
    "1. Cree un paquete `geometria` que contenga el modulo `circunferencia` creado anterioriomente y otro análogo que se llame `rectangulo` que contenga tambien una función `area`, con el cálculo correspondiente. \n",
    "\n",
    "2. Verifique \n",
    "\n",
    "    * `import geometria`, \n",
    "    * `from geometria import rectangulo`, \n",
    "    * `from geometria.circunferencia import pi, area`\n",
    "    * `from geometria.rectangulo import area as area_rect`\n"
   ]
  },
  {
   "cell_type": "markdown",
   "metadata": {},
   "source": [
    "## Biblioteca estándar: las baterías puestas de Python\n",
    "\n",
    "Sin entrar en detalles, ya utilizamos algunos módulos que trae python, por ejemplo cuando importamos el módulo `math` para usar las funciones matemáticas y constantes que define\n",
    "    \n",
    "    import math\n",
    "\n",
    "\n",
    "Hay muchísimas más funcionalidades que vienen incorporadas al lenguaje y están estandarizadas para que funcionen (salvo casos específicos) de la misma manera en cualquier implementación de Python y sistema operativo. Es lo que se conoce como la [biblioteca estándar de python](http://docs.python.org/3/library/) y es muy abarcativa y potente. \n",
    "\n",
    "Además de funciones matemáticas, manejo de algunos formatos de archivos más específicos que el \"texto plano\", protocolos de internet, otras *clases* de números y estructuras de datos,  etc. \n"
   ]
  },
  {
   "cell_type": "markdown",
   "metadata": {},
   "source": [
    "### CSV\n",
    "\n",
    "[CSV](https://es.wikipedia.org/wiki/CSV) (Comma Separated Values) es un formato de archivo abierto (un archivo de texto) para datos compartir datos estructurados tipo tabla. \n",
    "\n",
    "Es muy simple y básica pero muy usado para intercambiar información estructurada entre distintos programas. Por ejemplo, desde Excel o Libreoffice Calc se pueden guardar (y abrir) archivos CSV. y python también sabe. \n",
    "\n",
    "Ver [documentación](https://docs.python.org/3/library/csv.html)\n"
   ]
  },
  {
   "cell_type": "code",
   "execution_count": 75,
   "metadata": {},
   "outputs": [
    {
     "name": "stdout",
     "output_type": "stream",
     "text": [
      "Component,Mol fraction\r\n",
      "n2,0.46\r\n",
      "co2,3.36\r\n",
      "c1,62.36\r\n",
      "c2,8.9\r\n",
      "c3,5.31\r\n",
      "c4,3.01\r\n",
      "c5,1.5\r\n",
      "c6,1.05\r\n",
      "c7,2.0\r\n",
      "c7+,12.049\r\n"
     ]
    }
   ],
   "source": [
    "!cat data/near_critical_oil.csv"
   ]
  },
  {
   "cell_type": "code",
   "execution_count": 73,
   "metadata": {},
   "outputs": [
    {
     "data": {
      "text/plain": [
       "[['Component', 'Mol fraction'],\n",
       " ['n2', '0.46'],\n",
       " ['co2', '3.36'],\n",
       " ['c1', '62.36'],\n",
       " ['c2', '8.9'],\n",
       " ['c3', '5.31'],\n",
       " ['c4', '3.01'],\n",
       " ['c5', '1.5'],\n",
       " ['c6', '1.05'],\n",
       " ['c7', '2.0'],\n",
       " ['c7+', '12.049']]"
      ]
     },
     "execution_count": 73,
     "metadata": {},
     "output_type": "execute_result"
    }
   ],
   "source": [
    "import csv\n",
    "\n",
    "with open('data/near_critical_oil.csv') as csv_file:\n",
    "    reader = csv.reader(csv_file)\n",
    "    \n",
    "    critical_oil = [line for line in reader]   #o list(reader)\n",
    "critical_oil"
   ]
  },
  {
   "cell_type": "markdown",
   "metadata": {},
   "source": [
    "Para escribir creamos un objeto writer y usa"
   ]
  },
  {
   "cell_type": "code",
   "execution_count": 76,
   "metadata": {
    "collapsed": true
   },
   "outputs": [],
   "source": [
    "datos = [('Nombre', 'Peso'), ('Juan', 92), ('La \"Mole\" Moli', 121), ('Martín', '5 kilos de más')]\n",
    "\n",
    "with open('pesos.csv', 'w') as pesos_csv:\n",
    "    writer = csv.writer(pesos_csv)\n",
    "    writer.writerows(datos)"
   ]
  },
  {
   "cell_type": "code",
   "execution_count": 77,
   "metadata": {},
   "outputs": [
    {
     "name": "stdout",
     "output_type": "stream",
     "text": [
      "Nombre,Peso\r",
      "\r\n",
      "Juan,92\r",
      "\r\n",
      "\"La \"\"Mole\"\" Moli\",121\r",
      "\r\n",
      "Martín,5 kilos de más\r",
      "\r\n"
     ]
    }
   ],
   "source": [
    "%cat pesos.csv"
   ]
  },
  {
   "cell_type": "markdown",
   "metadata": {},
   "source": [
    "### Ejercicios:\n",
    "\n",
    "1. Dado un archivo CSV `circuitos.csv` (en la siguiente celda), leerlo utilizando `csv.DictReader` en vez de `csv.reader` y devolver todas las filas en una lista. Notar que el delimitador es `;` en vez de coma. \n",
    "\n",
    "<!--\n",
    "import csv\n",
    "\n",
    "\n",
    "with open('circuitos.csv') as csv_file:\n",
    "    reader = csv.DictReader(csv_file, delimiter=';')\n",
    "    escuelas = [line for line in reader]   #o list(reader)\n",
    "escuelas\n",
    "-->\n",
    "\n",
    "\n",
    "2. Genere un archivo csv donde la primera columna es la serie de enteros 1 a 10 inclusive, la segunda columna el logaritmo natural para el numero correspondiente de la primera columna, y una tercera que el logaritmo en base 10. \n",
    "\n",
    "        [(i, math.log(i), math.log10(i)) for i in range(1, 11)]\n"
   ]
  },
  {
   "cell_type": "code",
   "execution_count": 11,
   "metadata": {},
   "outputs": [
    {
     "name": "stdout",
     "output_type": "stream",
     "text": [
      "Writing circuitos.csv\n"
     ]
    }
   ],
   "source": [
    "%%writefile circuitos.csv\n",
    "long;lat;CODIGO DE ESTABLECIMIENTO;NOMBRE ESTABLECIMIENTO;DOMICILIO;CIRCUITO;DESDE MESA;HASTA MESA;TOTAL MESAS;Dirección Normalizada\n",
    "-58.372807778869245;-34.622409314430783;4369;ESC N°3 BERNARDINO RIVADAVIA;BOLIVAR 1235;1;19;28;10;BOLIVAR 1235\n",
    "-58.384400577996836;-34.593569986274616;4593;COL. NAC.Nº2 D F SARMIENTO;LIBERTAD 1257;6;115;136;22;LIBERTAD 1257\n",
    "-58.373914555842283;-34.602665313935738;4409;ESC N°13 GRAL SAN MARTIN;SAN MARTIN 458;9;192;206;15;SAN MARTIN 458\n",
    "-58.383791453750931;-34.601733848426591;5330;ESC N°7 PTE ROCA;LIBERTAD 581;10;225;234;10;LIBERTAD 581\n",
    "-58.388829352224974;-34.605387432219594;9026;UMSA UNIV DE MUSEO SOCIAL ARG;SARMIENTO 1565;10;252;259;8;SARMIENTO 1565\n",
    "-58.373317952774258;-34.611859568515861;5118;ESC POLITECNICA Nº5 M BELGRANO;BOLIVAR 346;14;367;371;5;BOLIVAR 346\n",
    "-58.373438804697628;-34.610990941996334;8716;COLEGIO NACIONAL BUENOS AIRES;BOLIVAR 263;14;372;381;10;BOLIVAR 263"
   ]
  },
  {
   "cell_type": "markdown",
   "metadata": {},
   "source": [
    "### Números aleatorios\n",
    "\n",
    "Todas las funciones relacionadas a la aleatoriedad están en el módulo `random`. \n",
    "\n",
    "Ver [documentación](https://docs.python.org/3/library/random.html)"
   ]
  },
  {
   "cell_type": "code",
   "execution_count": 85,
   "metadata": {},
   "outputs": [
    {
     "data": {
      "text/plain": [
       "0.4039307048869024"
      ]
     },
     "execution_count": 85,
     "metadata": {},
     "output_type": "execute_result"
    }
   ],
   "source": [
    "import random\n",
    "\n",
    "# la función más básica\n",
    "random.random()                      # float aleatorio, 0.0 <= x < 1.0"
   ]
  },
  {
   "cell_type": "code",
   "execution_count": 99,
   "metadata": {},
   "outputs": [
    {
     "data": {
      "text/plain": [
       "10"
      ]
     },
     "execution_count": 99,
     "metadata": {},
     "output_type": "execute_result"
    }
   ],
   "source": [
    "random.randrange(-10, 11, 2)           # análogo a range() devuelve un numero aleatorio de la serie"
   ]
  },
  {
   "cell_type": "code",
   "execution_count": 102,
   "metadata": {},
   "outputs": [
    {
     "data": {
      "text/plain": [
       "'A'"
      ]
     },
     "execution_count": 102,
     "metadata": {},
     "output_type": "execute_result"
    }
   ],
   "source": [
    "random.choice([0.3, 10, 'A'])     # elige un elemento al azar de una secuencia no vacía"
   ]
  },
  {
   "cell_type": "code",
   "execution_count": 106,
   "metadata": {},
   "outputs": [
    {
     "data": {
      "text/plain": [
       "[4, 0, 8, 5, 1]"
      ]
     },
     "execution_count": 106,
     "metadata": {},
     "output_type": "execute_result"
    }
   ],
   "source": [
    "random.sample(l, k=5)      # elige k elementos de la poblacion dada "
   ]
  },
  {
   "cell_type": "code",
   "execution_count": 107,
   "metadata": {
    "collapsed": true
   },
   "outputs": [],
   "source": [
    "l = list(range(10))"
   ]
  },
  {
   "cell_type": "code",
   "execution_count": 108,
   "metadata": {},
   "outputs": [
    {
     "data": {
      "text/plain": [
       "[0, 1, 2, 3, 4, 5, 6, 7, 8, 9]"
      ]
     },
     "execution_count": 108,
     "metadata": {},
     "output_type": "execute_result"
    }
   ],
   "source": [
    "l"
   ]
  },
  {
   "cell_type": "code",
   "execution_count": 109,
   "metadata": {},
   "outputs": [
    {
     "data": {
      "text/plain": [
       "[2, 8, 7, 9, 0, 3, 4, 6, 5, 1]"
      ]
     },
     "execution_count": 109,
     "metadata": {},
     "output_type": "execute_result"
    }
   ],
   "source": [
    "random.shuffle(l)       # \"desordena\" una lista (inline)\n",
    "l"
   ]
  },
  {
   "cell_type": "markdown",
   "metadata": {},
   "source": [
    "También tiene muchas funciones de probabilidad"
   ]
  },
  {
   "cell_type": "code",
   "execution_count": 110,
   "metadata": {},
   "outputs": [
    {
     "data": {
      "text/plain": [
       "['betavariate',\n",
       " 'expovariate',\n",
       " 'gammavariate',\n",
       " 'lognormvariate',\n",
       " 'normalvariate',\n",
       " 'paretovariate',\n",
       " 'vonmisesvariate',\n",
       " 'weibullvariate']"
      ]
     },
     "execution_count": 110,
     "metadata": {},
     "output_type": "execute_result"
    }
   ],
   "source": [
    "[method for method in dir(random) if method.endswith('variate')]"
   ]
  },
  {
   "cell_type": "code",
   "execution_count": 114,
   "metadata": {
    "collapsed": true
   },
   "outputs": [],
   "source": [
    "random.normalvariate??"
   ]
  },
  {
   "cell_type": "code",
   "execution_count": 115,
   "metadata": {},
   "outputs": [
    {
     "name": "stdout",
     "output_type": "stream",
     "text": [
      "The Zen of Python, by Tim Peters\n",
      "\n",
      "Beautiful is better than ugly.\n",
      "Explicit is better than implicit.\n",
      "Simple is better than complex.\n",
      "Complex is better than complicated.\n",
      "Flat is better than nested.\n",
      "Sparse is better than dense.\n",
      "Readability counts.\n",
      "Special cases aren't special enough to break the rules.\n",
      "Although practicality beats purity.\n",
      "Errors should never pass silently.\n",
      "Unless explicitly silenced.\n",
      "In the face of ambiguity, refuse the temptation to guess.\n",
      "There should be one-- and preferably only one --obvious way to do it.\n",
      "Although that way may not be obvious at first unless you're Dutch.\n",
      "Now is better than never.\n",
      "Although never is often better than *right* now.\n",
      "If the implementation is hard to explain, it's a bad idea.\n",
      "If the implementation is easy to explain, it may be a good idea.\n",
      "Namespaces are one honking great idea -- let's do more of those!\n"
     ]
    }
   ],
   "source": [
    "import this"
   ]
  },
  {
   "cell_type": "markdown",
   "metadata": {},
   "source": [
    "#### Ejercicio\n",
    "\n",
    "1. Crear un generador de 1000 números aleatorios pertecientes a una curva de probabilidad normal con media 1 y variancia 0.25. \n",
    "\n",
    "2. Verificar que la media y la variancia son cercanas a las esperadas (Tip: investigar las funciones del módulo `statistics`)\n"
   ]
  },
  {
   "cell_type": "code",
   "execution_count": 119,
   "metadata": {},
   "outputs": [
    {
     "data": {
      "text/plain": [
       "0.9982509327831033"
      ]
     },
     "execution_count": 119,
     "metadata": {},
     "output_type": "execute_result"
    }
   ],
   "source": [
    "sum(random.normalvariate(1, 0.25) for i in range(10000)) / 10000"
   ]
  },
  {
   "cell_type": "code",
   "execution_count": 120,
   "metadata": {
    "collapsed": true
   },
   "outputs": [],
   "source": [
    "import statistics"
   ]
  },
  {
   "cell_type": "code",
   "execution_count": 122,
   "metadata": {},
   "outputs": [
    {
     "data": {
      "text/plain": [
       "0.2503674815857074"
      ]
     },
     "execution_count": 122,
     "metadata": {},
     "output_type": "execute_result"
    }
   ],
   "source": [
    "statistics.stdev((random.normalvariate(1, 0.25) for i in range(10000)))"
   ]
  },
  {
   "cell_type": "markdown",
   "metadata": {},
   "source": [
    "## Serialización \n",
    "\n",
    "A veces queremos **serializar un objeto** cualquiera para poder recuperarlo más adelante. Si sólo nos interesa persistir y recuperar información **a nivel Python** podemos usar le módulo [`pickle`](https://docs.python.org/3.4/library/pickle.html). "
   ]
  },
  {
   "cell_type": "code",
   "execution_count": 124,
   "metadata": {
    "collapsed": true
   },
   "outputs": [],
   "source": [
    "información = ['puede', 'ser', {'casi': [], 'cualquier': 100, 'cosa': ('!',)}]\n",
    "\n",
    "import pickle\n",
    "\n",
    "info_serial =  pickle.dumps(información)"
   ]
  },
  {
   "cell_type": "code",
   "execution_count": 125,
   "metadata": {},
   "outputs": [
    {
     "data": {
      "text/plain": [
       "['puede', 'ser', {'casi': [], 'cosa': ('!',), 'cualquier': 100}]"
      ]
     },
     "execution_count": 125,
     "metadata": {},
     "output_type": "execute_result"
    }
   ],
   "source": [
    "# en sentido contrario\n",
    "pickle.loads(info_serial)"
   ]
  },
  {
   "cell_type": "code",
   "execution_count": 126,
   "metadata": {
    "collapsed": true
   },
   "outputs": [],
   "source": [
    "# O bien guardar directamente a un archivo\n",
    "\n",
    "pickle.dump(información, open('datos.pkl', 'wb'))"
   ]
  },
  {
   "cell_type": "code",
   "execution_count": 128,
   "metadata": {},
   "outputs": [
    {
     "name": "stdout",
     "output_type": "stream",
     "text": [
      "�\u0003]q\u0000(X\u0005\u0000\u0000\u0000puedeq\u0001X\u0003\u0000\u0000\u0000serq\u0002}q\u0003(X\u0004\u0000\u0000\u0000cosaq\u0004X\u0001\u0000\u0000\u0000!q\u0005�q\u0006X\t\u0000\u0000\u0000cualquierq\u0007KdX\u0004\u0000\u0000\u0000casiq\b]q\tue."
     ]
    }
   ],
   "source": [
    "!cat datos.pkl"
   ]
  },
  {
   "cell_type": "code",
   "execution_count": null,
   "metadata": {
    "collapsed": true
   },
   "outputs": [],
   "source": [
    "pickle.load(open('datos.pkl', 'rb'))"
   ]
  },
  {
   "cell_type": "markdown",
   "metadata": {},
   "source": [
    "Siempre que la clase **sea serializable** (es decir, que se base en otras clases serializables), pickle permite serializar instancias de clases arbitrarias. "
   ]
  },
  {
   "cell_type": "code",
   "execution_count": 135,
   "metadata": {},
   "outputs": [
    {
     "data": {
      "text/plain": [
       "b'\\x80\\x03c__main__\\nA\\nq\\x00)\\x81q\\x01.'"
      ]
     },
     "execution_count": 135,
     "metadata": {},
     "output_type": "execute_result"
    }
   ],
   "source": [
    "class A:\n",
    "    \"una clase que no hace absolutamente nada\"\n",
    "    dato = 45\n",
    "\n",
    "a = A()\n",
    "\n",
    "a_serializado = pickle.dumps(a)\n",
    "a_serializado"
   ]
  },
  {
   "cell_type": "code",
   "execution_count": 130,
   "metadata": {},
   "outputs": [
    {
     "data": {
      "text/plain": [
       "bytes"
      ]
     },
     "execution_count": 130,
     "metadata": {},
     "output_type": "execute_result"
    }
   ],
   "source": [
    "type(a_serializado)    # la serializados es como datos binarios \"crudos\""
   ]
  },
  {
   "cell_type": "code",
   "execution_count": 136,
   "metadata": {
    "collapsed": true
   },
   "outputs": [],
   "source": [
    "b= pickle.loads(a_serializado)"
   ]
  },
  {
   "cell_type": "code",
   "execution_count": 138,
   "metadata": {},
   "outputs": [
    {
     "data": {
      "text/plain": [
       "45"
      ]
     },
     "execution_count": 138,
     "metadata": {},
     "output_type": "execute_result"
    }
   ],
   "source": [
    "b.dato"
   ]
  },
  {
   "cell_type": "markdown",
   "metadata": {},
   "source": [
    "El objeto reconstruído tiene *el mismo estado* (es identico) al original, pero no es en sí el mismo objeto"
   ]
  },
  {
   "cell_type": "code",
   "execution_count": 139,
   "metadata": {},
   "outputs": [
    {
     "data": {
      "text/plain": [
       "False"
      ]
     },
     "execution_count": 139,
     "metadata": {},
     "output_type": "execute_result"
    }
   ],
   "source": [
    "b is a"
   ]
  },
  {
   "cell_type": "markdown",
   "metadata": {},
   "source": [
    "Un detalle importante: para poder deseralizar un objeto arbitrario, su clase debe existir en el espacio de nombres"
   ]
  },
  {
   "cell_type": "code",
   "execution_count": 140,
   "metadata": {},
   "outputs": [
    {
     "ename": "AttributeError",
     "evalue": "Can't get attribute 'A' on <module '__main__'>",
     "output_type": "error",
     "traceback": [
      "\u001b[1;31m---------------------------------------------------------------------------\u001b[0m",
      "\u001b[1;31mAttributeError\u001b[0m                            Traceback (most recent call last)",
      "\u001b[1;32m<ipython-input-140-3801b5552b00>\u001b[0m in \u001b[0;36m<module>\u001b[1;34m()\u001b[0m\n\u001b[0;32m      1\u001b[0m \u001b[1;32mdel\u001b[0m \u001b[0mA\u001b[0m    \u001b[1;31m# borramos la clase A del espacio de nombres global\u001b[0m\u001b[1;33m\u001b[0m\u001b[0m\n\u001b[1;32m----> 2\u001b[1;33m \u001b[0mpickle\u001b[0m\u001b[1;33m.\u001b[0m\u001b[0mloads\u001b[0m\u001b[1;33m(\u001b[0m\u001b[0ma_serializado\u001b[0m\u001b[1;33m)\u001b[0m\u001b[1;33m\u001b[0m\u001b[0m\n\u001b[0m",
      "\u001b[1;31mAttributeError\u001b[0m: Can't get attribute 'A' on <module '__main__'>"
     ]
    }
   ],
   "source": [
    "del A    # borramos la clase A del espacio de nombres global\n",
    "pickle.loads(a_serializado)"
   ]
  },
  {
   "cell_type": "markdown",
   "metadata": {},
   "source": [
    "**pickle** es un tipo de serialización específica para Python. Una alternativa más genérica que muchos otros lenguajes soportan (y es muy típica para compartir datos a traves de \"APIs\" en la web) es el formato [JSON](https://es.wikipedia.org/wiki/JSON), que funciona igual, pero genera una serialización en formato texto y más legible por humanos"
   ]
  },
  {
   "cell_type": "code",
   "execution_count": 141,
   "metadata": {},
   "outputs": [
    {
     "data": {
      "text/plain": [
       "'[\"puede\", \"ser\", {\"cosa\": [\"!\"], \"cualquier\": 100, \"casi\": []}]'"
      ]
     },
     "execution_count": 141,
     "metadata": {},
     "output_type": "execute_result"
    }
   ],
   "source": [
    "import json\n",
    "\n",
    "json.dumps(información)"
   ]
  },
  {
   "cell_type": "markdown",
   "metadata": {},
   "source": [
    "## Ejecutando otros \"programas\" desde jupyter y python\n",
    "\n",
    "Jupyter permite llamar a programas subyacentes preciendo el comando con un signo de exclamación "
   ]
  },
  {
   "cell_type": "code",
   "execution_count": 142,
   "metadata": {
    "collapsed": true
   },
   "outputs": [],
   "source": [
    "# !notepad   en windows\n",
    "!gedit    # abre el programa gedit en linux  "
   ]
  },
  {
   "cell_type": "code",
   "execution_count": null,
   "metadata": {
    "collapsed": true
   },
   "outputs": [],
   "source": []
  },
  {
   "cell_type": "markdown",
   "metadata": {},
   "source": [
    "Incluso podemos capturar la salida del comando y obtener una lista de textos"
   ]
  },
  {
   "cell_type": "code",
   "execution_count": 143,
   "metadata": {},
   "outputs": [
    {
     "data": {
      "text/plain": [
       "['\"La \"\"Mole\"\" Moli\",121']"
      ]
     },
     "execution_count": 143,
     "metadata": {},
     "output_type": "execute_result"
    }
   ],
   "source": [
    "mole = !cat pesos.csv | grep \"Mole\"    \n",
    "mole"
   ]
  },
  {
   "cell_type": "markdown",
   "metadata": {},
   "source": [
    "Si queremos hacer esto en \"Python puro\", por ejemplo porque queremos que una función ejecute un programa \n",
    "\n",
    "debemos usar el módulo `subprocess`"
   ]
  },
  {
   "cell_type": "code",
   "execution_count": 13,
   "metadata": {},
   "outputs": [
    {
     "data": {
      "text/plain": [
       "CompletedProcess(args=['gedit'], returncode=0)"
      ]
     },
     "execution_count": 13,
     "metadata": {},
     "output_type": "execute_result"
    }
   ],
   "source": [
    "import subprocess\n",
    "\n",
    "subprocess.run(['gedit'])"
   ]
  },
  {
   "cell_type": "code",
   "execution_count": 16,
   "metadata": {},
   "outputs": [
    {
     "data": {
      "text/plain": [
       "b'hola python, soy echo\\n'"
      ]
     },
     "execution_count": 16,
     "metadata": {},
     "output_type": "execute_result"
    }
   ],
   "source": [
    "subprocess.check_output(['echo', 'hola python, soy echo'])    # se ejecuta en el \"kernel\" (ver consola)"
   ]
  },
  {
   "cell_type": "markdown",
   "metadata": {},
   "source": [
    "## Más estructuras de datos!\n",
    "\n"
   ]
  },
  {
   "cell_type": "markdown",
   "metadata": {},
   "source": [
    "El módulo [`collections`](https://docs.python.org/3.4/library/collections.html)  tiene muchas otras clases complementarias a las listas, tuplas, diccionarios y conjuntos que ya vimos, útiles para propósitos específicos "
   ]
  },
  {
   "cell_type": "code",
   "execution_count": null,
   "metadata": {
    "collapsed": true
   },
   "outputs": [],
   "source": [
    "from collections import Counter, OrderedDict, namedtuple  #hay más!"
   ]
  },
  {
   "cell_type": "markdown",
   "metadata": {},
   "source": [
    "OrderedDict es... un diccionario que sí queda ordenado"
   ]
  },
  {
   "cell_type": "code",
   "execution_count": null,
   "metadata": {
    "collapsed": true
   },
   "outputs": [],
   "source": [
    "OrderedDict.__doc__    # para http://twitter.com/Obvio"
   ]
  },
  {
   "cell_type": "code",
   "execution_count": null,
   "metadata": {
    "collapsed": true,
    "scrolled": true
   },
   "outputs": [],
   "source": [
    "d = OrderedDict()\n",
    "d['item_1'] = 1\n",
    "d['item_2'] = '1 millon'\n",
    "d['item_3'] = None\n",
    "for par in d.items():\n",
    "    print(par)\n"
   ]
  },
  {
   "cell_type": "markdown",
   "metadata": {},
   "source": [
    "`Counter` recibe cualquier secuencia y cuenta los elementos "
   ]
  },
  {
   "cell_type": "code",
   "execution_count": null,
   "metadata": {
    "collapsed": true
   },
   "outputs": [],
   "source": [
    "contador = Counter('abracadabra')\n",
    "contador"
   ]
  },
  {
   "cell_type": "code",
   "execution_count": null,
   "metadata": {
    "collapsed": true
   },
   "outputs": [],
   "source": [
    "contador.most_common(3)"
   ]
  },
  {
   "cell_type": "markdown",
   "metadata": {},
   "source": [
    "`namedtuple` es una factory de \"tuplas con nombre\", es decir, nuevos tipos de dato que funcionan igual que una tupla, pero donde cada elemento puede tener un nombre  además de su posición. \n"
   ]
  },
  {
   "cell_type": "code",
   "execution_count": null,
   "metadata": {
    "collapsed": true
   },
   "outputs": [],
   "source": [
    "\n",
    "Raices = namedtuple('Raices', ['x1', 'x2'])\n",
    "\n",
    "\n",
    "def raices(a, b=0, c=0):\n",
    "    \"\"\"dados los coeficientes, encuentra los valores de x tal que ax^2 + bx + c = 0\"\"\"\n",
    "\n",
    "    discriminante = (b**2 - 4*a*c)**0.5\n",
    "    x1 = (-b + discriminante)/(2*a)\n",
    "    x2 = (-b - discriminante)/(2*a)\n",
    "    return Raices(x1, x2)\n",
    "\n",
    "soluciones = raices(-2, 2, 2)\n",
    "soluciones"
   ]
  },
  {
   "cell_type": "markdown",
   "metadata": {},
   "source": [
    "En el ejemplo puede no ser necesario, pero si la tupla devuelva por la función tuviera muchos elementos (y no tenemos su código a la vista), **recordar qué significado tiene cada posición** puede ser engorroso. \n",
    "\n",
    "Lo bueno es que usar una `namedtuple` no es disruptiva, porque sigue funcionando como una tupla "
   ]
  },
  {
   "cell_type": "code",
   "execution_count": null,
   "metadata": {
    "collapsed": true
   },
   "outputs": [],
   "source": [
    "soluciones[0], soluciones[1]"
   ]
  },
  {
   "cell_type": "markdown",
   "metadata": {},
   "source": [
    "Pero también se pueden pedir los valores como atributos"
   ]
  },
  {
   "cell_type": "code",
   "execution_count": null,
   "metadata": {
    "collapsed": true
   },
   "outputs": [],
   "source": [
    "soluciones.x1"
   ]
  },
  {
   "cell_type": "code",
   "execution_count": null,
   "metadata": {
    "collapsed": true
   },
   "outputs": [],
   "source": [
    "soluciones.x2"
   ]
  },
  {
   "cell_type": "markdown",
   "metadata": {},
   "source": [
    "Obviamente, como es una tupla (es inmutable), no podemos asignar los atributos"
   ]
  },
  {
   "cell_type": "code",
   "execution_count": null,
   "metadata": {
    "collapsed": true
   },
   "outputs": [],
   "source": [
    "soluciones.x1 = 10"
   ]
  },
  {
   "cell_type": "markdown",
   "metadata": {},
   "source": [
    "## Escribir programas de línea de comando\n",
    "\n",
    "\n",
    "Ya vimos que es muy simple ejecutar un módulo de python como un **script**. Simplemente hay que pasar como parámetro al ejecutable python el módulo en cuestión \n",
    "\n",
    "    python archivo.py\n"
   ]
  },
  {
   "cell_type": "code",
   "execution_count": 146,
   "metadata": {},
   "outputs": [
    {
     "name": "stdout",
     "output_type": "stream",
     "text": [
      "Overwriting ejemplo_script.py\n"
     ]
    }
   ],
   "source": [
    "%%writefile ejemplo_script.py\n",
    "\n",
    "saludo = \"Hola Mundo\"\n",
    "\n",
    "print(saludo)"
   ]
  },
  {
   "cell_type": "code",
   "execution_count": 147,
   "metadata": {},
   "outputs": [
    {
     "name": "stdout",
     "output_type": "stream",
     "text": [
      "Hola Mundo\r\n"
     ]
    }
   ],
   "source": [
    "!python ejemplo_script.py"
   ]
  },
  {
   "cell_type": "markdown",
   "metadata": {},
   "source": [
    "El tema es que si importamos ese módulo desde la sesión interactiva o desde otro módulo, tambien se ejecutará todo el código que defina"
   ]
  },
  {
   "cell_type": "code",
   "execution_count": 148,
   "metadata": {},
   "outputs": [
    {
     "name": "stdout",
     "output_type": "stream",
     "text": [
      "Hola Mundo\n",
      "Hola Mundo\n"
     ]
    }
   ],
   "source": [
    "from ejemplo_script import saludo\n",
    "print(saludo)"
   ]
  },
  {
   "cell_type": "markdown",
   "metadata": {},
   "source": [
    "A veces queremos que **se ejecute algo sólo cuando lo invocamos como script** y no cuando lo importamos. \n",
    "\n",
    "Para eso podemos valernos de que Python asigna el nombre `__main__` al módulo principal con que fue llamado, en la variable global `__name__`"
   ]
  },
  {
   "cell_type": "code",
   "execution_count": 149,
   "metadata": {},
   "outputs": [
    {
     "name": "stdout",
     "output_type": "stream",
     "text": [
      "Overwriting ejemplo_script2.py\n"
     ]
    }
   ],
   "source": [
    "%%writefile ejemplo_script2.py\n",
    "\n",
    "saludo = \"Hola Mundo\"\n",
    "\n",
    "if __name__ == '__main__':\n",
    "    # esto se ejecuta solo cuando el modulo se llama como script\n",
    "    # no cuando se importa desde otro modulo o desde la sesion interactiva\n",
    "    print(saludo)"
   ]
  },
  {
   "cell_type": "code",
   "execution_count": 151,
   "metadata": {},
   "outputs": [
    {
     "data": {
      "text/plain": [
       "'Hola'"
      ]
     },
     "execution_count": 151,
     "metadata": {},
     "output_type": "execute_result"
    }
   ],
   "source": [
    "from ejemplo_script2 import saludo\n",
    "saludo[:4]"
   ]
  },
  {
   "cell_type": "code",
   "execution_count": 150,
   "metadata": {},
   "outputs": [
    {
     "name": "stdout",
     "output_type": "stream",
     "text": [
      "Hola Mundo\r\n"
     ]
    }
   ],
   "source": [
    "!python ejemplo_script2.py"
   ]
  },
  {
   "cell_type": "markdown",
   "metadata": {},
   "source": [
    "Si bien un programa de linea de comandos puede solicitar información al usuario interactivamente (por ejemplo, a utilizando la función `input()`), lo más típico es que los argumentos se pasen directamente en la llamada\n",
    "\n",
    "    python mi_programa.py <parametro> [parametro 2]\n",
    "    \n",
    "    \n",
    "Python guarda todos los argumentos pasados (incluyendo el nombre del propio módulo) en una lista llamada `argv` del módulo `sys`"
   ]
  },
  {
   "cell_type": "code",
   "execution_count": 152,
   "metadata": {},
   "outputs": [
    {
     "name": "stdout",
     "output_type": "stream",
     "text": [
      "Overwriting ejemplo_argv.py\n"
     ]
    }
   ],
   "source": [
    "%%writefile ejemplo_argv.py\n",
    "\n",
    "if __name__ == '__main__':\n",
    "    import sys\n",
    "    print(sys.argv)"
   ]
  },
  {
   "cell_type": "code",
   "execution_count": 157,
   "metadata": {},
   "outputs": [
    {
     "name": "stdout",
     "output_type": "stream",
     "text": [
      "Overwriting suma.py\n"
     ]
    }
   ],
   "source": [
    "%%writefile suma.py\n",
    "\n",
    "if __name__ == '__main__':\n",
    "    import sys\n",
    "    print(sum([int(numero) for numero in sys.argv[1:]]))"
   ]
  },
  {
   "cell_type": "code",
   "execution_count": 161,
   "metadata": {},
   "outputs": [
    {
     "name": "stdout",
     "output_type": "stream",
     "text": [
      "78\r\n"
     ]
    }
   ],
   "source": [
    "!python suma.py 10 34 34"
   ]
  },
  {
   "cell_type": "code",
   "execution_count": 154,
   "metadata": {},
   "outputs": [
    {
     "name": "stdout",
     "output_type": "stream",
     "text": [
      "['ejemplo_argv.py', '--allthenight', '--shampein', '--myidol']\r\n"
     ]
    }
   ],
   "source": [
    "!python ejemplo_argv.py --allthenight --shampein --myidol"
   ]
  },
  {
   "cell_type": "markdown",
   "metadata": {},
   "source": [
    "Para parámetros muy simples podemos buscar valores directamente en esta lista, por ejemplo:\n",
    "\n",
    "      if '--allthenigh' in sys.argv:\n",
    "           room.append(cristal)\n",
    "           \n",
    "Pero la mayoría de las veces los argumentos posibles son más complejos y se requiere una **librería para procesar los argumentos** dados, convertirlos a un tipo de datos particular, asignar valores defaults a aquellos parametros que no se explicitaron, generar un resumen de la opciones disponibles a modo de ayuda, etc. \n",
    "\n",
    "Para esto se puede usar el módulo [`argparse`](https://docs.python.org/3/library/argparse.html#module-argparse)\n",
    "\n",
    "\n"
   ]
  },
  {
   "cell_type": "code",
   "execution_count": 162,
   "metadata": {},
   "outputs": [
    {
     "name": "stdout",
     "output_type": "stream",
     "text": [
      "Overwriting prog.py\n"
     ]
    }
   ],
   "source": [
    "%%writefile prog.py\n",
    "\n",
    "import argparse\n",
    "\n",
    "if __name__ == '__main__':\n",
    "\n",
    "    parser = argparse.ArgumentParser(description='Procesa una lista de enteros')\n",
    "    # uno o mas argumentos. se acumulan en una lista\n",
    "    parser.add_argument('enteros', metavar='N', type=int, nargs='+',        \n",
    "                       help='an integer for the accumulator')\n",
    "    parser.add_argument('--sum', dest='operacion', action='store_const',    # si se pasa --sum se usará const \n",
    "                       const=sum, default=max,                              # en vez de default\n",
    "                       help='sum the integers (default: find the max)')\n",
    "\n",
    "    args = parser.parse_args()\n",
    "    print(args.operacion(args.enteros))"
   ]
  },
  {
   "cell_type": "code",
   "execution_count": 163,
   "metadata": {},
   "outputs": [
    {
     "name": "stdout",
     "output_type": "stream",
     "text": [
      "usage: prog.py [-h] [--sum] N [N ...]\r\n",
      "prog.py: error: the following arguments are required: N\r\n"
     ]
    }
   ],
   "source": [
    "!python3 prog.py"
   ]
  },
  {
   "cell_type": "code",
   "execution_count": 164,
   "metadata": {},
   "outputs": [
    {
     "name": "stdout",
     "output_type": "stream",
     "text": [
      "usage: prog.py [-h] [--sum] N [N ...]\r\n",
      "\r\n",
      "Procesa una lista de enteros\r\n",
      "\r\n",
      "positional arguments:\r\n",
      "  N           an integer for the accumulator\r\n",
      "\r\n",
      "optional arguments:\r\n",
      "  -h, --help  show this help message and exit\r\n",
      "  --sum       sum the integers (default: find the max)\r\n"
     ]
    }
   ],
   "source": [
    "!python3 prog.py -h"
   ]
  },
  {
   "cell_type": "code",
   "execution_count": 166,
   "metadata": {},
   "outputs": [
    {
     "name": "stdout",
     "output_type": "stream",
     "text": [
      "163\r\n"
     ]
    }
   ],
   "source": [
    "!python3 prog.py 10 2 45 106 --sum"
   ]
  }
 ],
 "metadata": {
  "kernelspec": {
   "display_name": "Python 3",
   "language": "python",
   "name": "python3"
  },
  "language_info": {
   "codemirror_mode": {
    "name": "ipython",
    "version": 3
   },
   "file_extension": ".py",
   "mimetype": "text/x-python",
   "name": "python",
   "nbconvert_exporter": "python",
   "pygments_lexer": "ipython3",
   "version": "3.6.1"
  }
 },
 "nbformat": 4,
 "nbformat_minor": 1
}
